{
 "cells": [
  {
   "cell_type": "markdown",
   "metadata": {},
   "source": [
    "In this module, we learn the multifaceted use of underscore \"\\_\" in Python. Many of the Python Developers don't know about the functionalities of underscore in Python. It helps users to write Python code productively. We now go over some tricks involving the use of underscores."
   ]
  },
  {
   "cell_type": "markdown",
   "metadata": {},
   "source": [
    "To start with, underscore itself can be used as a variable or name:"
   ]
  },
  {
   "cell_type": "code",
   "execution_count": 20,
   "metadata": {},
   "outputs": [
    {
     "data": {
      "text/plain": [
       "9"
      ]
     },
     "execution_count": 20,
     "metadata": {},
     "output_type": "execute_result"
    }
   ],
   "source": [
    "_=5+4\n",
    "_"
   ]
  },
  {
   "cell_type": "code",
   "execution_count": 30,
   "metadata": {},
   "outputs": [
    {
     "name": "stdout",
     "output_type": "stream",
     "text": [
      "5\n"
     ]
    }
   ],
   "source": [
    "a,_,c=(1,5,6)\n",
    "print(_)"
   ]
  },
  {
   "cell_type": "markdown",
   "metadata": {},
   "source": [
    "Underscores can be used in loops:"
   ]
  },
  {
   "cell_type": "code",
   "execution_count": 27,
   "metadata": {},
   "outputs": [
    {
     "name": "stdout",
     "output_type": "stream",
     "text": [
      "0 Done!\n",
      "1 Done!\n",
      "2 Done!\n"
     ]
    }
   ],
   "source": [
    "for _ in range(3):\n",
    "    print(_, \"Done!\")"
   ]
  },
  {
   "cell_type": "code",
   "execution_count": 25,
   "metadata": {},
   "outputs": [
    {
     "name": "stdout",
     "output_type": "stream",
     "text": [
      "0.0\n",
      "2.1\n",
      "4.2\n",
      "6.300000000000001\n"
     ]
    }
   ],
   "source": [
    "for _ in range(4):\n",
    "    _*=2.1\n",
    "    print(_)"
   ]
  },
  {
   "cell_type": "code",
   "execution_count": 19,
   "metadata": {},
   "outputs": [
    {
     "name": "stdout",
     "output_type": "stream",
     "text": [
      "1\n",
      "['string', 3]\n",
      "4\n"
     ]
    }
   ],
   "source": [
    "a,*_,b=(1,'string',3,4)\n",
    "print(a)\n",
    "print(_)\n",
    "print(b)"
   ]
  },
  {
   "cell_type": "markdown",
   "metadata": {},
   "source": [
    "You can also use underscores to separate digits of numbers so that it's more readable:"
   ]
  },
  {
   "cell_type": "code",
   "execution_count": 24,
   "metadata": {},
   "outputs": [
    {
     "name": "stdout",
     "output_type": "stream",
     "text": [
      "1000000000\n"
     ]
    }
   ],
   "source": [
    "c=1_000_000_000\n",
    "print(c)"
   ]
  },
  {
   "cell_type": "markdown",
   "metadata": {},
   "source": [
    "You can put the underscore at the beginning for a function name, such as \\_my_func(). However, We discourage the use of this because if you define a function outside the Jupyter notebook (say you define a function called \\_private_function() in a \".py\" file named \"outfilefunc.py\"), and if you import all the methods and names from that \".py\" file through the following syntax, Python doesn't import the names which starts with a single pre underscore:\n",
    "\n",
    "    from outfilefunc import *\n",
    "    \n",
    "Instead, you need to do this:\n",
    "\n",
    "    import outfilefunc\n",
    "     \n",
    "The key here is that leading (single) underscores do impact how names get imported from modules. So try to avoid using it if you can. \n",
    "\n",
    "You can put the underscore after a normal name. Here is a scenario: say the most fitting name for a variable is already taken by a keyword. Therefore names like 'class' or 'def' cannot be used as variable names in Python. In this case you can append a single underscore to break the naming conflict:"
   ]
  },
  {
   "cell_type": "code",
   "execution_count": 31,
   "metadata": {},
   "outputs": [
    {
     "name": "stdout",
     "output_type": "stream",
     "text": [
      "Boom Boom!\n"
     ]
    }
   ],
   "source": [
    "def def_(class_):\n",
    "    print(class_, 'Boom!')\n",
    "def_('Boom')"
   ]
  },
  {
   "cell_type": "markdown",
   "metadata": {},
   "source": [
    "Now let's talk about leading double underscores. The naming patterns we covered so far received their meaning from agreed upon conventions only. With Python class attributes (variables and methods) that start with double underscores, things are a little different. A double underscore prefix alone causes the Python interpreter to rewrite the attribute name in order to avoid naming conflicts in subclasses. This is also called **name mangling**—the interpreter changes the name of the variable in a way that makes it harder to create collisions when the class is extended later.\n",
    "\n",
    "This is a bit abstract, let's use an example. Here we create a class called 'Test' that has 3 user-define attributes. Let’s take a look at all of the attributes on this object using the built-in dir() function:"
   ]
  },
  {
   "cell_type": "code",
   "execution_count": 33,
   "metadata": {},
   "outputs": [
    {
     "name": "stdout",
     "output_type": "stream",
     "text": [
      "['_Test__baz', '__class__', '__delattr__', '__dict__', '__dir__', '__doc__', '__eq__', '__format__', '__ge__', '__getattribute__', '__gt__', '__hash__', '__init__', '__init_subclass__', '__le__', '__lt__', '__module__', '__ne__', '__new__', '__reduce__', '__reduce_ex__', '__repr__', '__setattr__', '__sizeof__', '__str__', '__subclasshook__', '__weakref__', '_bar', 'foo']\n"
     ]
    }
   ],
   "source": [
    "class Test:\n",
    "    def __init__(self):\n",
    "        self.foo = 11\n",
    "        self._bar = 23\n",
    "        self.__baz = 23\n",
    "\n",
    "t1 = Test()\n",
    "print(dir(t1))"
   ]
  },
  {
   "cell_type": "markdown",
   "metadata": {},
   "source": [
    "This gives us a list with the object’s attributes. Let’s take this list and look for our original variable names foo, \\_bar, and __baz.\n",
    "\n",
    "   1. The self.foo variable appears unmodified as foo in the attribute list.\n",
    "   2. The self.\\_bar behaves the same way—it shows up on the class as \\_bar. The leading underscore is just a convention in this case, hint for the programmer.\n",
    "   3. However with self.__baz, things look a little different. When we search for __baz in that list we’ll see that there is no variable with that name.\n",
    "\n",
    "So what happened to __baz?\n",
    "\n",
    "If you look closely you’ll see there’s an attribute called \\_Test__baz on this object. This is the name mangling that the Python interpreter applies. It does this to protect the variable from getting overridden in subclasses.\n",
    "\n",
    "Does name mangling also apply to method names? It sure does—name mangling affects all names that start with two underscore characters (“dunders”) in a class context. The important conclusion here is that name mangling isn’t tied to class attributes specifically. It applies to any name starting with two underscore characters used in a class context.\n",
    "\n",
    "On a side note, double underscores are often referred to as “dunders” in the Python community. The reason is that double underscores appear quite often in Python code and to avoid fatiguing their jaw muscles Pythonistas often shorten “double underscore” to “dunder.”"
   ]
  },
  {
   "cell_type": "code",
   "execution_count": 35,
   "metadata": {},
   "outputs": [
    {
     "name": "stdout",
     "output_type": "stream",
     "text": [
      "AttributeError:'MangledMethod' object has no attribute '__method'\n"
     ]
    }
   ],
   "source": [
    "class MangledMethod:\n",
    "    def __methods(self):\n",
    "        return 42\n",
    "\n",
    "    def call_it(self):\n",
    "        return self.__method()\n",
    "\n",
    "try:\n",
    "    MangledMethod().__methods()\n",
    "except AttributeError:\n",
    "    print( \"AttributeError:'MangledMethod' object has no attribute '__method'\")"
   ]
  },
  {
   "cell_type": "markdown",
   "metadata": {},
   "source": [
    "Lastly, perhaps surprisingly, name mangling is not applied if a name starts and ends with double underscores. Variables surrounded by a double underscore prefix and postfix are left unscathed by the Python interpeter:"
   ]
  },
  {
   "cell_type": "code",
   "execution_count": 36,
   "metadata": {},
   "outputs": [
    {
     "data": {
      "text/plain": [
       "42"
      ]
     },
     "execution_count": 36,
     "metadata": {},
     "output_type": "execute_result"
    }
   ],
   "source": [
    "class Test2:\n",
    "    def __init__(self):\n",
    "        self.__bam__ = 42\n",
    "\n",
    "t2=Test2()\n",
    "t2.__bam__"
   ]
  },
  {
   "cell_type": "markdown",
   "metadata": {},
   "source": [
    "However, names that have both leading and trailing double underscores are reserved for special use in the language. This rule covers things like \\_\\_init\\_\\_ for object constructors, or \\_\\_call\\_\\_ to make an object callable. Some people call these magic methods. It’s always best to stay away from using names that start and end with double underscores (dunders) in your own programs to avoid collisions with future changes to the Python language."
   ]
  },
  {
   "cell_type": "markdown",
   "metadata": {},
   "source": [
    "References:\n",
    "   - https://www.datacamp.com/community/tutorials/role-underscore-python\n",
    "   - https://dbader.org/blog/meaning-of-underscores-in-python "
   ]
  },
  {
   "cell_type": "code",
   "execution_count": null,
   "metadata": {},
   "outputs": [],
   "source": []
  }
 ],
 "metadata": {
  "kernelspec": {
   "display_name": "Python 3",
   "language": "python",
   "name": "python3"
  },
  "language_info": {
   "codemirror_mode": {
    "name": "ipython",
    "version": 3
   },
   "file_extension": ".py",
   "mimetype": "text/x-python",
   "name": "python",
   "nbconvert_exporter": "python",
   "pygments_lexer": "ipython3",
   "version": "3.7.1"
  }
 },
 "nbformat": 4,
 "nbformat_minor": 2
}
