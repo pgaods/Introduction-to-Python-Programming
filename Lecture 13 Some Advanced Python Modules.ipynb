{
 "cells": [
  {
   "cell_type": "markdown",
   "metadata": {},
   "source": [
    "In this lecture we go over some commmon modules in Python that are widely used in data science and automation tasks.\n",
    "\n",
    "We first go over the 'collections' module. The 'collections' module is a built-in module that implements specialized container data types providing alternatives to Python’s general purpose built-in containers. We've already gone over the basics: dictionaries, lists, sets, and tuples. Simply put, this module basically adds more advanced data types.\n",
    "\n",
    "To introduce new types of objects, we first study a new concept. In computer science, a **container** is a class, a data structure, or an abstract data type (ADT) whose instances are collections of other objects. In other words, they store objects in an organized way that follows specific access rules. The size of the container depends on the number of objects (elements) it contains. Underlying (inherited) implementations of various container types may vary in size and complexity, and provide flexibility in choosing the right implementation for any given scenario.\n",
    "\n",
    "We first go over the 'Counter' data type. A 'Counter' is a dictionary subclass which helps count hash-able objects. Inside of it elements are stored as dictionary keys and the counts of the objects are stored as the value. To create a 'Counter' object, you will need to use the Counter() function within the 'collections' module."
   ]
  },
  {
   "cell_type": "code",
   "execution_count": 1,
   "metadata": {},
   "outputs": [
    {
     "name": "stdout",
     "output_type": "stream",
     "text": [
      "Counter({5: 5, 1: 4, 2: 3, 7: 3, 4: 1, 0: 1, 55: 1})\n",
      "<class 'collections.Counter'>\n"
     ]
    }
   ],
   "source": [
    "from collections import Counter\n",
    "l1=[1,1,1,1,2,2,2,4,0,55,5,5,5,5,5,7,7,7]\n",
    "c1=Counter(l1)\n",
    "print(c1)\n",
    "print(type(c1))"
   ]
  },
  {
   "cell_type": "code",
   "execution_count": 2,
   "metadata": {},
   "outputs": [
    {
     "data": {
      "text/plain": [
       "Counter({'How': 1,\n",
       "         'many': 1,\n",
       "         'times': 2,\n",
       "         'does': 1,\n",
       "         'each': 3,\n",
       "         'word': 3,\n",
       "         'show': 1,\n",
       "         'up': 1,\n",
       "         'in': 1,\n",
       "         'this': 1,\n",
       "         'sentence': 1})"
      ]
     },
     "execution_count": 2,
     "metadata": {},
     "output_type": "execute_result"
    }
   ],
   "source": [
    "s = 'How many times does each word show up in this sentence word times each each word'\n",
    "words = s.split()\n",
    "Counter(words)"
   ]
  },
  {
   "cell_type": "markdown",
   "metadata": {},
   "source": [
    "Essentiall, you can think of 'Counter' as a cheap 'proc freq' in SAS:"
   ]
  },
  {
   "cell_type": "code",
   "execution_count": 3,
   "metadata": {},
   "outputs": [
    {
     "name": "stdout",
     "output_type": "stream",
     "text": [
      "Counter({'a': 3, 'h': 3, 'b': 2, 'j': 2, 'c': 1, 'd': 1})\n",
      "a : 3\n",
      "b : 2\n",
      "c : 1\n",
      "d : 1\n",
      "j : 2\n",
      "e : 0\n",
      "q : 0\n",
      "q : 0\n"
     ]
    }
   ],
   "source": [
    "c2 = Counter('abcdaajhhhjb')\n",
    "print(c2)\n",
    "for letter in 'abcdjeqq':\n",
    "    print ('%s : %d' % (letter, c2[letter]))"
   ]
  },
  {
   "cell_type": "markdown",
   "metadata": {},
   "source": [
    "There are also methods associated with 'Counter' objects. For example, the most_common(n) method can help us find the n-most common elements within an object:"
   ]
  },
  {
   "cell_type": "code",
   "execution_count": 4,
   "metadata": {},
   "outputs": [
    {
     "name": "stdout",
     "output_type": "stream",
     "text": [
      "Counter({'each': 3, 'word': 3, 'times': 2, 'How': 1, 'many': 1, 'does': 1, 'show': 1, 'up': 1, 'in': 1, 'this': 1, 'sentence': 1})\n",
      "[('each', 3), ('word', 3)]\n",
      "[('each', 3), ('word', 3), ('times', 2)]\n",
      "[('sentence', 1), ('this', 1)]\n"
     ]
    }
   ],
   "source": [
    "c3 = Counter(words)\n",
    "print(c3)\n",
    "print(c3.most_common(2)) # find the 2 most common words\n",
    "print(c3.most_common(3)) # find the 2 most common words\n",
    "print(c3.most_common()[:-3:-1]) # find the 2 least common words"
   ]
  },
  {
   "cell_type": "markdown",
   "metadata": {},
   "source": [
    "There are certainly other methods associated with the 'Counter' objects other than most_common(). Below are some examples:"
   ]
  },
  {
   "cell_type": "code",
   "execution_count": 5,
   "metadata": {},
   "outputs": [
    {
     "name": "stdout",
     "output_type": "stream",
     "text": [
      "16\n",
      "['How', 'many', 'times', 'does', 'each', 'word', 'show', 'up', 'in', 'this', 'sentence']\n",
      "{'word', 'sentence', 'up', 'many', 'this', 'How', 'does', 'times', 'show', 'in', 'each'}\n",
      "{'How': 1, 'many': 1, 'times': 2, 'does': 1, 'each': 3, 'word': 3, 'show': 1, 'up': 1, 'in': 1, 'this': 1, 'sentence': 1}\n",
      "dict_items([('How', 1), ('many', 1), ('times', 2), ('does', 1), ('each', 3), ('word', 3), ('show', 1), ('up', 1), ('in', 1), ('this', 1), ('sentence', 1)])\n",
      "None\n"
     ]
    }
   ],
   "source": [
    "print(sum(c3.values())) # calculating the total of all counts\n",
    "print(list(c3)) # this creates a list of unique elements \n",
    "print(set(c3)) # this creates a set of unique elements \n",
    "print(dict(c3)) # this creates a dictionary for elements in the 'Counter' object\n",
    "print(c3.items()) # this converts the 'Counter' object to a list of (elem, cnt) pairs\n",
    "print(c3.clear()) # resetting all counts"
   ]
  },
  {
   "cell_type": "markdown",
   "metadata": {},
   "source": [
    "Besides the 'Counter' object, there are other interesting objects in the 'collections' module. One particular example is the 'defaultdict' object, which is a dictionary-like object which provides all methods provided by dictionaries but takes first argument (default_factory) as default data type for the dictionary. To motivate this type of object, let's first go back to the dictionary object. Recall that dictionaries are a convenient way to store data for later retrieval by names (keys). Keys must be unique, immutable objects, and are typically strings. The values in a dictionary can be anything. For many applications the values are simple types such as integers and strings.\n",
    "\n",
    "It gets more interesting when the values in a dictionary are collections (lists, dicts, etc.) In this case, the value (an empty list or dict) must be initialized the first time a given key is used. While this is relatively easy to do manually, the 'defaultdict' type automates and simplifies these kinds of operations. A 'defaultdict' object works exactly like a normal dictionary, but it is initialized with a function ('default factory') that takes no arguments and provides the default value for a nonexistent key. A 'defaultdict' will never raise a 'KeyError'. Any key that does not exist gets the value returned by the default factory.\n",
    "\n",
    "Let's see some examples. Let's first create a normal dictionary to illustrate what is a 'KeyError'. Below, we create a normal dictionary called 'd1' with three keys. As usual, if we reference, or index the correct key, we can get its corresponding value. But if we reference a key that does not exist (say 'k4'), then Python will error:"
   ]
  },
  {
   "cell_type": "code",
   "execution_count": 6,
   "metadata": {},
   "outputs": [
    {
     "name": "stdout",
     "output_type": "stream",
     "text": [
      "1\n",
      "Sarah\n",
      "You are printing a key that does not exist at this moment!\n",
      "k1\n",
      "k2\n",
      "k3\n"
     ]
    }
   ],
   "source": [
    "d1={'k1':1, 'k2':94, 'k3':'Sarah'}\n",
    "print(d1['k1'])\n",
    "print(d1['k3'])\n",
    "try:\n",
    "    print(d1['k4'])\n",
    "except KeyError:\n",
    "    print('You are printing a key that does not exist at this moment!')\n",
    "for item in d1:\n",
    "    print(item)"
   ]
  },
  {
   "cell_type": "markdown",
   "metadata": {},
   "source": [
    "Now by using the 'defaultdict' object, we don't have to worry about this type of error. The argument of the defaultdict() must be a function name. Recall that the object() function returns a featureless object which is a base for all classes. By doing this, we won't raise an error. "
   ]
  },
  {
   "cell_type": "code",
   "execution_count": 7,
   "metadata": {},
   "outputs": [
    {
     "name": "stdout",
     "output_type": "stream",
     "text": [
      "<object object at 0x00000202CB394820>\n",
      "('k4', 'k5', 'k6')\n"
     ]
    }
   ],
   "source": [
    "from collections import defaultdict\n",
    "d2 = defaultdict(object)\n",
    "print(d2['k4', 'k5', 'k6'] )\n",
    "for item in d2:\n",
    "    print(item)"
   ]
  },
  {
   "cell_type": "markdown",
   "metadata": {},
   "source": [
    "Now as another example, suppose we use the int() function as the defaultdict() function's argument. Recall that the int() method returns an integer object from any number or string. This will default the value to 0 because int() (no parameters) will return a zero. On the other hand, if we use a list() function, we will have an empty list. This is because for the list() function, if no parameters are passed, the function list() returns an empty list. "
   ]
  },
  {
   "cell_type": "code",
   "execution_count": 8,
   "metadata": {},
   "outputs": [
    {
     "name": "stdout",
     "output_type": "stream",
     "text": [
      "0\n",
      "[]\n",
      "12\n"
     ]
    }
   ],
   "source": [
    "d3 = defaultdict(int)\n",
    "print(d3['k4'] )\n",
    "d4 = defaultdict(list)\n",
    "print(d4['k4'] )\n",
    "d5 = defaultdict(int, a=10, b=12, c=13)\n",
    "print(d5['b'])"
   ]
  },
  {
   "cell_type": "markdown",
   "metadata": {},
   "source": [
    "The 'defaultdict' object is often used in conjunction with lambda expressions. "
   ]
  },
  {
   "cell_type": "code",
   "execution_count": 9,
   "metadata": {},
   "outputs": [
    {
     "name": "stdout",
     "output_type": "stream",
     "text": [
      "9\n"
     ]
    }
   ],
   "source": [
    "d6 = defaultdict(lambda: 9) # directly assigning the number 9\n",
    "print(d6['k1'] )"
   ]
  },
  {
   "cell_type": "markdown",
   "metadata": {},
   "source": [
    "We now move on to the next subject about ordered dictionaries. An 'OrderedDict' is a dictionary subclass that remembers the order in which its contents are added. A normal dictionary is just a mapping but it does not necessarily retain the order. In contrast, an ordered dictionary retains the order. Let's compare an ordinary dictionary with an ordered dictionary:"
   ]
  },
  {
   "cell_type": "code",
   "execution_count": 10,
   "metadata": {},
   "outputs": [
    {
     "name": "stdout",
     "output_type": "stream",
     "text": [
      "Normal Dictionary:\n",
      "a A\n",
      "b B\n",
      "e E\n",
      "c C\n",
      "d D\n",
      "{'a': 'A', 'b': 'B', 'e': 'E', 'c': 'C', 'd': 'D'}\n",
      "\n",
      "An Ordered Dictionary:\n",
      "a A\n",
      "b B\n",
      "c C\n",
      "d D\n",
      "e E\n",
      "OrderedDict([('a', 'A'), ('b', 'B'), ('c', 'C'), ('d', 'D'), ('e', 'E')])\n"
     ]
    }
   ],
   "source": [
    "print('Normal Dictionary:')\n",
    "d = {}\n",
    "d['a'] = 'A' # assigning values with keys\n",
    "d['b'] = 'B'\n",
    "d['e'] = 'E'\n",
    "d['c'] = 'C'\n",
    "d['d'] = 'D'\n",
    "for k, v in d.items():\n",
    "    print(k, v)\n",
    "print(d)\n",
    "\n",
    "print('\\nAn Ordered Dictionary:')\n",
    "import collections\n",
    "od = collections.OrderedDict()\n",
    "od['a'] = 'A'\n",
    "od['b'] = 'B'\n",
    "od['c'] = 'C'\n",
    "od['d'] = 'D'\n",
    "od['e'] = 'E'\n",
    "for k, v in od.items():\n",
    "    print(k, v)\n",
    "print(od)"
   ]
  },
  {
   "cell_type": "markdown",
   "metadata": {},
   "source": [
    "In the example above (which is not the best example in our current case), the normal dictionary 'd' has its values sequentially added but the dictionary itself does not necessarily always remember the order with which each value is added. Depending on different versions of Python, you may see d={'a': 'A', 'b': 'B', 'e': 'E', 'c': 'C', 'd': 'D'}, or d={'a': 'A', 'b': 'B', 'c': 'C', 'd': 'D', 'e': 'E'}. In contrast, the ordered dictionary does remember the order. To further illustrate this issue, we can create a simple boolean logic to test whether two dictionaries with different orders are the same. If you have a normal dictionary, you will see the order does not matter, whereas for ordered dictionary the order does matter:"
   ]
  },
  {
   "cell_type": "code",
   "execution_count": 11,
   "metadata": {},
   "outputs": [
    {
     "name": "stdout",
     "output_type": "stream",
     "text": [
      "\n",
      "Compare ordered dictionary:  OrderedDict([('a', 'A'), ('b', 'B')]) OrderedDict([('b', 'B'), ('a', 'A')])  Is d1==d2?\n",
      "False\n",
      "\n",
      "Compare normal dictionary:  {'a': 'A', 'b': 'B'} {'b': 'B', 'a': 'A'}  Is d3==d4?\n",
      "True\n"
     ]
    }
   ],
   "source": [
    "d1 = collections.OrderedDict()\n",
    "d1['a'] = 'A'\n",
    "d1['b'] = 'B'\n",
    "d2 = collections.OrderedDict()\n",
    "d2['b'] = 'B'\n",
    "d2['a'] = 'A'\n",
    "print('\\nCompare ordered dictionary: ', d1, d2, ' Is d1==d2?')\n",
    "print(d1 == d2)\n",
    "\n",
    "d3={}\n",
    "d3['a'] = 'A'\n",
    "d3['b'] = 'B'\n",
    "d4={}\n",
    "d4['b'] = 'B'\n",
    "d4['a'] = 'A'\n",
    "print('\\nCompare normal dictionary: ', d3, d4, ' Is d3==d4?')\n",
    "print(d3==d4)"
   ]
  },
  {
   "cell_type": "markdown",
   "metadata": {},
   "source": [
    "As you see above, d3 and d4 are just mappings, so order does not matter. But d1 d2 are more than just a mapping. So order does matter. "
   ]
  },
  {
   "cell_type": "markdown",
   "metadata": {},
   "source": [
    "We now examine another new object called 'namedtuple'. To understand what this is about, let's start with a standard tuple object as an example. The standard tuple uses numerical indexes to access its members, for example:"
   ]
  },
  {
   "cell_type": "code",
   "execution_count": 12,
   "metadata": {},
   "outputs": [
    {
     "name": "stdout",
     "output_type": "stream",
     "text": [
      "0 12\n",
      "1 13\n",
      "2 14\n"
     ]
    }
   ],
   "source": [
    "t = (12,13,14)\n",
    "for i in [0,1,2]:\n",
    "    print(i, t[i])"
   ]
  },
  {
   "cell_type": "markdown",
   "metadata": {},
   "source": [
    "For a small tuple like the example above, we can easily index it to extract information from it (say t[0]). However, sometimes the tuple may be big and complex and it's hard to find that index. This is where the 'namedtuple' comes in handy.\n",
    "\n",
    "A 'namedtuple' assigns a name as well as a numeric index to a tuple. The way one can think of a 'namedtuple' is like creating a class very quickly. So each kind of 'namedtuple' is represented by its own class, created by using the namedtuple() factory function. The arguments are the name of the new class and a string containing the names of the elements. This is why you can basically think of a 'namedtuple' object as a very quick way of creating a new object/class type with some attribute fields. For example, below we are creating a 'namedtuple' object called 'Dog'. It has attributes (separated by a blank space in a quotation mark) including age, breed, and name:"
   ]
  },
  {
   "cell_type": "code",
   "execution_count": 13,
   "metadata": {},
   "outputs": [
    {
     "name": "stdout",
     "output_type": "stream",
     "text": [
      "<class 'type'>\n",
      "Dog(age=2, breed='Bulldog', name='Sammy')\n",
      "Dog(age=16, breed='Shepard', name='Frankie')\n",
      "<class '__main__.Dog'>\n",
      "<class '__main__.Dog'>\n"
     ]
    }
   ],
   "source": [
    "from collections import namedtuple\n",
    "Dog = namedtuple('Dog','age breed name') # the first argument is the name of the class created and the second is a string of attributes separated by a blank space\n",
    "print(type(Dog))\n",
    "dog1 = Dog(age=2,breed='Bulldog',name='Sammy')\n",
    "dog2 = Dog(age=16,breed='Shepard',name=\"Frankie\")\n",
    "print(dog1)\n",
    "print(dog2)\n",
    "print(type(dog1))\n",
    "print(type(dog2))"
   ]
  },
  {
   "cell_type": "markdown",
   "metadata": {},
   "source": [
    "Basically, we have constructed the a 'namedtuple' object by first passing the object type name (Dog) and then passing a string with the variety of fields as a string with spaces between the field names. We can then call on the various attributes like below either through the attributes or numeric indices:"
   ]
  },
  {
   "cell_type": "code",
   "execution_count": 14,
   "metadata": {},
   "outputs": [
    {
     "name": "stdout",
     "output_type": "stream",
     "text": [
      "2\n",
      "Sammy\n",
      "Bulldog\n",
      "16\n"
     ]
    }
   ],
   "source": [
    "print(dog1.age)\n",
    "print(dog1.name)\n",
    "print(dog1[1])\n",
    "print(dog2[0])"
   ]
  },
  {
   "cell_type": "markdown",
   "metadata": {
    "collapsed": true
   },
   "source": [
    "In a nutshell, 'namedtuple' instances are just as memory efficient as regular tuples because they do not have per-instance dictionaries. Each kind of 'namedtuple' is represented by its own class, created by using the namedtuple() factory function. "
   ]
  },
  {
   "cell_type": "markdown",
   "metadata": {
    "collapsed": true
   },
   "source": [
    "We now go over one of the most important modules for data scientists, called 'numpy'. The 'numPy' module is an open-source add-on module to Python that provides common mathematical and numerical routines in pre-compiled, fast functions. It is growing into a highly mature package that provides functionality that meets, or perhaps exceeds, that associated with common commercial software like MATLAB. The numpy (Numeric Python) package provides basic routines for manipulating large arrays and matrices of numeric data. \n",
    "\n",
    "A good resource for the numpy introduction can be found at the following link: https://engineering.ucsb.edu/~shell/che210d/numpy.pdf. "
   ]
  },
  {
   "cell_type": "code",
   "execution_count": 15,
   "metadata": {},
   "outputs": [],
   "source": [
    "import numpy"
   ]
  },
  {
   "cell_type": "markdown",
   "metadata": {},
   "source": [
    "The central feature of 'numpy' is the 'ndarray' object class, or simply **arrays** as we will call it. Arrays are similar to lists in Python, except that every element of an array must be of the same type, typically a numeric type like 'float' or 'int'. Arrays make operations with large amounts of numeric data very fast and are generally much more efficient than lists.\n",
    "\n",
    "An array can be created from a list. Array elements can be accessed, sliced, and manipulated just like lists. The numpy module's array class is called 'ndarray':"
   ]
  },
  {
   "cell_type": "code",
   "execution_count": 16,
   "metadata": {},
   "outputs": [
    {
     "name": "stdout",
     "output_type": "stream",
     "text": [
      "[1. 4. 5. 8.]\n",
      "<class 'numpy.ndarray'>\n",
      "1.0\n",
      "4.0\n",
      "5.0\n",
      "[1. 4.]\n",
      "[4. 5. 8.]\n"
     ]
    }
   ],
   "source": [
    "a = numpy.array([1, 4, 5, 8], float)\n",
    "print(a)\n",
    "print(type(a))\n",
    "print(a[0])\n",
    "print(a[1])\n",
    "print(a[2])\n",
    "print(a[:2]) # up to the second element (but not including the second element)\n",
    "print(a[1:])"
   ]
  },
  {
   "cell_type": "markdown",
   "metadata": {},
   "source": [
    "Arrays are by nature multidimensional. A two-dimensional array is a matrix, which we all learned from our linear algebra class in college. A numpy array is therefore a grid of values, all of the same type, and is indexed by a tuple of nonnegative integers. In numpy, dimensions are called **axes**. The number of axes is defined to be the **rank of the array** (thus the number of dimensions is the rank of the array). The **shape** of an array is a tuple of integers giving the size of the array along each dimension. Unlike lists, different axes are accessed using commas inside the bracket notation.\n",
    "\n",
    "Below are some examples of matrices. Notice that array slicing works with multiple dimensions in the same way as usual, applying each slice specification as a filter to a specified dimension. Use of a single colon in a dimension indicates the use of everything along that dimension:"
   ]
  },
  {
   "cell_type": "code",
   "execution_count": 17,
   "metadata": {},
   "outputs": [
    {
     "name": "stdout",
     "output_type": "stream",
     "text": [
      "[[1. 9. 3.]\n",
      " [4. 8. 6.]]\n"
     ]
    }
   ],
   "source": [
    "A = numpy.array([[1, 9, 3], [4, 8, 6]], float)\n",
    "print(A)"
   ]
  },
  {
   "cell_type": "code",
   "execution_count": 18,
   "metadata": {},
   "outputs": [
    {
     "name": "stdout",
     "output_type": "stream",
     "text": [
      "1.0\n",
      "9.0\n",
      "3.0\n",
      "4.0\n",
      "8.0\n",
      "6.0\n",
      "[[8. 6.]]\n"
     ]
    }
   ],
   "source": [
    "print(A[0,0])\n",
    "print(A[0,1])\n",
    "print(A[0,2])\n",
    "print(A[1,0])\n",
    "print(A[1,1])\n",
    "print(A[1,2])\n",
    "print(A[-1:,-2:])"
   ]
  },
  {
   "cell_type": "markdown",
   "metadata": {},
   "source": [
    "Let's see a more complicated example:"
   ]
  },
  {
   "cell_type": "code",
   "execution_count": 19,
   "metadata": {},
   "outputs": [
    {
     "name": "stdout",
     "output_type": "stream",
     "text": [
      "[[ 1.4   25.     5.98   8.76   1.   ]\n",
      " [ 2.11   3.434  4.     7.     8.   ]\n",
      " [ 9.     0.     0.     6.2    7.73 ]\n",
      " [11.    45.     6.98   0.93   0.9  ]]\n",
      "6.2\n",
      "[9.   0.   0.   6.2  7.73]\n",
      "[25.     3.434  0.    45.   ]\n"
     ]
    }
   ],
   "source": [
    "B=numpy.array([[1.4,25,5.98,8.76,1], [2.11,3.434,4,7,8], [9,0,0,6.2,7.73], [11,45,6.98,0.93,0.9]])\n",
    "print(B)\n",
    "print(B[2,3])\n",
    "print(B[2,:])\n",
    "print(B[:,1])"
   ]
  },
  {
   "cell_type": "markdown",
   "metadata": {},
   "source": [
    "Since arrays are objects, they have properties associated with them. For example, the 'shape' property of an array returns a tuple with the size of each array dimension, whereas the 'dtype' property tells you what type of values are stored by the array. "
   ]
  },
  {
   "cell_type": "code",
   "execution_count": 20,
   "metadata": {},
   "outputs": [
    {
     "name": "stdout",
     "output_type": "stream",
     "text": [
      "(2, 3)\n",
      "float64\n",
      "(4, 5)\n",
      "float64\n"
     ]
    }
   ],
   "source": [
    "print(A.shape) # A has 2 rows and 3 columns \n",
    "print(A.dtype) #  float64 is a numeric type that NumPy uses to store double-precision (8-byte) real numbers\n",
    "print(B.shape) # B has 4 rows and 5 columns\n",
    "print(B.dtype)"
   ]
  },
  {
   "cell_type": "markdown",
   "metadata": {},
   "source": [
    "When used with an array, the len() function returns the length of the first axis. Moreover, the 'in' statement can be used to test if values are present in an array:"
   ]
  },
  {
   "cell_type": "code",
   "execution_count": 21,
   "metadata": {},
   "outputs": [
    {
     "name": "stdout",
     "output_type": "stream",
     "text": [
      "2\n",
      "4\n",
      "False\n"
     ]
    }
   ],
   "source": [
    "print(len(A)) # the number of rows\n",
    "print(len(B)) # the number of rows\n",
    "print(2 in A)"
   ]
  },
  {
   "cell_type": "markdown",
   "metadata": {},
   "source": [
    "Arrays can be reshaped using tuples that specify new dimensions. In the following example, we turn a ten-element one-dimensional array into a two-dimensional one whose first axis has five elements and whose second axis has two elements:"
   ]
  },
  {
   "cell_type": "code",
   "execution_count": 22,
   "metadata": {},
   "outputs": [
    {
     "name": "stdout",
     "output_type": "stream",
     "text": [
      "[0. 1. 2. 3. 4. 5. 6. 7. 8. 9.]\n",
      "[[0. 1.]\n",
      " [2. 3.]\n",
      " [4. 5.]\n",
      " [6. 7.]\n",
      " [8. 9.]]\n"
     ]
    }
   ],
   "source": [
    "C = numpy.array(range(10), float)\n",
    "print(C)\n",
    "C=C.reshape((5, 2))\n",
    "print(C)"
   ]
  },
  {
   "cell_type": "markdown",
   "metadata": {},
   "source": [
    "We know we can create arrays by using existing lists. However, lists can also be created from one-dimensional arrays:"
   ]
  },
  {
   "cell_type": "code",
   "execution_count": 23,
   "metadata": {},
   "outputs": [
    {
     "name": "stdout",
     "output_type": "stream",
     "text": [
      "<class 'numpy.ndarray'> [1. 2. 3.]\n"
     ]
    },
    {
     "data": {
      "text/plain": [
       "[1.0, 2.0, 3.0]"
      ]
     },
     "execution_count": 23,
     "metadata": {},
     "output_type": "execute_result"
    }
   ],
   "source": [
    "D = numpy.array([1, 2, 3], float)\n",
    "D.tolist()\n",
    "print(type(D), D)\n",
    "list(D)"
   ]
  },
  {
   "cell_type": "markdown",
   "metadata": {},
   "source": [
    "One can fill an array with a single value (by using the fill() method). This way, every value in that array is filled with a particular value. "
   ]
  },
  {
   "cell_type": "code",
   "execution_count": 24,
   "metadata": {},
   "outputs": [
    {
     "name": "stdout",
     "output_type": "stream",
     "text": [
      "[[1. 2. 3. 5. 9.]\n",
      " [0. 4. 4. 7. 5.]] \n",
      "\n",
      "[[818. 818. 818. 818. 818.]\n",
      " [818. 818. 818. 818. 818.]] \n",
      "\n"
     ]
    }
   ],
   "source": [
    "E = numpy.array([[1, 2, 3, 5, 9], [0, 4, 4, 7, 5]], float)\n",
    "print(E, \"\\n\")\n",
    "E.fill(818)\n",
    "print(E, \"\\n\") "
   ]
  },
  {
   "cell_type": "markdown",
   "metadata": {},
   "source": [
    "Transposed versions of arrays can also be generated, which will create a new array with the final two axes switched. Transposition is achieved through the transpose() method:"
   ]
  },
  {
   "cell_type": "code",
   "execution_count": 25,
   "metadata": {},
   "outputs": [
    {
     "name": "stdout",
     "output_type": "stream",
     "text": [
      "A is: \n",
      " [[1. 9. 3.]\n",
      " [4. 8. 6.]] \n",
      "\n",
      "A1 is the transposed matrix of A: \n",
      " [[1. 4.]\n",
      " [9. 8.]\n",
      " [3. 6.]] \n",
      "\n"
     ]
    }
   ],
   "source": [
    "print('A is: \\n', A, '\\n')\n",
    "A1=A.transpose()\n",
    "print('A1 is the transposed matrix of A: \\n', A1, '\\n')"
   ]
  },
  {
   "cell_type": "markdown",
   "metadata": {},
   "source": [
    "We can also concatenate arrays. One-dimensional versions of multidimensional arrays can be generated with the flatten() method. Two or more arrays can be concatenated together using the concatenate() function with a tuple of the arrays to be joined. If an array has more than one dimension, it is possible to specify the axis along which multiple arrays are concatenated. By default (without specifying the axis), 'numpy' concatenates along the first dimension. We always recommend to have the axis argument specified. Below are some examples:"
   ]
  },
  {
   "cell_type": "code",
   "execution_count": 26,
   "metadata": {},
   "outputs": [
    {
     "name": "stdout",
     "output_type": "stream",
     "text": [
      "(2, 3)\n",
      "Concatenating A2:  [1. 2. 3. 4. 5. 6.]\n"
     ]
    }
   ],
   "source": [
    "A2= numpy.array([[1, 2, 3], [4, 5, 6]], float)\n",
    "print(A2.shape)\n",
    "print('Concatenating A2: ', A2.flatten())"
   ]
  },
  {
   "cell_type": "code",
   "execution_count": 27,
   "metadata": {},
   "outputs": [
    {
     "name": "stdout",
     "output_type": "stream",
     "text": [
      "Concatenating all arrays (A3-A5) together:  [ 1.  2.  3.  4.  5.  6.  7.  8.  9. 10. 11. 12. 13.] \n",
      "\n",
      "Concatenating along the first axis: \n",
      " [[ 1.  2.  3.]\n",
      " [ 4.  5.  6.]\n",
      " [ 7.  8.  9.]\n",
      " [10. 11. 12.]\n",
      " [13. 14. 15.]\n",
      " [16. 17. 18.]]\n",
      "Concatenating along the second axis: \n",
      " [[ 1.  2.  3. 10. 11. 12.]\n",
      " [ 4.  5.  6. 13. 14. 15.]\n",
      " [ 7.  8.  9. 16. 17. 18.]]\n"
     ]
    }
   ],
   "source": [
    "A3 = numpy.array([1,2], float)\n",
    "A4 = numpy.array([3,4,5,6], float)\n",
    "A5 = numpy.array([7,8,9,10,11,12,13], float)\n",
    "print('Concatenating all arrays (A3-A5) together: ', numpy.concatenate((A3, A4, A5)), '\\n')\n",
    "B1 = numpy.array([[1, 2, 3], [4, 5, 6], [7, 8, 9]], float)\n",
    "B2 = numpy.array([[10, 11, 12], [13, 14, 15], [16, 17, 18]], float)\n",
    "print('Concatenating along the first axis: \\n', numpy.concatenate((B1,B2), axis=0)) # default is axis=0\n",
    "print('Concatenating along the second axis: \\n', numpy.concatenate((B1,B2), axis=1))"
   ]
  },
  {
   "cell_type": "markdown",
   "metadata": {},
   "source": [
    "Finally, the dimensionality of an array can be increased using the 'newaxis' constant in bracket notation:"
   ]
  },
  {
   "cell_type": "code",
   "execution_count": 28,
   "metadata": {},
   "outputs": [
    {
     "name": "stdout",
     "output_type": "stream",
     "text": [
      "[1. 2. 3.]\n",
      "[[1.]\n",
      " [2.]\n",
      " [3.]]\n",
      "(3, 1)\n"
     ]
    }
   ],
   "source": [
    "C1 = numpy.array([1, 2, 3], float)\n",
    "print(C1)\n",
    "print(C1[:,numpy.newaxis])\n",
    "print(C1[:,numpy.newaxis].shape)"
   ]
  },
  {
   "cell_type": "markdown",
   "metadata": {},
   "source": [
    "The above commands are basic for creating mathematical matrices that we usually deal with in college-level linear algebra classes. There are other ways to create arrays too, such as using the arange() function. We can also create some special matrices in the 'numpy' module. For example, the functions zeros() and ones() create new arrays of specified dimensions filled with these values. The identity() function creates identity matrices. The eye() function returns matrices with ones along the kth diagonal. Below are some examples:"
   ]
  },
  {
   "cell_type": "code",
   "execution_count": 29,
   "metadata": {},
   "outputs": [
    {
     "name": "stdout",
     "output_type": "stream",
     "text": [
      "[0 1 2 3 4 5 6]\n",
      "ones: \n",
      " [[1. 1. 1.]\n",
      " [1. 1. 1.]]\n",
      "zeros: \n",
      " [0 0 0 0 0 0 0]\n",
      "identity matrix: \n",
      " [[1. 0. 0. 0.]\n",
      " [0. 1. 0. 0.]\n",
      " [0. 0. 1. 0.]\n",
      " [0. 0. 0. 1.]]\n",
      "eye matrix: \n",
      " [[0. 0. 1. 0. 0.]\n",
      " [0. 0. 0. 1. 0.]\n",
      " [0. 0. 0. 0. 1.]\n",
      " [0. 0. 0. 0. 0.]\n",
      " [0. 0. 0. 0. 0.]]\n"
     ]
    }
   ],
   "source": [
    "print(numpy.arange(7))\n",
    "print('ones: \\n', numpy.ones((2,3), dtype=float)) # creating a 2 by 3 matrix with ones\n",
    "print('zeros: \\n', numpy.zeros(7, dtype=int)) # creating a row vector of 0's with a length of 7\n",
    "print('identity matrix: \\n', numpy.identity(4, dtype=float)) # creating an identity matrix\n",
    "print('eye matrix: \\n', numpy.eye(5, k=2, dtype=float)) # creating a matrix with ones along the '2th' diagonal "
   ]
  },
  {
   "cell_type": "markdown",
   "metadata": {},
   "source": [
    "Based on the previous examples, you may have suspected that the 'numpy' module is kind of like a mini-version of MATLAB or PROC IML in SAS. Indeed, 'numpy' provides a powerful collection of objects and functions that handle basic matrix algebra. We now go over the arithmetic aspects of arrays. We will take a look at how we add, substract and perform other complicated operations on matrices and arrays.\n",
    "\n",
    "When standard mathematical operations are used with arrays, they are applied on an element-by-element basis. This means that the arrays should be the same size during addition, subtraction, etc.. When it comes to multiplication, the product is the Hadamard product (element-wise multiplication). If the two arrays have different dimensions, Python will error. Below are some examples:"
   ]
  },
  {
   "cell_type": "code",
   "execution_count": 30,
   "metadata": {},
   "outputs": [
    {
     "name": "stdout",
     "output_type": "stream",
     "text": [
      "[6. 4. 9. 5.]\n",
      "[-4.  0. -3.  3.]\n",
      "[ 5.  4. 18.  4.]\n",
      "[0.2 1.  0.5 4. ]\n",
      "[1. 0. 3. 0.]\n",
      "[  1.   4. 729.   4.]\n",
      "for more than one dimensions: \n",
      " [[ 2.  0.]\n",
      " [ 3. 12.]]\n"
     ]
    }
   ],
   "source": [
    "D1= numpy.array([1,2,3,4], float)\n",
    "D2= numpy.array([5,2,6,1], float)\n",
    "print(D1+D2)\n",
    "print(D1-D2)\n",
    "print(D1*D2) # multiplication elementwise\n",
    "print(D1/D2)\n",
    "print(D1%D2) # modulus\n",
    "print(D1**D2) # exponent\n",
    "D3 = numpy.array([[1,2], [3,4]], float)\n",
    "D4 = numpy.array([[2,0], [1,3]], float)\n",
    "print('for more than one dimensions: \\n', D3*D4)"
   ]
  },
  {
   "cell_type": "markdown",
   "metadata": {},
   "source": [
    "There are some caveats here worth mentioning. When it comes to mismatch of arrays, the arrays that do not match in the number of dimensions will be **broadcasted** by Python to perform mathematical operations. This means that the smaller array will be repeated as necessary to perform the operation indicated. Consider the following:"
   ]
  },
  {
   "cell_type": "code",
   "execution_count": 31,
   "metadata": {},
   "outputs": [
    {
     "name": "stdout",
     "output_type": "stream",
     "text": [
      "(3, 2)\n",
      "(2,)\n",
      "(3, 2)\n",
      "[[0. 5.]\n",
      " [2. 7.]\n",
      " [4. 9.]]\n"
     ]
    }
   ],
   "source": [
    "D5 = numpy.array([[1, 2], [3, 4], [5, 6]], float)\n",
    "D6 = numpy.array([-1, 3], float)\n",
    "print(D5.shape)\n",
    "print(D6.shape)\n",
    "print((D5+D6).shape)\n",
    "print(D5+D6)"
   ]
  },
  {
   "cell_type": "markdown",
   "metadata": {},
   "source": [
    "Here, the one-dimensional array D6 was broadcasted to a two-dimensional array that matched the size of D5. In essence, D6 was repeated for each item in D5. The bottom line here is that when it comes to array operations, we highly suggest that arrays are conformable. \n",
    "\n",
    "In addition to the standard operators, the 'numpy' module offers a large library of common mathematical functions that can be applied elementwise to arrays. Among these are the mathematical common functions: abs, sign, sqrt, log, log10, exp, sin, cos, tan, arcsin, arccos, arctan, sinh, cosh, tanh, arcsinh, arccosh, and arctanh etc.\n",
    "\n",
    "In addition, the functions floor(), ceil(), and rint() give the lower, upper, or nearest (rounded) integer. Also included in the module are two important mathematical constants 'pi' and 'e'. \n",
    "\n",
    "Below are some examples:"
   ]
  },
  {
   "cell_type": "code",
   "execution_count": 32,
   "metadata": {},
   "outputs": [
    {
     "name": "stdout",
     "output_type": "stream",
     "text": [
      "[1. 1. 1.]\n",
      "2.718281828459045\n"
     ]
    }
   ],
   "source": [
    "D7= numpy.array([1.12, 1.50, 1.92], float)\n",
    "print(numpy.floor(D7))\n",
    "print(numpy.e)"
   ]
  },
  {
   "cell_type": "markdown",
   "metadata": {},
   "source": [
    "Now we continue with our array operation discussion. Many functions exist for extracting whole-array properties. The items in an array can be summed or multiplied. A number of routines enable computation of statistical quantities in array datasets, such as the mean (average), variance, and standard deviation. These are also available for arrays. In addition, the argmin() and argmax() functions return the array indices of the minimum and maximum values:"
   ]
  },
  {
   "cell_type": "code",
   "execution_count": 33,
   "metadata": {},
   "outputs": [
    {
     "name": "stdout",
     "output_type": "stream",
     "text": [
      "4.0, 12.666666666666666, 3.559026084010437, 9.0\n"
     ]
    }
   ],
   "source": [
    "D8 = numpy.array([2, 1, 9], float)\n",
    "print(D8.mean(), D8.var(), D8.std(), D8.max(), sep=', ')"
   ]
  },
  {
   "cell_type": "markdown",
   "metadata": {},
   "source": [
    "For multidimensional arrays, each of the functions thus far described can take an optional argument axis that will perform an operation along only the specified axis, placing the results in a return array:"
   ]
  },
  {
   "cell_type": "code",
   "execution_count": 34,
   "metadata": {},
   "outputs": [
    {
     "name": "stdout",
     "output_type": "stream",
     "text": [
      "[2. 2.], [1. 1. 4.]\n",
      "[ 0. -1.], [ 0. -1.  3.]\n"
     ]
    }
   ],
   "source": [
    "D9 = numpy.array([[0, 2], [3, -1], [3, 5]], float)\n",
    "print(D9.mean(axis=0), D9.mean(axis=1), sep=', ')\n",
    "print(D9.min(axis=0), D9.min(axis=1), sep=', ')"
   ]
  },
  {
   "cell_type": "markdown",
   "metadata": {},
   "source": [
    "Arrays and lists bear a lot of similarities. For example, they both can be sorted and they both can be iterated. For multidimensional arrays, iteration proceeds over the first axis such that each loop returns a subsection of the array. Moreover, multiple assignment can also be used with array iteration. Below are some examples:"
   ]
  },
  {
   "cell_type": "code",
   "execution_count": 35,
   "metadata": {},
   "outputs": [
    {
     "name": "stdout",
     "output_type": "stream",
     "text": [
      "\n",
      "The one-dimensional array D10 is given by: \n",
      " [ 6.1   2.    5.   -1.    0.02]\n",
      "\n",
      "The multidimensional array D9 is given by: \n",
      " [[ 0.  2.]\n",
      " [ 3. -1.]\n",
      " [ 3.  5.]]\n",
      "\n",
      "Multiple assignment:\n",
      "2.0\n",
      "2.0\n",
      "8.0\n"
     ]
    }
   ],
   "source": [
    "D10 = numpy.array([6.1, 2, 5, -1, 0.02], float)\n",
    "print('\\nThe one-dimensional array D10 is given by: \\n', D10)\n",
    "print('\\nThe multidimensional array D9 is given by: \\n', D9)\n",
    "print('\\nMultiple assignment:')\n",
    "for (i,j) in D9:\n",
    "    print(i+j)"
   ]
  },
  {
   "cell_type": "markdown",
   "metadata": {},
   "source": [
    "Unique elements can be extracted from a one-dimensional array, and for two dimensional arrays, the diagonal can be extracted:"
   ]
  },
  {
   "cell_type": "code",
   "execution_count": 36,
   "metadata": {},
   "outputs": [
    {
     "name": "stdout",
     "output_type": "stream",
     "text": [
      "unique elements in the one-dimensional array:  [1. 2. 3. 5.]\n",
      "diagonal elements in multidimensional array:  [1. 4.]\n"
     ]
    }
   ],
   "source": [
    "D11 = numpy.array([1,1,2,3,3,5,1,1], float)\n",
    "print('unique elements in the one-dimensional array: ', numpy.unique(D11))\n",
    "D12 = numpy.array([[1, 2], [3, 4]], float)\n",
    "print('diagonal elements in multidimensional array: ', D12.diagonal())"
   ]
  },
  {
   "cell_type": "markdown",
   "metadata": {},
   "source": [
    "Just like lists, Boolean comparisons can be used to compare members element-wise on arrays of equal size. The return value is an array of Boolean True/False values. Moreover, the results of a Boolean comparison can be stored in an array:"
   ]
  },
  {
   "cell_type": "code",
   "execution_count": 37,
   "metadata": {},
   "outputs": [
    {
     "name": "stdout",
     "output_type": "stream",
     "text": [
      "[ True False False]\n",
      "<class 'numpy.ndarray'>\n"
     ]
    }
   ],
   "source": [
    "D13 = numpy.array([1, 3, 0], float)\n",
    "D14 = numpy.array([0, 3, 2], float)\n",
    "print(D13>D14)\n",
    "judge = D13>D14\n",
    "print(type(judge))"
   ]
  },
  {
   "cell_type": "markdown",
   "metadata": {},
   "source": [
    "The any() and all() operators can be used to determine whether or not any or all elements of a Boolean array are true:"
   ]
  },
  {
   "cell_type": "code",
   "execution_count": 38,
   "metadata": {},
   "outputs": [
    {
     "name": "stdout",
     "output_type": "stream",
     "text": [
      "True\n",
      "False\n"
     ]
    }
   ],
   "source": [
    "D15 = numpy.array([ True, False, False], bool)\n",
    "print(any(D15))\n",
    "print(all(D15))"
   ]
  },
  {
   "cell_type": "markdown",
   "metadata": {},
   "source": [
    "Compound Boolean expressions can be applied to arrays on an element-by-element basis using special functions logical_and(), logical_or(), and logical_not(). The output of these functions are all arrays:"
   ]
  },
  {
   "cell_type": "code",
   "execution_count": 39,
   "metadata": {},
   "outputs": [
    {
     "name": "stdout",
     "output_type": "stream",
     "text": [
      "[ True False False]\n",
      "[False  True False]\n",
      "[ True  True  True]\n"
     ]
    }
   ],
   "source": [
    "B3 = numpy.array([1, 3, 0], float)\n",
    "print(numpy.logical_and(B3 > 0, B3 < 3))\n",
    "B4 = numpy.array([True, False, True], bool)\n",
    "print(numpy.logical_not(B4))\n",
    "B5 = numpy.array([False, True, False], bool)\n",
    "print(numpy.logical_or(B4, B5))"
   ]
  },
  {
   "cell_type": "markdown",
   "metadata": {},
   "source": [
    "The where() function forms a new array from two arrays of equivalent size using a Boolean filter to choose between elements of the two. Its basic syntax is where(boolarray,truearray, falsearray):"
   ]
  },
  {
   "cell_type": "code",
   "execution_count": 40,
   "metadata": {},
   "outputs": [
    {
     "name": "stdout",
     "output_type": "stream",
     "text": [
      "D1 = [1. 2. 3. 4.]\n"
     ]
    },
    {
     "data": {
      "text/plain": [
       "array([0, 1, 1, 1])"
      ]
     },
     "execution_count": 40,
     "metadata": {},
     "output_type": "execute_result"
    }
   ],
   "source": [
    "print('D1 =', D1)\n",
    "numpy.where(D1>=2, 1, 0) # if True then assign 1, 0 otherwise"
   ]
  },
  {
   "cell_type": "markdown",
   "metadata": {},
   "source": [
    "A number of functions allow testing of the values in an array. The nonzero() function gives a tuple of indices of the nonzero values in an array. The number of items in the tuple equals the number of axes of the array:"
   ]
  },
  {
   "cell_type": "code",
   "execution_count": 41,
   "metadata": {},
   "outputs": [
    {
     "name": "stdout",
     "output_type": "stream",
     "text": [
      "(array([ 2,  3,  4,  5,  6,  7,  8, 10], dtype=int64),)\n",
      "(array([0, 1, 2, 2], dtype=int64), array([1, 0, 0, 1], dtype=int64))\n",
      "<class 'tuple'>\n"
     ]
    }
   ],
   "source": [
    "B6 = numpy.array([0,0,3,4,9,33,21,2,56,0,1])\n",
    "print(B6.nonzero())\n",
    "B7 = numpy.array([[0, 1], [3, 0], [9, 8]], float)\n",
    "print(B7.nonzero())\n",
    "print(type(B3.nonzero())) # tuple"
   ]
  },
  {
   "cell_type": "markdown",
   "metadata": {
    "collapsed": true
   },
   "source": [
    "It is also possible to test whether or not values are NaN (\"not a number\") or finite:"
   ]
  },
  {
   "cell_type": "code",
   "execution_count": 42,
   "metadata": {},
   "outputs": [
    {
     "name": "stdout",
     "output_type": "stream",
     "text": [
      "[ 1. nan inf]\n",
      "[False  True False]\n",
      "[ True False False]\n"
     ]
    }
   ],
   "source": [
    "B8 = numpy.array([1, numpy.NaN, numpy.Inf], float)\n",
    "print(B8)\n",
    "B9 = numpy.isnan(B8)\n",
    "print(B9)\n",
    "B10 = numpy.isfinite(B8)\n",
    "print(B10)"
   ]
  },
  {
   "cell_type": "markdown",
   "metadata": {},
   "source": [
    "We have already seen that, like lists, individual elements and slices of arrays can be selected using bracket notation. Unlike lists, however, arrays also permit selection using other arrays. That is, we can use 'array selectors' to filter for specific subsets of elements of other arrays.\n",
    "\n",
    "For example, Boolean arrays can be used as array selectors. For instance, suppose a is an arbitrary array. Sending the Boolean array given by a>=6 to the bracket selection for a, an array with only the True elements is returned. Below are some examples:"
   ]
  },
  {
   "cell_type": "code",
   "execution_count": 43,
   "metadata": {},
   "outputs": [
    {
     "name": "stdout",
     "output_type": "stream",
     "text": [
      "[6. 8. 6. 9. 9.]\n"
     ]
    }
   ],
   "source": [
    "B11 = numpy.array([[6, 4, 8, 6], [5, 9, 3, 9]], float)\n",
    "sel = (B11 >= 6)\n",
    "print(B11[sel])"
   ]
  },
  {
   "cell_type": "markdown",
   "metadata": {},
   "source": [
    "In addition to Boolean selection, it is possible to select using integer arrays. Here, the integer arrays contain the indices of the elements to be taken from an array. In addition, lists can also be used as selection arrays. Consider the following one-dimensional example:"
   ]
  },
  {
   "cell_type": "code",
   "execution_count": 44,
   "metadata": {},
   "outputs": [
    {
     "name": "stdout",
     "output_type": "stream",
     "text": [
      "[2. 2. 4. 8. 6. 4.]\n",
      "[2. 2. 4. 8. 6. 4.]\n"
     ]
    }
   ],
   "source": [
    "C2= numpy.array([2, 4, 6, 8], float)\n",
    "C3 = numpy.array([0, 0, 1, 3, 2, 1], int) # this has to be integer because we are using it to index\n",
    "print(C2[C3]) # using integer arrays to index\n",
    "print(C2[[0, 0, 1, 3, 2, 1]]) # using lists to index"
   ]
  },
  {
   "cell_type": "markdown",
   "metadata": {},
   "source": [
    "For multidimensional arrays, we have to send multiple one-dimensional integer arrays to the selection bracket, one for each axis. Then, each of these selection arrays is traversed in sequence. Below is an example that shows step-by-step indexing when we encounter multidimensional arrays:"
   ]
  },
  {
   "cell_type": "code",
   "execution_count": 45,
   "metadata": {},
   "outputs": [
    {
     "name": "stdout",
     "output_type": "stream",
     "text": [
      "[[ 1.  4.]\n",
      " [ 1.  4.]\n",
      " [ 9. 16.]\n",
      " [ 9. 16.]\n",
      " [ 1.  4.]]\n",
      "[ 1.  4. 16. 16.  4.]\n"
     ]
    }
   ],
   "source": [
    "C4 = numpy.array([[1, 4], [9, 16]], float)\n",
    "C5 = numpy.array([0, 0, 1, 1, 0], int)\n",
    "C6 = numpy.array([0, 1, 1, 1, 1], int)\n",
    "print(C4[C5,])\n",
    "print(C4[C5,C6])"
   ]
  },
  {
   "cell_type": "markdown",
   "metadata": {},
   "source": [
    "A special function take() is also available to perform selection with integer arrays. This works in an identical manner as bracket selection. The take() also provides an axis argument such that subsections of an multidimensional array can be taken across a given dimension."
   ]
  },
  {
   "cell_type": "code",
   "execution_count": 46,
   "metadata": {},
   "outputs": [
    {
     "name": "stdout",
     "output_type": "stream",
     "text": [
      "take() for one-dimensional array: \n",
      " [2. 2. 4. 8. 6. 4.]\n",
      "take() using the axis argument: \n",
      " [[0. 1.]\n",
      " [0. 1.]\n",
      " [2. 3.]]\n",
      "take() using the axis argument: \n",
      " [[0. 0. 1.]\n",
      " [2. 2. 3.]]\n"
     ]
    }
   ],
   "source": [
    "C7 = numpy.array([2, 4, 6, 8], float)\n",
    "C8 = numpy.array([0, 0, 1, 3, 2, 1], int)\n",
    "print('take() for one-dimensional array: \\n', C7.take(C8))\n",
    "C9 = numpy.array([[0, 1], [2, 3]], float)\n",
    "C10 = numpy.array([0, 0, 1], int)\n",
    "print('take() using the axis argument: \\n', C9.take(C10, axis=0))\n",
    "print('take() using the axis argument: \\n', C9.take(C10, axis=1))"
   ]
  },
  {
   "cell_type": "markdown",
   "metadata": {
    "collapsed": true
   },
   "source": [
    "The opposite of the take() function is the put() function, which will take values from a source array and place them at specified indices in the array calling put():"
   ]
  },
  {
   "cell_type": "code",
   "execution_count": 47,
   "metadata": {},
   "outputs": [
    {
     "name": "stdout",
     "output_type": "stream",
     "text": [
      "[9. 1. 2. 8. 4. 5.]\n"
     ]
    }
   ],
   "source": [
    "C11 = numpy.array([0, 1, 2, 3, 4, 5], float)\n",
    "C12 = numpy.array([9, 8, 7], float)\n",
    "C11.put([0, 3], C12)\n",
    "print(C11)"
   ]
  },
  {
   "cell_type": "markdown",
   "metadata": {},
   "source": [
    "Note that the value 7 from the source array C12 is not used, since only two indices [0, 3] are specified. The source array will be repeated as necessary if not the same size, see below:"
   ]
  },
  {
   "cell_type": "code",
   "execution_count": 48,
   "metadata": {},
   "outputs": [
    {
     "name": "stdout",
     "output_type": "stream",
     "text": [
      "[5. 1. 2. 5. 4. 5.]\n"
     ]
    }
   ],
   "source": [
    "C11 = numpy.array([0, 1, 2, 3, 4, 5], float)\n",
    "C11.put([0, 3], 5)\n",
    "print(C11)"
   ]
  },
  {
   "cell_type": "markdown",
   "metadata": {},
   "source": [
    "We now officially go over matrix algebra. The package 'numpy' provides many functions for performing standard vector and matrix multiplication routines, such as dot products, and inner/outer/cross products. In addition, the package also comes with a number of built-in routines for linear algebra calculations. These can be found in the sub-module 'linalg'. Among these are routines for dealing with matrices such as inverses, determinant, and singular value decomposition etc. Below are some examples:"
   ]
  },
  {
   "cell_type": "code",
   "execution_count": 49,
   "metadata": {},
   "outputs": [
    {
     "name": "stdout",
     "output_type": "stream",
     "text": [
      "v1.v2:  5.0 \n",
      "\n",
      "v3.v4: \n",
      " [ 3. 13.] \n",
      "\n",
      "v3.v5: \n",
      " [[ 4.  0.]\n",
      " [14.  2.]] \n",
      "\n",
      "v5.v3: \n",
      " [[2. 4.]\n",
      " [0. 4.]] \n",
      "\n"
     ]
    }
   ],
   "source": [
    "v1 = numpy.array([1, 2, 3], float)\n",
    "v2 = numpy.array([0, 1, 1], float)\n",
    "print('v1.v2: ', numpy.dot(v1, v2), '\\n')\n",
    "v3 = numpy.array([[0, 1], [2, 3]], float)\n",
    "v4 = numpy.array([2, 3], float)\n",
    "v5 = numpy.array([[1, 1], [4, 0]], float)\n",
    "print('v3.v4: \\n', numpy.dot(v3, v4), '\\n')\n",
    "print('v3.v5: \\n', numpy.dot(v3, v5), '\\n')\n",
    "print('v5.v3: \\n', numpy.dot(v5, v3), '\\n')"
   ]
  },
  {
   "cell_type": "code",
   "execution_count": 50,
   "metadata": {},
   "outputs": [
    {
     "name": "stdout",
     "output_type": "stream",
     "text": [
      "[[2. 2. 1.]\n",
      " [8. 8. 4.]\n",
      " [0. 0. 0.]]\n",
      "10.0\n",
      "[ 4. -1. -6.]\n"
     ]
    }
   ],
   "source": [
    "a = numpy.array([1, 4, 0], float)\n",
    "b = numpy.array([2, 2, 1], float)\n",
    "print(numpy.outer(a, b))\n",
    "print(numpy.inner(a, b))\n",
    "print(numpy.cross(a, b))"
   ]
  },
  {
   "cell_type": "code",
   "execution_count": 51,
   "metadata": {},
   "outputs": [
    {
     "name": "stdout",
     "output_type": "stream",
     "text": [
      "[[4. 2. 0.]\n",
      " [9. 3. 7.]\n",
      " [1. 2. 1.]]\n",
      "-48.00000000000003\n",
      "[[ 0.22916667  0.04166667 -0.29166667]\n",
      " [ 0.04166667 -0.08333333  0.58333333]\n",
      " [-0.3125      0.125       0.125     ]]\n",
      "eigenvalues:  [ 8.85591316  1.9391628  -2.79507597]\n",
      "eigenvectors:  [[-0.3663565  -0.54736745  0.25928158]\n",
      " [-0.88949768  0.5640176  -0.88091903]\n",
      " [-0.27308752  0.61828231  0.39592263]]\n"
     ]
    }
   ],
   "source": [
    "A = numpy.array([[4, 2, 0], [9, 3, 7], [1, 2, 1]], float)\n",
    "print(A)\n",
    "print(numpy.linalg.det(A))\n",
    "print(numpy.linalg.inv(A))\n",
    "vals, vecs = numpy.linalg.eig(A) # getting the eigenvalues and eigenvectors\n",
    "print('eigenvalues: ', vals)\n",
    "print('eigenvectors: ', vecs)\n"
   ]
  },
  {
   "cell_type": "markdown",
   "metadata": {},
   "source": [
    "The 'numpy' package also supplies methods for working with polynomials. For example, given a set of roots, it is possible to\n",
    "show the polynomial coefficients:"
   ]
  },
  {
   "cell_type": "code",
   "execution_count": 52,
   "metadata": {},
   "outputs": [
    {
     "name": "stdout",
     "output_type": "stream",
     "text": [
      "[  1. -11.   9.  11. -10.]\n"
     ]
    }
   ],
   "source": [
    "print(numpy.poly([-1, 1, 1, 10]))"
   ]
  },
  {
   "cell_type": "markdown",
   "metadata": {},
   "source": [
    "Here, the return array gives the coefficients corresponding to $x^4 - 11x^3 + 9x^2 + 11x-10$."
   ]
  },
  {
   "cell_type": "markdown",
   "metadata": {},
   "source": [
    "The opposite operation can be performed: given a set of coefficients, the root function returns all of the polynomial roots:"
   ]
  },
  {
   "cell_type": "code",
   "execution_count": 53,
   "metadata": {},
   "outputs": [
    {
     "name": "stdout",
     "output_type": "stream",
     "text": [
      "[-4.5797401 +0.j          0.28987005+0.75566815j  0.28987005-0.75566815j]\n"
     ]
    }
   ],
   "source": [
    "print(numpy.roots([1, 4, -2, 3]))"
   ]
  },
  {
   "cell_type": "markdown",
   "metadata": {},
   "source": [
    "Notice here that two of the roots of $x^3+4x^2-2x+3$ are imaginary."
   ]
  },
  {
   "cell_type": "markdown",
   "metadata": {},
   "source": [
    "Coefficient arrays of polynomials can be integrated. Consider integrating $x^2-2x+1$. By default, the constant after integration is set to zero:"
   ]
  },
  {
   "cell_type": "code",
   "execution_count": 54,
   "metadata": {},
   "outputs": [
    {
     "name": "stdout",
     "output_type": "stream",
     "text": [
      "[ 0.33333333 -1.          1.          0.        ]\n"
     ]
    }
   ],
   "source": [
    "print(numpy.polyint([1, -2, 1]))"
   ]
  },
  {
   "cell_type": "markdown",
   "metadata": {},
   "source": [
    "The functions polyadd(), polysub(), polymul(), and polydiv() also handle proper addition, subtraction, multiplication, and division of polynomial coefficients, respectively. \n",
    "\n",
    "The function polyval() evaluates a polynomial at a particular point. The polyfit() function can be used to fit a polynomial of specified order to a set of data using a least-squares approach. The return value is a set of polynomial coefficients:"
   ]
  },
  {
   "cell_type": "code",
   "execution_count": 55,
   "metadata": {},
   "outputs": [
    {
     "name": "stdout",
     "output_type": "stream",
     "text": [
      "12\n",
      "[ 0.375      -0.88690476  1.05357143]\n"
     ]
    }
   ],
   "source": [
    "print(numpy.polyval([1,5,-6,12],1))\n",
    "x = [1, 2, 3, 4, 5, 6, 7, 8]\n",
    "y = [0, 2, 1, 3, 7, 10, 11, 19]\n",
    "print(numpy.polyfit(x, y, 2)) # degree of 2 (so up to x^2)"
   ]
  },
  {
   "cell_type": "markdown",
   "metadata": {},
   "source": [
    "Lastly, we go over the statistical functionalities of the package. Here are some examples:"
   ]
  },
  {
   "cell_type": "code",
   "execution_count": 56,
   "metadata": {},
   "outputs": [
    {
     "name": "stdout",
     "output_type": "stream",
     "text": [
      "Median:  3.0\n",
      "Correlation coefficients: \n",
      " [[1.         0.72870505]\n",
      " [0.72870505 1.        ]]\n",
      "Covariance: \n",
      " [[0.91666667 2.08333333]\n",
      " [2.08333333 8.91666667]]\n"
     ]
    }
   ],
   "source": [
    "a = numpy.array([1, 4, 3, 8, 9, 2, 3], float)\n",
    "print('Median: ', numpy.median(a))\n",
    "a = numpy.array([[1, 2, 1, 3], [5, 3, 1, 8]], float) \n",
    "c = numpy.corrcoef(a) # correlation coefficients matrix\n",
    "print('Correlation coefficients: \\n', c)\n",
    "print('Covariance: \\n', numpy.cov(a))"
   ]
  },
  {
   "cell_type": "code",
   "execution_count": 57,
   "metadata": {},
   "outputs": [
    {
     "name": "stdout",
     "output_type": "stream",
     "text": [
      "[0.33677247 0.52693437 0.79529578 0.78867702 0.02147624]\n",
      "<class 'numpy.ndarray'>\n",
      "[[0.84612516 0.0704939  0.1526965  0.77831701 0.80821151]\n",
      " [0.82198398 0.90239653 0.8385685  0.02638565 0.33681448]]\n"
     ]
    }
   ],
   "source": [
    "numpy.random.seed(293423)\n",
    "r1=numpy.random.rand(5) # generting a uniform distribution from [0,1)\n",
    "print(r1)\n",
    "print(type(r1))\n",
    "r2=numpy.random.rand(2,5) # generating a random matrix\n",
    "print(r2)"
   ]
  },
  {
   "cell_type": "code",
   "execution_count": 58,
   "metadata": {},
   "outputs": [
    {
     "name": "stdout",
     "output_type": "stream",
     "text": [
      "5\n",
      "[10.55299897 -2.27683792  6.80054692 -1.70011158  0.15193698]\n",
      "[ 0.00696034  0.02353519 -1.87609929  0.59609852  0.30850929]\n"
     ]
    }
   ],
   "source": [
    "print(numpy.random.poisson(6.0)) # generating a single random  number from a Poisson distribution with lambda=6\n",
    "print(numpy.random.normal(1.5, 4.0, size=5)) # generating 5 numbers from a normal distribution with mean=1.5 and std=4\n",
    "print(numpy.random.randn(5)) # generating 5 numbers from a standard normal distribution"
   ]
  },
  {
   "cell_type": "markdown",
   "metadata": {},
   "source": [
    "The 'random' module can also be used to randomly shuffle the order of items in a list. This is sometimes useful if we want to sort a list in random order:"
   ]
  },
  {
   "cell_type": "code",
   "execution_count": 59,
   "metadata": {},
   "outputs": [
    {
     "name": "stdout",
     "output_type": "stream",
     "text": [
      "before shuffle:  [0, 1, 2, 3, 4, 5, 6, 7, 8, 9]\n",
      "after shuffle:  [7, 5, 2, 9, 4, 0, 8, 3, 6, 1]\n"
     ]
    }
   ],
   "source": [
    "l=list(range(10))\n",
    "print('before shuffle: ', l)\n",
    "numpy.random.shuffle(l)\n",
    "print('after shuffle: ', l)"
   ]
  },
  {
   "cell_type": "markdown",
   "metadata": {},
   "source": [
    "In all, the 'numpy' package contains many other built-in functions that we have not covered here. In particular, there are routines for discrete Fourier transforms, more complex linear algebra operations, size / shape / type testing of arrays, splitting and joining arrays, histograms, creating arrays of numbers spaced in various ways, creating and evaluating functions on grid arrays, treating arrays with special (NaN, Inf) values, set operations, creating various kinds of special matrices, and evaluating special mathematical functions (e.g., Bessel functions). On the other hand, another closely related package 'SciPy' greatly extends the functionality of the 'numpy' routines. These two packages together are heavily used for data scientists. "
   ]
  },
  {
   "cell_type": "code",
   "execution_count": null,
   "metadata": {},
   "outputs": [],
   "source": []
  }
 ],
 "metadata": {
  "kernelspec": {
   "display_name": "Python 3",
   "language": "python",
   "name": "python3"
  },
  "language_info": {
   "codemirror_mode": {
    "name": "ipython",
    "version": 3
   },
   "file_extension": ".py",
   "mimetype": "text/x-python",
   "name": "python",
   "nbconvert_exporter": "python",
   "pygments_lexer": "ipython3",
   "version": "3.7.6"
  }
 },
 "nbformat": 4,
 "nbformat_minor": 2
}
