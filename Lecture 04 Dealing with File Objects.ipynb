{
 "cells": [
  {
   "cell_type": "markdown",
   "metadata": {},
   "source": [
    "Python uses file objects to interact with external files on your computer. These file objects can be any sort of file on your computer (e.g. audio files, emails, word, pdf etc.). You probably need to install a variety of libraries to be able to fully interact with these files, but they are easily available. Python uses a built-in open() function that allows us to open and play with basic file types."
   ]
  },
  {
   "cell_type": "code",
   "execution_count": 1,
   "metadata": {},
   "outputs": [
    {
     "data": {
      "text/plain": [
       "'C:\\\\Users\\\\pgao\\\\Documents\\\\PGZ Documents\\\\Programming Workshop\\\\PYTHON\\\\Open Courses on Python\\\\Udemy Course on Python\\\\Python Bootcamp'"
      ]
     },
     "execution_count": 1,
     "metadata": {},
     "output_type": "execute_result"
    }
   ],
   "source": [
    "pwd # this prints the directory where you jupyter notebooks are"
   ]
  },
  {
   "cell_type": "markdown",
   "metadata": {},
   "source": [
    "We first learn how to open an existing text file. The file must sit in the workingn directory of your current setting as indicated by the pwd commmand above. "
   ]
  },
  {
   "cell_type": "code",
   "execution_count": 2,
   "metadata": {},
   "outputs": [
    {
     "data": {
      "text/plain": [
       "'This is a test notepad file that is supposed to be read by Python.\\n\\n////////\\n\\nPython uses file objects to interact with external files on your computer. \\nThese file objects can be any sort of file on your computer (e.g. audio files, emails, word, pdf etc.). \\nYou probably need to install a variety of libraries to be able to fully interact with these files, but they are easily available. \\nPythonn uses a built-in open function that allows us to open and play with basic file types. \\n\\nThese are the instructions from this lecture.'"
      ]
     },
     "execution_count": 2,
     "metadata": {},
     "output_type": "execute_result"
    }
   ],
   "source": [
    "file1 = open('test file.txt') # opening the file\n",
    "file1.read() # reading the file"
   ]
  },
  {
   "cell_type": "markdown",
   "metadata": {},
   "source": [
    "Once you read the file, you will need to send the cursor back. This is achieved by using the seek() method.The seek() method here tells us where the cursor should be placed on to read in the file. "
   ]
  },
  {
   "cell_type": "code",
   "execution_count": 3,
   "metadata": {},
   "outputs": [
    {
     "data": {
      "text/plain": [
       "0"
      ]
     },
     "execution_count": 3,
     "metadata": {},
     "output_type": "execute_result"
    }
   ],
   "source": [
    "file1.seek(0) # telling the cursor to return to the beginning of the file "
   ]
  },
  {
   "cell_type": "code",
   "execution_count": 5,
   "metadata": {},
   "outputs": [
    {
     "data": {
      "text/plain": [
       "'This is a test notepad file that is supposed to be read by Python.\\n\\n////////\\n\\nPython uses file objects to interact with external files on your computer. \\nThese file objects can be any sort of file on your computer (e.g. audio files, emails, word, pdf etc.). \\nYou probably need to install a variety of libraries to be able to fully interact with these files, but they are easily available. \\nPythonn uses a built-in open function that allows us to open and play with basic file types. \\n\\nThese are the instructions from this lecture.'"
      ]
     },
     "execution_count": 5,
     "metadata": {},
     "output_type": "execute_result"
    }
   ],
   "source": [
    "file2=file1\n",
    "file2.read()"
   ]
  },
  {
   "cell_type": "code",
   "execution_count": 6,
   "metadata": {},
   "outputs": [
    {
     "data": {
      "text/plain": [
       "'ile that is supposed to be read by Python.\\n\\n////////\\n\\nPython uses file objects to interact with external files on your computer. \\nThese file objects can be any sort of file on your computer (e.g. audio files, emails, word, pdf etc.). \\nYou probably need to install a variety of libraries to be able to fully interact with these files, but they are easily available. \\nPythonn uses a built-in open function that allows us to open and play with basic file types. \\n\\nThese are the instructions from this lecture.'"
      ]
     },
     "execution_count": 6,
     "metadata": {},
     "output_type": "execute_result"
    }
   ],
   "source": [
    "file2.seek(24) # telling the cursor to move to the 24th position and then read the file\n",
    "file2.read()"
   ]
  },
  {
   "cell_type": "markdown",
   "metadata": {
    "collapsed": true
   },
   "source": [
    "Another way to read the file is to go through each line of the file and treats it as an element and returns a list with each line as an element as a giant string in the list. This is achieved by the readlines() method. If the file is big, we do not recommend this method. "
   ]
  },
  {
   "cell_type": "code",
   "execution_count": 7,
   "metadata": {},
   "outputs": [
    {
     "data": {
      "text/plain": [
       "['This is a test notepad file that is supposed to be read by Python.\\n',\n",
       " '\\n',\n",
       " '////////\\n',\n",
       " '\\n',\n",
       " 'Python uses file objects to interact with external files on your computer. \\n',\n",
       " 'These file objects can be any sort of file on your computer (e.g. audio files, emails, word, pdf etc.). \\n',\n",
       " 'You probably need to install a variety of libraries to be able to fully interact with these files, but they are easily available. \\n',\n",
       " 'Pythonn uses a built-in open function that allows us to open and play with basic file types. \\n',\n",
       " '\\n',\n",
       " 'These are the instructions from this lecture.']"
      ]
     },
     "execution_count": 7,
     "metadata": {},
     "output_type": "execute_result"
    }
   ],
   "source": [
    "file2.seek(0)\n",
    "file2.readlines()  # the readline() method reads the file line by line"
   ]
  },
  {
   "cell_type": "markdown",
   "metadata": {},
   "source": [
    "We now learn how to write out a file. There are many ways of doing this. One useful way that only works in Jupyter notebook is by using the magic statement %%writefile. "
   ]
  },
  {
   "cell_type": "code",
   "execution_count": 8,
   "metadata": {},
   "outputs": [
    {
     "name": "stdout",
     "output_type": "stream",
     "text": [
      "Overwriting new_file.txt\n"
     ]
    }
   ],
   "source": [
    "%%writefile new_file.txt\n",
    "First line, this is a test file.\n",
    "Second line, pay attention to the file, open it up and read it!\n",
    "The file ends here."
   ]
  },
  {
   "cell_type": "markdown",
   "metadata": {},
   "source": [
    "To read a file line by line, we can use a loop:"
   ]
  },
  {
   "cell_type": "code",
   "execution_count": 9,
   "metadata": {},
   "outputs": [
    {
     "name": "stdout",
     "output_type": "stream",
     "text": [
      "This is a test notepad file that is supposed to be read by Python.\n",
      "\n",
      "\n",
      "\n",
      "////////\n",
      "\n",
      "\n",
      "\n",
      "Python uses file objects to interact with external files on your computer. \n",
      "\n",
      "These file objects can be any sort of file on your computer (e.g. audio files, emails, word, pdf etc.). \n",
      "\n",
      "You probably need to install a variety of libraries to be able to fully interact with these files, but they are easily available. \n",
      "\n",
      "Pythonn uses a built-in open function that allows us to open and play with basic file types. \n",
      "\n",
      "\n",
      "\n",
      "These are the instructions from this lecture.\n"
     ]
    }
   ],
   "source": [
    "for line in open('test file.txt'):\n",
    "    print(line) # the word 'line' can be replaced by any words"
   ]
  },
  {
   "cell_type": "code",
   "execution_count": 10,
   "metadata": {},
   "outputs": [
    {
     "name": "stdout",
     "output_type": "stream",
     "text": [
      "First line, this is a test file.\n",
      "\n",
      "Second line, pay attention to the file, open it up and read it!\n",
      "\n",
      "The file ends here.\n"
     ]
    }
   ],
   "source": [
    "for words in open('new_file.txt'):\n",
    "    print(words)"
   ]
  },
  {
   "cell_type": "markdown",
   "metadata": {},
   "source": [
    "Again, when you have a small memory in your computer, it's highly recommended that you use the read() method rather than the readlines() method."
   ]
  },
  {
   "cell_type": "code",
   "execution_count": null,
   "metadata": {
    "collapsed": true
   },
   "outputs": [],
   "source": []
  }
 ],
 "metadata": {
  "kernelspec": {
   "display_name": "Python 3",
   "language": "python",
   "name": "python3"
  },
  "language_info": {
   "codemirror_mode": {
    "name": "ipython",
    "version": 3
   },
   "file_extension": ".py",
   "mimetype": "text/x-python",
   "name": "python",
   "nbconvert_exporter": "python",
   "pygments_lexer": "ipython3",
   "version": "3.6.3"
  }
 },
 "nbformat": 4,
 "nbformat_minor": 2
}
