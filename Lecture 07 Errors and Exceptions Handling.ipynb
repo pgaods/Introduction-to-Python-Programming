{
 "cells": [
  {
   "cell_type": "markdown",
   "metadata": {},
   "source": [
    "We now study errors handling in Python. Firstly, we need to understand what an error or an exception is respectively. A syntax error is truly an error. However, an exception is a contextual error which may occur even if you have completely correct syntax but the context is not appropriate. To handle errors and exceptions, the 'try' and 'except' statements are often used. In addition, the 'finally' keyword allows us to place code that will always be run even if there are exceptions. The examples in this module will make these concepts clear. "
   ]
  },
  {
   "cell_type": "code",
   "execution_count": 1,
   "metadata": {},
   "outputs": [
    {
     "name": "stdout",
     "output_type": "stream",
     "text": [
      "There is a type error but we bypassed the issue!\n",
      "This is finally printed!\n"
     ]
    }
   ],
   "source": [
    "try:\n",
    "    2+'s' # if you only do this, Python will error\n",
    "except:\n",
    "    print('There is a type error but we bypassed the issue!')\n",
    "finally:\n",
    "    print('This is finally printed!')"
   ]
  },
  {
   "cell_type": "code",
   "execution_count": 2,
   "metadata": {},
   "outputs": [
    {
     "name": "stdout",
     "output_type": "stream",
     "text": [
      "File writing is a success\n"
     ]
    }
   ],
   "source": [
    "try:\n",
    "    f=open('new file created', 'w') # creating a file called 'new file created', w means 'write' permission\n",
    "    f.write('We are test-writing this file now!')\n",
    "except:\n",
    "    print('The file is corrupt')\n",
    "else:\n",
    "    print('File writing is a success')"
   ]
  },
  {
   "cell_type": "code",
   "execution_count": 3,
   "metadata": {},
   "outputs": [
    {
     "name": "stdout",
     "output_type": "stream",
     "text": [
      "The file does not exist\n"
     ]
    }
   ],
   "source": [
    "try:\n",
    "    f=open('non_existent file', 'r') # creating a file called 'new file created', r means 'read-only' permission\n",
    "    f.write('We are test-writing this file now!')\n",
    "except:\n",
    "    print('The file does not exist')\n",
    "else:\n",
    "    print('File writing is a success')"
   ]
  },
  {
   "cell_type": "code",
   "execution_count": 5,
   "metadata": {},
   "outputs": [
    {
     "name": "stdout",
     "output_type": "stream",
     "text": [
      "Please enter an integer: 9.5\n",
      "This is not an integer, keep trying!\n",
      "\n",
      "All blocks of codes have been executed!\n",
      "\n",
      "---------------------\n",
      "Please enter an integer: 3.2\n",
      "This is not an integer, keep trying!\n",
      "\n",
      "All blocks of codes have been executed!\n",
      "\n",
      "---------------------\n",
      "Please enter an integer: 2\n",
      "This is an integer, good job!\n",
      "All blocks of codes have been executed!\n",
      "\n",
      "---------------------\n",
      "The integer you used is 2\n"
     ]
    }
   ],
   "source": [
    "def test_integer(): # this program tests of a user-input is an integer, and if not, it keeps asking for re-input until correct\n",
    "    while True:\n",
    "        try:\n",
    "            val=int(input('Please enter an integer: '))\n",
    "        except:\n",
    "            print('This is not an integer, keep trying!\\n')\n",
    "            continue\n",
    "        else:\n",
    "            print('This is an integer, good job!')\n",
    "            break\n",
    "        finally:\n",
    "            print('All blocks of codes have been executed!\\n\\n---------------------')\n",
    "    print('The integer you used is ' + str(val))\n",
    "test_integer()"
   ]
  },
  {
   "cell_type": "code",
   "execution_count": null,
   "metadata": {
    "collapsed": true
   },
   "outputs": [],
   "source": []
  }
 ],
 "metadata": {
  "kernelspec": {
   "display_name": "Python 3",
   "language": "python",
   "name": "python3"
  },
  "language_info": {
   "codemirror_mode": {
    "name": "ipython",
    "version": 3
   },
   "file_extension": ".py",
   "mimetype": "text/x-python",
   "name": "python",
   "nbconvert_exporter": "python",
   "pygments_lexer": "ipython3",
   "version": "3.6.3"
  }
 },
 "nbformat": 4,
 "nbformat_minor": 2
}
