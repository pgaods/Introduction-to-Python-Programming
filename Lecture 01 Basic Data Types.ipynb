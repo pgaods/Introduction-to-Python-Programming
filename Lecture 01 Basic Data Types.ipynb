{
 "cells": [
  {
   "cell_type": "markdown",
   "metadata": {},
   "source": [
    "We will focus on integers and floating point numbers as an introduction. "
   ]
  },
  {
   "cell_type": "markdown",
   "metadata": {},
   "source": [
    "One of the biggest difference between Python 2 and Python 3 is their treatment on division on floating numbers. If you do 3/2 in Python 2, you will get 1."
   ]
  },
  {
   "cell_type": "code",
   "execution_count": 1,
   "metadata": {},
   "outputs": [
    {
     "data": {
      "text/plain": [
       "1.5"
      ]
     },
     "execution_count": 1,
     "metadata": {},
     "output_type": "execute_result"
    }
   ],
   "source": [
    "3/2"
   ]
  },
  {
   "cell_type": "code",
   "execution_count": 2,
   "metadata": {},
   "outputs": [
    {
     "data": {
      "text/plain": [
       "16"
      ]
     },
     "execution_count": 2,
     "metadata": {},
     "output_type": "execute_result"
    }
   ],
   "source": [
    "2**4 # this means raising the power "
   ]
  },
  {
   "cell_type": "markdown",
   "metadata": {},
   "source": [
    "We now study how to assign labels to objects. There are several rules of creating object names. First, names cannot start with a number. Second, there can be no spaces in the names. Symbols are not allowed except underscores. And lastly, it's highly recommend that you use lowercase rather than uppercase. "
   ]
  },
  {
   "cell_type": "code",
   "execution_count": 3,
   "metadata": {},
   "outputs": [
    {
     "data": {
      "text/plain": [
       "12"
      ]
     },
     "execution_count": 3,
     "metadata": {},
     "output_type": "execute_result"
    }
   ],
   "source": [
    "a=10\n",
    "a=a+2\n",
    "a"
   ]
  },
  {
   "cell_type": "markdown",
   "metadata": {},
   "source": [
    "There are many built-in functions you can apply to numbers. We will study functions more in detail in the future. For now, we will just use some generic examples:"
   ]
  },
  {
   "cell_type": "code",
   "execution_count": 4,
   "metadata": {},
   "outputs": [
    {
     "name": "stdout",
     "output_type": "stream",
     "text": [
      "9\n",
      "47\n",
      "3.142\n"
     ]
    }
   ],
   "source": [
    "print(pow(3,2)) # power\n",
    "print(abs(-47))\n",
    "print(round(3.1415926,3)) # keep 3 digits"
   ]
  },
  {
   "cell_type": "markdown",
   "metadata": {},
   "source": [
    "Now let's learn another function called complex(). This function returns a complex number with the value real + imaginary times little i or converts a string or number to a complex number. If you are doing math or engineering that requires complex numbers (such as dynamics,control systems, or impedance of a circuit) this is a useful tool to have in Python. Notice that in Python, the little 'j' denotes the complex number the squared root of -1. If the imaginary part is omitted, it defaults to zero and the constructor serves as a numeric conversion like int and float. If both arguments are omitted, the function will returns 0j."
   ]
  },
  {
   "cell_type": "code",
   "execution_count": 1,
   "metadata": {},
   "outputs": [
    {
     "name": "stdout",
     "output_type": "stream",
     "text": [
      "<class 'complex'>\n",
      "(3+4j)\n",
      "5.0\n"
     ]
    }
   ],
   "source": [
    "z1=complex(3,4)\n",
    "print(type(z1)) # complex\n",
    "print(z1)\n",
    "z2=abs(z1) # absolute value\n",
    "print(z2)"
   ]
  },
  {
   "cell_type": "markdown",
   "metadata": {},
   "source": [
    "We now study 'strings'. To start with, single quotes and double quotes can both be used to create strings. Double quotes can mask single quotes just like in R. The operator '\\n' helps break up the line. The '\\t' creates blank tabs (5 spaces). Note also that integers and numbers do not have the concepts of length while strings has."
   ]
  },
  {
   "cell_type": "code",
   "execution_count": 5,
   "metadata": {},
   "outputs": [
    {
     "name": "stdout",
     "output_type": "stream",
     "text": [
      "This is the first line \n",
      "This is the second line. Note that there are spaces \t Do you see it now?\n"
     ]
    }
   ],
   "source": [
    "print('This is the first line \\nThis is the second line. Note that there are spaces \\t Do you see it now?')"
   ]
  },
  {
   "cell_type": "code",
   "execution_count": 6,
   "metadata": {},
   "outputs": [
    {
     "data": {
      "text/plain": [
       "12"
      ]
     },
     "execution_count": 6,
     "metadata": {},
     "output_type": "execute_result"
    }
   ],
   "source": [
    "len('Hello World!') # note that you cannot do len(23) because integer has no concepts of length"
   ]
  },
  {
   "cell_type": "markdown",
   "metadata": {},
   "source": [
    "We now learn indexing. To index a string, Python requires bracket [] and the index always starts from position 0 from the left for default."
   ]
  },
  {
   "cell_type": "code",
   "execution_count": 7,
   "metadata": {},
   "outputs": [
    {
     "name": "stdout",
     "output_type": "stream",
     "text": [
      "H\n",
      "l\n",
      "!\n",
      "Hel\n",
      "Hello Worl\n"
     ]
    }
   ],
   "source": [
    "x='Hello World!'\n",
    "print(x[0])\n",
    "print(x[2])\n",
    "print(x[-1])\n",
    "print(x[:3]) # grab everything up to the third index, and 'up to' does not imply 'including'\n",
    "print(x[:-2]) # grab everyhing up to the second to last letter on the RHS"
   ]
  },
  {
   "cell_type": "markdown",
   "metadata": {},
   "source": [
    "Strings are immutable. Once that string is created, the elements within it cannot be changed. However, you can concatecate strings using the plus sign. You can also use the asterisk to tell Python to 'repeat'."
   ]
  },
  {
   "cell_type": "code",
   "execution_count": 8,
   "metadata": {},
   "outputs": [
    {
     "name": "stdout",
     "output_type": "stream",
     "text": [
      "Hello World!!! I am Peter\n"
     ]
    }
   ],
   "source": [
    "y='I am Peter'\n",
    "print(x+'!! '+y)"
   ]
  },
  {
   "cell_type": "code",
   "execution_count": 9,
   "metadata": {},
   "outputs": [
    {
     "name": "stdout",
     "output_type": "stream",
     "text": [
      "zzzzz\n"
     ]
    }
   ],
   "source": [
    "letter='z'\n",
    "print(letter*5)"
   ]
  },
  {
   "cell_type": "markdown",
   "metadata": {},
   "source": [
    "Now let's have a glimpse of some advanced concepts in Python, though we will delay most of the discussions in later lectures. The topic we want to have a mild introduction on is called 'Python method'. Strictly speaking, a **method** is a piece of code that is called by name that is associated with an object. For the most part, every object in Python has its own associated methods. For example, strings have associated methods that can help turn them into upper case, lower case, or proper case etc. In addition, since strings can also be split and counted, there are methods built to split the characters into different parts or to count the number of string characters. In a similar fashion, other types of objects have their own associated methods too. Here let's only focus on strings. For example, the associated methods include upper(), lower(), and split() etc.. In particular, the center() method allows you to place your string 'centered' between a provided string with a certain length. The expandtabs() will expand tab notations \"\\t\" into spaces:"
   ]
  },
  {
   "cell_type": "code",
   "execution_count": 10,
   "metadata": {},
   "outputs": [
    {
     "name": "stdout",
     "output_type": "stream",
     "text": [
      "i am PeTeR\n",
      "I AM PETER\n",
      "i am peter\n",
      "I am peter\n"
     ]
    }
   ],
   "source": [
    "s='i am PeTeR'\n",
    "print(s)\n",
    "print(s.upper())\n",
    "print(s.lower())\n",
    "print(s.capitalize()) # proper case"
   ]
  },
  {
   "cell_type": "code",
   "execution_count": 11,
   "metadata": {},
   "outputs": [
    {
     "name": "stdout",
     "output_type": "stream",
     "text": [
      "2\n",
      "4\n"
     ]
    },
    {
     "data": {
      "text/plain": [
       "'hello   hi'"
      ]
     },
     "execution_count": 11,
     "metadata": {},
     "output_type": "execute_result"
    }
   ],
   "source": [
    "print(x.count('o'))\n",
    "print(x.find('o'))\n",
    "'hello\\thi'.expandtabs()"
   ]
  },
  {
   "cell_type": "markdown",
   "metadata": {},
   "source": [
    "Speaking of strings, it's inevitable to talk about a very important concept called 'classes', which is closely related to 'methods' since Python is an object-oriented-programming (OOP) language.\n",
    "\n",
    "To start with, we need to understand how OOP works. First, **Python objects** are Python’s abstraction for data. All data in a Python program are represented by objects or by relations between objects. Every object has an identity, a type and a value. Thus a string is an object. A number, say 45, is an object. You will see other types of more advanced objects in the future (say lists, dictionaries, sets, functions, modules etc.). An object’s type determines the operations that the object supports (e.g., does it have a length?) and also defines the possible values for objects of that type.\n",
    "\n",
    "Every object has a type, but the type can be user-defined. A **Python class** is essentially a mechanism Python gives us to create new user-defined types from Python codes. In this sense, a class and a type is extremely similar, except that people often use the class construct in a more general setting to create user-defined types. We will see more concepts like these in the lecture specifically dedicated to studying OOP. \n",
    "\n",
    "Not unlike the ambiguity between \"class\" and \"type\", A **Python instance** is synonymous to \"object\". Think of it this way: objects are instances of types. So,saying \"42 is an instance of the type int\" is equivalent to saying \"42 is an int object\". Many lazy programmers usually use \"instance\" and \"object\" interchangeably.\n",
    "\n",
    "In most respects, a method (associated with its object) is identical to a function except for two key differences. First, it is implicitly passed for the object for which it was called. Second, it is able to operate on data that is contained within the class. We often say that an object is an instance of a class - the class is the definition, the object is an instance of that data."
   ]
  },
  {
   "cell_type": "markdown",
   "metadata": {},
   "source": [
    "We now study formats in Python. There are many ways to do this. The best way is to use the format method. This is the most Pythonic way of coding."
   ]
  },
  {
   "cell_type": "code",
   "execution_count": 12,
   "metadata": {},
   "outputs": [
    {
     "name": "stdout",
     "output_type": "stream",
     "text": [
      "Peter Gao at the age of 29 was really cool.\n",
      "Peter Gao at the age of 29 was really cool.\n",
      "Robert Frost at the age of 21 was really smart.\n",
      "Peter was 29 years old.\n"
     ]
    }
   ],
   "source": [
    "b=29\n",
    "firstname='Peter'\n",
    "lastname=\"Gao\"\n",
    "age=b # b is already defined as 28 previously\n",
    "print(\"{0} {1} at the age of {2} was really cool.\".format(firstname, lastname, age)) # Python starts counting from 0, not 1\n",
    "print(\"{} {} at the age of {} was really cool.\".format(firstname, lastname, age)) # the numbers are optional for format methods\n",
    "print(\"{firstname} {lastname} at the age of {age} was really smart.\".format(firstname=\"Robert\", lastname=\"Frost\", age=21))\n",
    "print(firstname + ' was ' + str(age) + ' years old.') # the plus sign means concatenation"
   ]
  },
  {
   "cell_type": "markdown",
   "metadata": {},
   "source": [
    "Python can also handle more advanced number types. In mathematics and computing, hexadecimal (also base 16, or hex) is a positional numeral system with a 'radix', or base, of 16. It uses sixteen distinct symbols, most often the symbols 0–9 to represent values zero to nine, and A, B, C, D, E, F (or alternatively a, b, c, d, e, f) to represent values ten to fifteen. Hexadecimal numerals are widely used by computer system designers and programmers. As each hexadecimal digit represents four binary digits (bits), it allows a more human-friendly representation of binary-coded values. One hexadecimal digit represents a nibble (4 bits), which is half of an octet or byte (8 bits). Each digit is referred to as a bit. In contrast, a binary number is a number expressed in the binary numeral system or base-2 numeral system which represents numeric values using two different symbols. Python can handle both types of data."
   ]
  },
  {
   "cell_type": "code",
   "execution_count": 13,
   "metadata": {},
   "outputs": [
    {
     "name": "stdout",
     "output_type": "stream",
     "text": [
      "0xf6\n",
      "0x200\n",
      "0b10000000\n",
      "0b1100\n"
     ]
    }
   ],
   "source": [
    "print(hex(246))\n",
    "print(hex(512))\n",
    "print(bin(128))\n",
    "print(bin(12))"
   ]
  },
  {
   "cell_type": "code",
   "execution_count": null,
   "metadata": {
    "collapsed": true
   },
   "outputs": [],
   "source": []
  }
 ],
 "metadata": {
  "kernelspec": {
   "display_name": "Python 3",
   "language": "python",
   "name": "python3"
  },
  "language_info": {
   "codemirror_mode": {
    "name": "ipython",
    "version": 3
   },
   "file_extension": ".py",
   "mimetype": "text/x-python",
   "name": "python",
   "nbconvert_exporter": "python",
   "pygments_lexer": "ipython3",
   "version": "3.6.3"
  }
 },
 "nbformat": 4,
 "nbformat_minor": 2
}
