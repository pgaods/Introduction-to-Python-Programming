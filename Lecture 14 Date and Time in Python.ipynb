{
 "cells": [
  {
   "cell_type": "markdown",
   "metadata": {},
   "source": [
    "In every programming language, date and time formatting is always a big topic. For example, in SAS, dates and times are represented by 5 digits number, also known as SAS dates. In Python, there exists a 'datetime' module to help deal with timestamps in your code. Time values are represented with the 'time' class. Times have attributes for hour, minute, second, and microsecond. They can also include time zone information. The arguments to initialize a time instance are optional, but the default of 0 is unlikely to be what you want. Also, keep in mind that a time instance only holds values of time, and not a date associated with the time.\n",
    "\n",
    "Below we give some examples of using the date.time() function in the 'datetime' module:"
   ]
  },
  {
   "cell_type": "code",
   "execution_count": 1,
   "metadata": {
    "collapsed": true
   },
   "outputs": [],
   "source": [
    "import datetime"
   ]
  },
  {
   "cell_type": "code",
   "execution_count": 2,
   "metadata": {},
   "outputs": [
    {
     "name": "stdout",
     "output_type": "stream",
     "text": [
      "<class 'datetime.time'>\n",
      "05:25:01\n",
      "hours:  5\n",
      "minutes:  25\n",
      "seconds:  1\n",
      "time zone: None\n",
      "Microsecond:  0\n"
     ]
    }
   ],
   "source": [
    "t1=datetime.time(5, 25, 1) # hours, minutes, seconds\n",
    "print(type(t1)) # this has a time class and it has attributes associated with this class\n",
    "print(t1)\n",
    "print('hours: ', t1.hour)\n",
    "print('minutes: ', t1.minute)\n",
    "print('seconds: ', t1.second)\n",
    "print('time zone:', t1.tzinfo)\n",
    "print('Microsecond: ', t1.microsecond)"
   ]
  },
  {
   "cell_type": "markdown",
   "metadata": {},
   "source": [
    "We can also check the minimum and maximum values a time of day. The 'min' and 'max' class attributes reflect the valid range of times in a single day."
   ]
  },
  {
   "cell_type": "code",
   "execution_count": 3,
   "metadata": {},
   "outputs": [
    {
     "name": "stdout",
     "output_type": "stream",
     "text": [
      "Earliest : 00:00:00\n",
      "Latest : 23:59:59.999999\n",
      "Resolution:  0:00:00.000001\n"
     ]
    }
   ],
   "source": [
    "print('Earliest :', datetime.time.min)\n",
    "print('Latest :', datetime.time.max)\n",
    "print('Resolution: ', datetime.time.resolution) # up to this resolution in date and time"
   ]
  },
  {
   "cell_type": "markdown",
   "metadata": {},
   "source": [
    "Now let's look at dates. Calendar date values are represented with the 'date' class. Instances have attributes for year, month, and day. It is easy to create a date representing today’s date using the today() class method. Lets see some examples:"
   ]
  },
  {
   "cell_type": "code",
   "execution_count": 4,
   "metadata": {},
   "outputs": [
    {
     "name": "stdout",
     "output_type": "stream",
     "text": [
      "<class 'datetime.date'>\n",
      "2017-07-14\n",
      "ctime: Fri Jul 14 00:00:00 2017\n",
      "tuple: time.struct_time(tm_year=2017, tm_mon=7, tm_mday=14, tm_hour=0, tm_min=0, tm_sec=0, tm_wday=4, tm_yday=195, tm_isdst=-1)\n",
      "ordinal: 736524\n",
      "Year: 2017\n",
      "Mon : 7\n",
      "Day : 14\n"
     ]
    }
   ],
   "source": [
    "t2 = datetime.date.today()\n",
    "print(type(t2))\n",
    "print(t2)\n",
    "print('ctime:', t2.ctime()) # current date\n",
    "print('tuple:', t2.timetuple())\n",
    "print('ordinal:', t2.toordinal())\n",
    "print('Year:', t2.year)\n",
    "print('Mon :', t2.month)\n",
    "print('Day :', t2.day)"
   ]
  },
  {
   "cell_type": "markdown",
   "metadata": {},
   "source": [
    "As with time, the range of date values supported can be determined using the 'min' and 'max' attributes:"
   ]
  },
  {
   "cell_type": "code",
   "execution_count": 5,
   "metadata": {},
   "outputs": [
    {
     "name": "stdout",
     "output_type": "stream",
     "text": [
      "Earliest  : 0001-01-01\n",
      "Latest    : 9999-12-31\n",
      "Resolution: 1 day, 0:00:00\n"
     ]
    }
   ],
   "source": [
    "print('Earliest  :', datetime.date.min)\n",
    "print('Latest    :', datetime.date.max)\n",
    "print('Resolution:', datetime.date.resolution)"
   ]
  },
  {
   "cell_type": "markdown",
   "metadata": {},
   "source": [
    "Another way to create new date instances uses the replace() method of an existing date. For example, you can change the year, leaving the day and month alone:"
   ]
  },
  {
   "cell_type": "code",
   "execution_count": 6,
   "metadata": {},
   "outputs": [
    {
     "name": "stdout",
     "output_type": "stream",
     "text": [
      "d1: 2015-03-11\n",
      "d2: 1990-03-11\n"
     ]
    }
   ],
   "source": [
    "d1 = datetime.date(2015, 3, 11)\n",
    "print('d1:', d1)\n",
    "d2 = d1.replace(year=1990)\n",
    "print('d2:', d2)"
   ]
  },
  {
   "cell_type": "markdown",
   "metadata": {},
   "source": [
    "We can also perform arithmetic operations on date objects to check for time differences. The idea is very similar to the intnx() function in SAS. For example:"
   ]
  },
  {
   "cell_type": "code",
   "execution_count": 7,
   "metadata": {},
   "outputs": [
    {
     "name": "stdout",
     "output_type": "stream",
     "text": [
      "<class 'datetime.timedelta'>\n",
      "9 days, 0:00:00\n"
     ]
    }
   ],
   "source": [
    "dt1=datetime.date(2017,7,9)\n",
    "dt2=datetime.date(2017,6,30)\n",
    "delta=dt1-dt2 # calculating the difference in dates\n",
    "print(type(delta))\n",
    "print(delta)"
   ]
  },
  {
   "cell_type": "markdown",
   "metadata": {
    "collapsed": true
   },
   "source": [
    "Now that we have studied times and dates, we can start timing our codes. In many production environment for software engineers and data scientists, it is extremely important to know the processing time of codes, or at least know if a particular line of code is slowing down the entire project. Python has a built-in timing module to do this. This built-in module called 'timeit' provides a simple way to time small bits of Python codes. It has both a Command-Line Interface as well as a callable one. It avoids a number of common traps for measuring execution times."
   ]
  },
  {
   "cell_type": "code",
   "execution_count": 1,
   "metadata": {
    "collapsed": true
   },
   "outputs": [],
   "source": [
    "import timeit"
   ]
  },
  {
   "cell_type": "markdown",
   "metadata": {},
   "source": [
    "As an illustrative example, let us use 'timeit' to time various methods of creating a string that starts from 0 and ends at 99 with dashes in between. So the string we intend to create will look like this: '0-1-2-3-.....-99'. There are many ways to do this. For example, we can use a loop to create this iteratively. We can also use list comprehensions to achieve this. Moreover, we can apply the map() function too. Each method, however, takes a different processing time. Below are the methods:"
   ]
  },
  {
   "cell_type": "code",
   "execution_count": 2,
   "metadata": {},
   "outputs": [
    {
     "name": "stdout",
     "output_type": "stream",
     "text": [
      "Method 1: using loop methods, s1 is given by  0-1-2-3-4-5-6-7-8-9-10-11-12-13-14-15-16-17-18-19-20-21-22-23-24-25-26-27-28-29-30-31-32-33-34-35-36-37-38-39-40-41-42-43-44-45-46-47-48-49-50-51-52-53-54-55-56-57-58-59-60-61-62-63-64-65-66-67-68-69-70-71-72-73-74-75-76-77-78-79-80-81-82-83-84-85-86-87-88-89-90-91-92-93-94-95-96-97-98-99 \n",
      "\n",
      "Method 2: using list comprehension method, s2 is given by  0-1-2-3-4-5-6-7-8-9-10-11-12-13-14-15-16-17-18-19-20-21-22-23-24-25-26-27-28-29-30-31-32-33-34-35-36-37-38-39-40-41-42-43-44-45-46-47-48-49-50-51-52-53-54-55-56-57-58-59-60-61-62-63-64-65-66-67-68-69-70-71-72-73-74-75-76-77-78-79-80-81-82-83-84-85-86-87-88-89-90-91-92-93-94-95-96-97-98-99 \n",
      "\n",
      "Method 3: using the map() function, s3 is given by  0-1-2-3-4-5-6-7-8-9-10-11-12-13-14-15-16-17-18-19-20-21-22-23-24-25-26-27-28-29-30-31-32-33-34-35-36-37-38-39-40-41-42-43-44-45-46-47-48-49-50-51-52-53-54-55-56-57-58-59-60-61-62-63-64-65-66-67-68-69-70-71-72-73-74-75-76-77-78-79-80-81-82-83-84-85-86-87-88-89-90-91-92-93-94-95-96-97-98-99 \n",
      "\n"
     ]
    }
   ],
   "source": [
    "s1=\"-\".join(str(n) for n in range(100))\n",
    "s2=\"-\".join([str(n) for n in range(100)])\n",
    "s3=\"-\".join(map(str, range(100)))\n",
    "print('Method 1: using loop methods, s1 is given by ', s1, '\\n')\n",
    "print('Method 2: using list comprehension method, s2 is given by ', s2, '\\n')\n",
    "print('Method 3: using the map() function, s3 is given by ', s3, '\\n')"
   ]
  },
  {
   "cell_type": "markdown",
   "metadata": {},
   "source": [
    "The join() method above returns a string in which the string elements of sequence have been joined by 'str' separator. Now let's time each method and see which method runs the most efficient. To make the code run slightly longer, we make each method run 30000 times. We will see that using the third method (the map() function) significantly reduces the run time for the program: "
   ]
  },
  {
   "cell_type": "code",
   "execution_count": 10,
   "metadata": {},
   "outputs": [
    {
     "name": "stdout",
     "output_type": "stream",
     "text": [
      "Method 1:  0.9068356869839177 seconds\n",
      "\n",
      "Method 2:  0.7215650426534271 seconds\n",
      "\n",
      "Method 3:  0.5580336190488058 seconds\n",
      "\n"
     ]
    }
   ],
   "source": [
    "rep=30000\n",
    "print('Method 1: ', timeit.timeit('\"-\".join(str(n) for n in range(100))', number=rep), 'seconds\\n')\n",
    "print('Method 2: ', timeit.timeit('\"-\".join([str(n) for n in range(100)])', number=rep), 'seconds\\n')\n",
    "print('Method 3: ', timeit.timeit('\"-\".join(map(str, range(100)))', number=rep),  'seconds\\n')"
   ]
  },
  {
   "cell_type": "markdown",
   "metadata": {},
   "source": [
    "There is an alternative magic function to time your code. The iPython's %timeit will perform the code in the same line a certain number of times (loops) and will give you the fastest performance time (best of 3).  It's also important to note that iPython will limit the amount of real time it will spend on its timeit procedure. For instance if running 100000 loops took 10 minutes, iPython would automatically reduce the number of loops to something more reasonable like 100 or 1000. Below is an example:"
   ]
  },
  {
   "cell_type": "code",
   "execution_count": 11,
   "metadata": {},
   "outputs": [
    {
     "name": "stdout",
     "output_type": "stream",
     "text": [
      "10000 loops, best of 3: 27.8 µs per loop\n"
     ]
    }
   ],
   "source": [
    "%timeit \"-\".join(str(n) for n in range(100))"
   ]
  },
  {
   "cell_type": "markdown",
   "metadata": {},
   "source": [
    "Lastly, let's discuss how to create a time stamp. The idea of time stamp is that sometimes we want to leave different time stamps at different points of the Python code so the developers or ETL analysts will know where they are in the process. This can be easily achieved by invoking the 'datetime' module. Below are some examples:"
   ]
  },
  {
   "cell_type": "code",
   "execution_count": 12,
   "metadata": {},
   "outputs": [
    {
     "name": "stdout",
     "output_type": "stream",
     "text": [
      "Timestamp v1: 2017-07-14 22:27:18\n",
      "Timestamp v2: 2017-Jul-14 22:27:18\n",
      "Date now: 2017-07-14 22:27:18.643801\n",
      "Date today: 2017-07-14\n",
      "\n",
      "Today's date is Jul, 14 2017\n",
      "\n",
      "Maintenance time v1: Jul, 14 2017 - 6 PM to 10 PM Pacific\n",
      "Maintenance tie v2: July, 14 2017 - 1 PM to 6 PM Central\n"
     ]
    }
   ],
   "source": [
    "print('Timestamp v1: {:%Y-%m-%d %H:%M:%S}'.format(datetime.datetime.now()))\n",
    "print('Timestamp v2: {:%Y-%b-%d %H:%M:%S}'.format(datetime.datetime.now()))\n",
    "print('Date now: %s' % datetime.datetime.now())\n",
    "print('Date today: %s' % datetime.date.today())\n",
    "\n",
    "today = datetime.date.today()\n",
    "print(\"\\nToday's date is {:%b, %d %Y}\\n\".format(today))\n",
    "\n",
    "schedule = '{:%b, %d %Y}'.format(today) + ' - 6 PM to 10 PM Pacific'\n",
    "schedule2 = '{:%B, %d %Y}'.format(today) + ' - 1 PM to 6 PM Central'\n",
    "print('Maintenance time v1: %s' % schedule)\n",
    "print('Maintenance tie v2: %s' % schedule2)"
   ]
  },
  {
   "cell_type": "code",
   "execution_count": null,
   "metadata": {
    "collapsed": true
   },
   "outputs": [],
   "source": []
  }
 ],
 "metadata": {
  "kernelspec": {
   "display_name": "Python 3",
   "language": "python",
   "name": "python3"
  },
  "language_info": {
   "codemirror_mode": {
    "name": "ipython",
    "version": 3
   },
   "file_extension": ".py",
   "mimetype": "text/x-python",
   "name": "python",
   "nbconvert_exporter": "python",
   "pygments_lexer": "ipython3",
   "version": "3.6.3"
  }
 },
 "nbformat": 4,
 "nbformat_minor": 2
}
