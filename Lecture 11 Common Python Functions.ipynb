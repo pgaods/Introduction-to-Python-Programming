{
 "cells": [
  {
   "cell_type": "markdown",
   "metadata": {},
   "source": [
    "In this lecture, we study the most common Python functions. "
   ]
  },
  {
   "cell_type": "markdown",
   "metadata": {
    "collapsed": true
   },
   "source": [
    "First, we will learn a function called map(), which takes two arguments: a function and a sequence iterable (e.g. a list). This function applies to all the elements of the sequence. It returns a new list with the elements changed by the function. This function is often used with lambda expression too. \n",
    "\n",
    "Below we motivate the function with an example. Suppose we have a vector (list) of temperature values in Celsius and we would like to convert each element in that list to Fahrenheit. Using map() function will help us achieve our goal."
   ]
  },
  {
   "cell_type": "code",
   "execution_count": 1,
   "metadata": {},
   "outputs": [
    {
     "name": "stdout",
     "output_type": "stream",
     "text": [
      "32.0\n"
     ]
    },
    {
     "data": {
      "text/plain": [
       "<map at 0x2066f5778d0>"
      ]
     },
     "execution_count": 1,
     "metadata": {},
     "output_type": "execute_result"
    }
   ],
   "source": [
    "def fahrenheit(C):\n",
    "    F=(9/5)*C+32\n",
    "    return F\n",
    "print(fahrenheit(0))\n",
    "temp=[0, 21, 26, 31, 35]\n",
    "map(fahrenheit, temp)"
   ]
  },
  {
   "cell_type": "markdown",
   "metadata": {},
   "source": [
    "Notice there is a problem in the above code in the output, even though all the syntaxes are correct. If you look at the output of the map() function, the display only returns a 'map' object but not a list. This is because in Python 3+, many processes that iterate over iterables return iterators themselves. In most cases, this ends up saving memory, and should make things go faster. You will not encounter the problem in Python 2-. In other words, if you type the above command in Python 2, you will get a list. \n",
    "\n",
    "Since we are in the Python 3 world, let's modify our code so that the result of the map function is a list. This is easy, all we have to do is to put everything in a list() function. "
   ]
  },
  {
   "cell_type": "code",
   "execution_count": 2,
   "metadata": {},
   "outputs": [
    {
     "name": "stdout",
     "output_type": "stream",
     "text": [
      "[32.0, 69.80000000000001, 78.80000000000001, 87.80000000000001, 95.0]\n",
      "['0.00', '21.00', '26.00', '31.00', '35.00']\n"
     ]
    }
   ],
   "source": [
    "temp2=list(map(fahrenheit, temp))\n",
    "print(temp2)\n",
    "temp3 = [\"%.2f\" % element for element in temp] # list comprehension helps formatting our results\n",
    "print(temp3)"
   ]
  },
  {
   "cell_type": "markdown",
   "metadata": {},
   "source": [
    "The map() function can also be used in conjunction with the lambda expression. This is very useful when your function is extremely simple. "
   ]
  },
  {
   "cell_type": "code",
   "execution_count": 3,
   "metadata": {},
   "outputs": [
    {
     "data": {
      "text/plain": [
       "[32.0, 69.80000000000001, 78.80000000000001, 87.80000000000001, 95.0]"
      ]
     },
     "execution_count": 3,
     "metadata": {},
     "output_type": "execute_result"
    }
   ],
   "source": [
    "list(map(lambda C: (9/5)*C+32, temp))"
   ]
  },
  {
   "cell_type": "markdown",
   "metadata": {},
   "source": [
    "You can also use the lambda expression with more than one argument together with the map(). This is not recommended for beginners but notice the power of the map() function. "
   ]
  },
  {
   "cell_type": "code",
   "execution_count": 4,
   "metadata": {},
   "outputs": [
    {
     "data": {
      "text/plain": [
       "[5, 7, 9]"
      ]
     },
     "execution_count": 4,
     "metadata": {},
     "output_type": "execute_result"
    }
   ],
   "source": [
    "a=[1,2,3]\n",
    "b=[4,5,6]\n",
    "list(map(lambda x,y: x+y, a, b))"
   ]
  },
  {
   "cell_type": "markdown",
   "metadata": {},
   "source": [
    "If you come from a background with R as a statistician, then you will notice that the map() function is very similar to the lapply() function in R. "
   ]
  },
  {
   "cell_type": "markdown",
   "metadata": {},
   "source": [
    "Let's have another example. Suppose I have a string of text from Shakespeare and I would like to know the average length of each word used in the string. Below is the code to achieve our goal:"
   ]
  },
  {
   "cell_type": "code",
   "execution_count": 5,
   "metadata": {},
   "outputs": [
    {
     "name": "stdout",
     "output_type": "stream",
     "text": [
      "['Shall', 'I', 'compare', 'thee', 'to', 'a', \"summer's\", 'day?', 'Thou', 'art', 'more', 'lovely', 'and', 'more', 'temperate.']\n",
      "[5, 1, 7, 4, 2, 1, 8, 4, 4, 3, 4, 6, 3, 4, 10]\n",
      "Avg word length used is: 4.4\n"
     ]
    }
   ],
   "source": [
    "Shakespeare=\"Shall I compare thee to a summer's day? Thou art more lovely and more temperate.\"\n",
    "Shakespeare2=Shakespeare.split()\n",
    "print(Shakespeare2)\n",
    "def wordroughcount(l):\n",
    "    return len(l)\n",
    "tot=list(map(wordroughcount, Shakespeare2))\n",
    "print(tot)\n",
    "import numpy\n",
    "print('Avg word length used is: ' + str(numpy.mean(tot)))\n",
    "    "
   ]
  },
  {
   "cell_type": "markdown",
   "metadata": {},
   "source": [
    "We now go over the next function called reduce(). This function with the syntax reduce(function, sequence) continually applies the function to the sequence. It then returns a single value.\n",
    "\n",
    "If seq = [ s1, s2, s3, ... , sn ], calling reduce(function, sequence) works like this: 1) At first the first two elements of seq will be applied to function, i.e. func(s1,s2). 2) The list on which reduce() works looks now like this: [function(s1, s2), s3, ... , sn]. 3) In the next step the function will be applied on the previous result and the third element of the list, i.e. function(function(s1, s2),s3). 4) The list looks like this now: [function(function(s1, s2),s3), ... , sn]. 5) It continues like this until just one element is left and return this element as the result of reduce().\n",
    "\n",
    "Lets see an example below. Notice that the reduce() function used to be already in the package. These days this function is moved to the 'functools' module. "
   ]
  },
  {
   "cell_type": "code",
   "execution_count": 6,
   "metadata": {},
   "outputs": [
    {
     "data": {
      "text/plain": [
       "113"
      ]
     },
     "execution_count": 6,
     "metadata": {},
     "output_type": "execute_result"
    }
   ],
   "source": [
    "from functools import reduce\n",
    "blah=[47,11,42,13]\n",
    "reduce(lambda x,y: x+y, blah)"
   ]
  },
  {
   "cell_type": "markdown",
   "metadata": {},
   "source": [
    "Lets look at a diagram to get a better understanding of what is going on here:"
   ]
  },
  {
   "cell_type": "code",
   "execution_count": 7,
   "metadata": {},
   "outputs": [
    {
     "data": {
      "image/png": "[encoded data removed]",
      "text/plain": [
       "<IPython.core.display.Image object>"
      ]
     },
     "execution_count": 7,
     "metadata": {},
     "output_type": "execute_result"
    }
   ],
   "source": [
    "from IPython.display import Image\n",
    "Image('http://www.python-course.eu/images/reduce_diagram.png')"
   ]
  },
  {
   "cell_type": "markdown",
   "metadata": {},
   "source": [
    "Now let's study our third function called filter(). This function filter(function, list) offers a convenient way to filter out all the elements of an iterable, for which the function returns 'True'. The first argument of filter() must be a function. The result of filter() creates a list of elements for which a function returns true. This function will be applied to every element of the iterable. \n",
    "\n",
    "Lets see some examples. Suppose we have a function that checks whether a number is even. Now let's filter a list of numbers. Note: putting the function into filter without any parenthesis might feel strange, but keep in mind that functions are objects as well. "
   ]
  },
  {
   "cell_type": "code",
   "execution_count": 3,
   "metadata": {},
   "outputs": [
    {
     "name": "stdout",
     "output_type": "stream",
     "text": [
      "[0, 1, 2, 3, 4, 5, 6]\n",
      "[0, 2, 4, 6]\n"
     ]
    }
   ],
   "source": [
    "#First let's make a function\n",
    "def even_check(num):\n",
    "    if num%2 ==0:\n",
    "        return True\n",
    "ourlist=range(7)\n",
    "print(list(ourlist))\n",
    "print(list(filter(even_check,ourlist))) # [0,2,4,6]"
   ]
  },
  {
   "cell_type": "markdown",
   "metadata": {},
   "source": [
    "The filter() function is very similar to the map() function in the sense that it stores its output as a 'filter' object and it can take on lambda expressions. Below is another example:"
   ]
  },
  {
   "cell_type": "code",
   "execution_count": 9,
   "metadata": {},
   "outputs": [
    {
     "data": {
      "text/plain": [
       "[5, 6]"
      ]
     },
     "execution_count": 9,
     "metadata": {},
     "output_type": "execute_result"
    }
   ],
   "source": [
    "list(filter(lambda x: x>4,ourlist))"
   ]
  },
  {
   "cell_type": "markdown",
   "metadata": {},
   "source": [
    "As another example, suppose we have a text string and we interested in picking out any words that contain 'th' in it using the filter() function. We also want to further count how many unique words are there that contains 'th'. Below is the code:"
   ]
  },
  {
   "cell_type": "code",
   "execution_count": 10,
   "metadata": {},
   "outputs": [
    {
     "name": "stdout",
     "output_type": "stream",
     "text": [
      "['the', 'that', 'the', 'the']\n",
      "word frequency in a dictionary: \n",
      "{'the': 3, 'that': 1}\n"
     ]
    }
   ],
   "source": [
    "Shakespeare3=\"When I do count the clock that tells the time And see the brave day sunk in hideous night\"\n",
    "s=Shakespeare3.split()\n",
    "def wordfilter(st):\n",
    "    if 'th' in st:\n",
    "        return st\n",
    "    else:\n",
    "        pass\n",
    "th=list(filter(wordfilter, s))\n",
    "print(th)\n",
    "print('word frequency in a dictionary: \\n' + str(dict((i,th.count(i)) for i in set(th))))"
   ]
  },
  {
   "cell_type": "markdown",
   "metadata": {
    "collapsed": true
   },
   "source": [
    "Next, we move on to studying the function zip(). The zip() function makes an iterator that aggregates elements from each of the iterables and returns an iterator of tuples, where the i-th tuple contains the i-th element from each of the argument sequences or iterables. The iterator stops when the shortest input iterable is exhausted. With a single iterable argument, it returns an iterator of 1-tuples. With no arguments, it returns an empty iterator. The function is very similar to the map() function and reduce() function in the sense that the direct output of the zip() function is a 'zip'-specific object. \n",
    "\n",
    "This function is a bit hard to understand on a cursory look. Let's see an example:"
   ]
  },
  {
   "cell_type": "code",
   "execution_count": 11,
   "metadata": {},
   "outputs": [
    {
     "data": {
      "text/plain": [
       "[(1, 4), (9, 8), (3, 6)]"
      ]
     },
     "execution_count": 11,
     "metadata": {},
     "output_type": "execute_result"
    }
   ],
   "source": [
    "x=[1,9,3]\n",
    "y=[4,8,6]\n",
    "tuple(zip(x,y)) \n",
    "list(zip(x,y))"
   ]
  },
  {
   "cell_type": "code",
   "execution_count": 12,
   "metadata": {},
   "outputs": [
    {
     "name": "stdout",
     "output_type": "stream",
     "text": [
      "4\n",
      "9\n",
      "6\n"
     ]
    }
   ],
   "source": [
    "for j in zip(x,y):\n",
    "    print(max(j))"
   ]
  },
  {
   "cell_type": "markdown",
   "metadata": {},
   "source": [
    "Note how tuples are returned for the example above. What if one iterable is longer than the other? In this case, how zip() is defined by the shortest iterable length. Therefore, it is generally advised not to zip unequal length iterables unless your very sure you only need partial tuple pairings."
   ]
  },
  {
   "cell_type": "code",
   "execution_count": 13,
   "metadata": {},
   "outputs": [
    {
     "data": {
      "text/plain": [
       "((4, 1), (8, 2), (6, 3))"
      ]
     },
     "execution_count": 13,
     "metadata": {},
     "output_type": "execute_result"
    }
   ],
   "source": [
    "z=[1,2,3,4,5,6]\n",
    "tuple(zip(y,z))"
   ]
  },
  {
   "cell_type": "markdown",
   "metadata": {},
   "source": [
    "We can also zip together two dictionaries. In this case, some magic will show up. If you mechanically zip two dictionaries, then only the keys will be kept. However, if you modify the code using an associated method called values(), what will happen essentially is that the keys in the first dictionary and the values in the second dictionary are 'zipped up' together. Below is an example. Notice that simply iterating through the dictionaries will result in just the keys. We would have to call methods to mix keys and values if we want to mesh the keys and values together. "
   ]
  },
  {
   "cell_type": "code",
   "execution_count": 4,
   "metadata": {},
   "outputs": [
    {
     "name": "stdout",
     "output_type": "stream",
     "text": [
      "[('a', 'c'), ('b', 'd')]\n",
      "[('c', 'a'), ('d', 'b')]\n"
     ]
    }
   ],
   "source": [
    "d1 = {'a':1,'b':2}\n",
    "d2 = {'c':4,'d':5}\n",
    "print(list(zip(d1,d2)))\n",
    "print(list(zip(d2,d1)))"
   ]
  },
  {
   "cell_type": "code",
   "execution_count": 15,
   "metadata": {},
   "outputs": [
    {
     "name": "stdout",
     "output_type": "stream",
     "text": [
      "{'c': 1, 'd': 2}\n",
      "{'a': 4, 'b': 5}\n"
     ]
    }
   ],
   "source": [
    "print(dict(zip(d2,d1.values())))\n",
    "print(dict(zip(d1,d2.values())))"
   ]
  },
  {
   "cell_type": "markdown",
   "metadata": {},
   "source": [
    "Next, we will learn another function called enumerate(). This function allows you to keep a count as you iterate through an object. It does this by returning a tuple in the form (count,element). The output of the function is an 'enumerate' object, so you will have to change it to a list or a tuple etc. for display purposes in many applications. The enumerate() function becomes particularly useful when you have a case where you need to have some sort of tracker. "
   ]
  },
  {
   "cell_type": "code",
   "execution_count": 16,
   "metadata": {},
   "outputs": [
    {
     "name": "stdout",
     "output_type": "stream",
     "text": [
      "[(0, 'a'), (1, 'b'), (2, 'c')]\n",
      "0 a\n",
      "1 b\n",
      "2 c\n"
     ]
    }
   ],
   "source": [
    "letter = ['a','b','c']\n",
    "print(list(enumerate(letter)))\n",
    "for number,item in enumerate(letter):\n",
    "    print(number, item)"
   ]
  },
  {
   "cell_type": "markdown",
   "metadata": {},
   "source": [
    "Another common useful function we want to cover here is isinstance(). This built-in Python function checks if an object is of a given type. Here are some examples:"
   ]
  },
  {
   "cell_type": "code",
   "execution_count": 2,
   "metadata": {},
   "outputs": [
    {
     "data": {
      "text/plain": [
       "False"
      ]
     },
     "execution_count": 2,
     "metadata": {},
     "output_type": "execute_result"
    }
   ],
   "source": [
    "isinstance(2.0, (int))"
   ]
  },
  {
   "cell_type": "markdown",
   "metadata": {},
   "source": [
    "Let's do an exercise by creating a function to calculate the Gini coefficients, which are often used in inequality studies in economics. The Gini coefficients calculation can be validated here: http://www.shlegeris.com/gini and Wikipedia has a general formula to calculate the Gini coefficients."
   ]
  },
  {
   "cell_type": "code",
   "execution_count": 1,
   "metadata": {},
   "outputs": [
    {
     "data": {
      "text/plain": [
       "0.6022695547928334"
      ]
     },
     "execution_count": 1,
     "metadata": {},
     "output_type": "execute_result"
    }
   ],
   "source": [
    "data=[0.5, 0.5, 9, 12.5, 3.87, 6.12, 45.801]\n",
    "\n",
    "def Gini(data):\n",
    "    if isinstance(data, list) is True: # if the data feeds are list in nature, then perform the following task...\n",
    "        numer=sum([abs(x-y) for i,x in enumerate(data) for j,y in enumerate(data) if i!=j]) # calculating pairwise difference\n",
    "        denom=2*len(data)*sum(data)\n",
    "        Gini=numer/denom\n",
    "        return Gini\n",
    "    else:\n",
    "        print('Error! The data you feed into this function has to be a list object')\n",
    "        \n",
    "Gini(data)"
   ]
  },
  {
   "cell_type": "markdown",
   "metadata": {},
   "source": [
    "Now let's move onto another two functions. The all() and any() are built-in functions in Python that allow us to conveniently check for boolean matching in an iterable. Here, all() will return 'True' if all elements in an iterable are True, and any() will return 'True' if any of the elements in the iterable are 'True'. The two functions are logically equivalent to the user-defined functions below all2() and any2() defined below:"
   ]
  },
  {
   "cell_type": "code",
   "execution_count": 17,
   "metadata": {},
   "outputs": [
    {
     "name": "stdout",
     "output_type": "stream",
     "text": [
      "False\n",
      "False\n",
      "True\n",
      "True\n"
     ]
    }
   ],
   "source": [
    "def all2(iterable):\n",
    "    for element in iterable:\n",
    "        if not element:\n",
    "            return False\n",
    "    return True\n",
    "def any2(iterable):\n",
    "    for element in iterable:\n",
    "        if element:\n",
    "            return True\n",
    "    return False\n",
    "logic_list=[True, True, False]\n",
    "print(all(logic_list)) # False\n",
    "print(all2(logic_list)) # False\n",
    "print(any(logic_list)) # True\n",
    "print(any2(logic_list)) # True"
   ]
  },
  {
   "cell_type": "markdown",
   "metadata": {},
   "source": [
    "Now let's study a weird function called object(). This function accepts no input and it returns a featureless object which is a base for all classes. Here is an example. In the program below, we used built-in functions type() and dir() to get type and all attributes of the object respectively:"
   ]
  },
  {
   "cell_type": "code",
   "execution_count": 4,
   "metadata": {},
   "outputs": [
    {
     "name": "stdout",
     "output_type": "stream",
     "text": [
      "<class 'object'> \n",
      "\n",
      "['__class__', '__delattr__', '__dir__', '__doc__', '__eq__', '__format__', '__ge__', '__getattribute__', '__gt__', '__hash__', '__init__', '__init_subclass__', '__le__', '__lt__', '__ne__', '__new__', '__reduce__', '__reduce_ex__', '__repr__', '__setattr__', '__sizeof__', '__str__', '__subclasshook__']\n"
     ]
    }
   ],
   "source": [
    "test = object()\n",
    "\n",
    "print(type(test),'\\n')\n",
    "print(dir(test))"
   ]
  },
  {
   "cell_type": "markdown",
   "metadata": {},
   "source": [
    "This function is not that intuitive, but it will become useful when it comes OOP and some advanced data types. It essentially gives us the most basic method for all classes. These are useful for software engineers. We will not elaborate them here any more.\n",
    "\n",
    "Python has a lot of built-in functions that pertains to concept of OOP and data conversion. An example is the int() function, which returns an integer object from any number or string:"
   ]
  },
  {
   "cell_type": "code",
   "execution_count": 7,
   "metadata": {},
   "outputs": [
    {
     "name": "stdout",
     "output_type": "stream",
     "text": [
      "123\n",
      "123\n"
     ]
    }
   ],
   "source": [
    "print(int(123.23))\n",
    "print(int('123'))"
   ]
  },
  {
   "cell_type": "code",
   "execution_count": null,
   "metadata": {
    "collapsed": true
   },
   "outputs": [],
   "source": []
  }
 ],
 "metadata": {
  "kernelspec": {
   "display_name": "Python 3",
   "language": "python",
   "name": "python3"
  },
  "language_info": {
   "codemirror_mode": {
    "name": "ipython",
    "version": 3
   },
   "file_extension": ".py",
   "mimetype": "text/x-python",
   "name": "python",
   "nbconvert_exporter": "python",
   "pygments_lexer": "ipython3",
   "version": "3.6.3"
  }
 },
 "nbformat": 4,
 "nbformat_minor": 2
}
