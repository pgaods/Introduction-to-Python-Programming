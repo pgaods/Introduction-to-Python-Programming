{
 "cells": [
  {
   "cell_type": "markdown",
   "metadata": {
    "collapsed": true
   },
   "source": [
    "In this lecture, we study widgets event. A widget event is basically an action from the user side. An example is button-click. "
   ]
  },
  {
   "cell_type": "markdown",
   "metadata": {},
   "source": [
    "We first study button-clicking in Python widgets. The 'Button' is not used to represent a data type. Instead the button widget is used to handle mouse clicks. The on_click() method of the 'Button' can be used to register function to be called when the button is clicked. The doc string of the on_click can be seen below:"
   ]
  },
  {
   "cell_type": "code",
   "execution_count": 9,
   "metadata": {
    "collapsed": false
   },
   "outputs": [
    {
     "name": "stdout",
     "output_type": "stream",
     "text": [
      "Register a callback to execute when the button is clicked.\n",
      "\n",
      "        The callback will be called with one argument, the clicked button\n",
      "        widget instance.\n",
      "\n",
      "        Parameters\n",
      "        ----------\n",
      "        remove: bool (optional)\n",
      "            Set to true to remove the callback from the list of callbacks.\n",
      "        \n"
     ]
    }
   ],
   "source": [
    "import ipywidgets as widgets\n",
    "print(widgets.Button.on_click.__doc__)"
   ]
  },
  {
   "cell_type": "markdown",
   "metadata": {},
   "source": [
    "Since button-clicks are stateless, they are transmitted from the front-end to the back-end using custom messages. By using the on_click() method, a button that prints a message when it has been clicked is shown below. After you run the code, you will see a buttom with words on it 'Click Me Here!' at the bottom. If you click on it, you will see the result of the function on_button_clicked(), which is a print of 'Button clicked...'."
   ]
  },
  {
   "cell_type": "code",
   "execution_count": 2,
   "metadata": {
    "collapsed": false
   },
   "outputs": [
    {
     "name": "stdout",
     "output_type": "stream",
     "text": [
      "Button clicked...\n",
      "Button clicked...\n",
      "Button clicked...\n",
      "Button clicked...\n",
      "Button clicked...\n",
      "Button clicked...\n",
      "Button clicked...\n",
      "Button clicked...\n"
     ]
    }
   ],
   "source": [
    "from IPython.display import display\n",
    "button = widgets.Button(description=\"Click Me Here!\")\n",
    "display(button)\n",
    "\n",
    "def on_button_clicked(b):\n",
    "    print(\"Button clicked...\")\n",
    "\n",
    "button.on_click(on_button_clicked)"
   ]
  },
  {
   "cell_type": "markdown",
   "metadata": {},
   "source": [
    "Now we have seen that a 'Button' is an event, here comes another example of an event: the 'Text' widget has a special 'on_submit' event. The 'on_submit' event fires when the user hits the return key. Below, if you run the entire code, you will see a text box popping up in the Jupyter notebook. Now, click on the box and put in any text string and hit 'enter' on your keyboard, the output will print out the text strings you put in the box. "
   ]
  },
  {
   "cell_type": "code",
   "execution_count": 4,
   "metadata": {
    "collapsed": false
   },
   "outputs": [
    {
     "name": "stdout",
     "output_type": "stream",
     "text": [
      "I am not sad anymore\n",
      "I am strong and my life is good\n",
      "I will marry a great woman in my life\n",
      "\n"
     ]
    }
   ],
   "source": [
    "text = widgets.Text()\n",
    "display(text)\n",
    "def handle_submit(sender):\n",
    "    print(text.value)\n",
    "text.on_submit(handle_submit)"
   ]
  },
  {
   "cell_type": "markdown",
   "metadata": {},
   "source": [
    "Now let's introduce the 'Traitlet' events. To handle changes, the on_trait_change() method of this widget can be used to register a callback. The doc string for on_trait_change can be seen below:"
   ]
  },
  {
   "cell_type": "code",
   "execution_count": 5,
   "metadata": {
    "collapsed": false
   },
   "outputs": [
    {
     "name": "stdout",
     "output_type": "stream",
     "text": [
      "DEPRECATED: Setup a handler to be called when a trait changes.\n",
      "\n",
      "        This is used to setup dynamic notifications of trait changes.\n",
      "\n",
      "        Static handlers can be created by creating methods on a HasTraits\n",
      "        subclass with the naming convention '_[traitname]_changed'.  Thus,\n",
      "        to create static handler for the trait 'a', create the method\n",
      "        _a_changed(self, name, old, new) (fewer arguments can be used, see\n",
      "        below).\n",
      "\n",
      "        If `remove` is True and `handler` is not specified, all change\n",
      "        handlers for the specified name are uninstalled.\n",
      "\n",
      "        Parameters\n",
      "        ----------\n",
      "        handler : callable, None\n",
      "            A callable that is called when a trait changes.  Its\n",
      "            signature can be handler(), handler(name), handler(name, new),\n",
      "            handler(name, old, new), or handler(name, old, new, self).\n",
      "        name : list, str, None\n",
      "            If None, the handler will apply to all traits.  If a list\n",
      "            of str, handler will apply to all names in the list.  If a\n",
      "            str, the handler will apply just to that name.\n",
      "        remove : bool\n",
      "            If False (the default), then install the handler.  If True\n",
      "            then unintall it.\n",
      "        \n"
     ]
    }
   ],
   "source": [
    "print(widgets.Widget.on_trait_change.__doc__)"
   ]
  },
  {
   "cell_type": "code",
   "execution_count": 11,
   "metadata": {
    "collapsed": false
   },
   "outputs": [
    {
     "name": "stderr",
     "output_type": "stream",
     "text": [
      "C:\\Users\\pgao\\Anaconda3\\lib\\site-packages\\ipykernel\\__main__.py:5: DeprecationWarning: on_trait_change is deprecated in traitlets 4.1: use observe instead\n"
     ]
    },
    {
     "name": "stdout",
     "output_type": "stream",
     "text": [
      "3\n",
      "6\n",
      "7\n",
      "9\n",
      "10\n",
      "11\n",
      "12\n",
      "9\n",
      "8\n",
      "2\n",
      "0\n"
     ]
    }
   ],
   "source": [
    "int_range = widgets.IntSlider()\n",
    "display(int_range)\n",
    "def on_value_change(name, value):\n",
    "    print(value)\n",
    "int_range.on_trait_change(on_value_change, 'value')"
   ]
  },
  {
   "cell_type": "markdown",
   "metadata": {},
   "source": [
    "Basically the idea is that if you drag the slider above, the output will print out a trace of the values of the past traces of the slider. This widget is not often used and is about to retire (some Python versions will issue a warning for this method). "
   ]
  },
  {
   "cell_type": "markdown",
   "metadata": {},
   "source": [
    "Now let's go back to linking widgets after we studied and understood widget events. Often, you may want to simply link widget attributes together. Synchronization of attributes can be done in a simpler way than by using bare traitlets events. \n",
    "\n",
    "The first method is to use the link() and dlink() functions from the traitlets module. Let's compare:"
   ]
  },
  {
   "cell_type": "code",
   "execution_count": 12,
   "metadata": {
    "collapsed": true
   },
   "outputs": [],
   "source": [
    "import traitlets"
   ]
  },
  {
   "cell_type": "code",
   "execution_count": 13,
   "metadata": {
    "collapsed": true
   },
   "outputs": [],
   "source": [
    "caption = widgets.Label(value = 'The values of slider1 and slider2 are synchronized') # create caption\n",
    "slider1 = widgets.IntSlider(description='Slider 1') # create IntSlider\n",
    "slider2 =  widgets.IntSlider(description='Slider 2') # create IntSlider\n",
    "l = traitlets.link((slider1, 'value'), (slider2, 'value')) # use trailets to link\n",
    "display(caption, slider1, slider2)"
   ]
  },
  {
   "cell_type": "code",
   "execution_count": 14,
   "metadata": {
    "collapsed": true
   },
   "outputs": [],
   "source": [
    "caption = widgets.Label(value = 'Changes in source values are reflected in target1') # create caption\n",
    "source = widgets.IntSlider(description='Source') # create IntSlider\n",
    "target1 = widgets.IntSlider(description='Target') # create IntSlider\n",
    "dl = traitlets.dlink((source, 'value'), (target1, 'value')) # use dlink to link\n",
    "display(caption, source, target1)"
   ]
  },
  {
   "cell_type": "markdown",
   "metadata": {},
   "source": [
    "Now if we compare the two sets of codes, the first chunk of codes creates two sliders and if you drag any one of them, the other one will respond simultaneously. In comparison, the second chunks of code behaves differently: if you drag 'Source', the 'Target' will respond simultaneously, whereas if you drag 'Target', the 'Source' will not be moved. \n",
    "\n",
    "If we want to unlink them, we can run the command below. Now if you drag any one of the slider, the other value won't change (also make sure you only run it once, otherwise it will error):"
   ]
  },
  {
   "cell_type": "code",
   "execution_count": 15,
   "metadata": {
    "collapsed": false
   },
   "outputs": [],
   "source": [
    "l.unlink()\n",
    "dl.unlink()"
   ]
  },
  {
   "cell_type": "markdown",
   "metadata": {},
   "source": [
    "Finally, for a small trick, when synchronizing traitlets attributes, you may experience a lag because of the latency due to the roundtrip to the server side. You can also directly link widget attributes in the browser using the link widgets, in either a unidirectional or a bidirectional fashion. The jslink() and jsdlink() help solve the lag problem:"
   ]
  },
  {
   "cell_type": "code",
   "execution_count": 16,
   "metadata": {
    "collapsed": true
   },
   "outputs": [],
   "source": [
    "caption = widgets.Label(value = 'The values of range1 and range2 are synchronized')\n",
    "range1 = widgets.IntSlider(description='Range 1')\n",
    "range2 =  widgets.IntSlider(description='Range 2')\n",
    "l = widgets.jslink((range1, 'value'), (range2, 'value'))\n",
    "display(caption, range1, range2)"
   ]
  },
  {
   "cell_type": "code",
   "execution_count": 17,
   "metadata": {
    "collapsed": true
   },
   "outputs": [],
   "source": [
    "caption = widgets.Label(value = 'Changes in source_range values are reflected in target_range1')\n",
    "source_range = widgets.IntSlider(description='Source range')\n",
    "target_range1 = widgets.IntSlider(description='Target range ')\n",
    "dl = widgets.jsdlink((source_range, 'value'), (target_range1, 'value'))\n",
    "display(caption, source_range, target_range1)"
   ]
  },
  {
   "cell_type": "code",
   "execution_count": 18,
   "metadata": {
    "collapsed": true
   },
   "outputs": [],
   "source": [
    "l.unlink()\n",
    "dl.unlink()"
   ]
  },
  {
   "cell_type": "code",
   "execution_count": null,
   "metadata": {
    "collapsed": true
   },
   "outputs": [],
   "source": []
  }
 ],
 "metadata": {
  "kernelspec": {
   "display_name": "Python 3",
   "language": "python",
   "name": "python3"
  },
  "language_info": {
   "codemirror_mode": {
    "name": "ipython",
    "version": 3
   },
   "file_extension": ".py",
   "mimetype": "text/x-python",
   "name": "python",
   "nbconvert_exporter": "python",
   "pygments_lexer": "ipython3",
   "version": "3.6.0"
  },
  "widgets": {
   "state": {
    "1562f23cf551429a81726a702640e33e": {
     "views": [
      {
       "cell_index": 19
      }
     ]
    },
    "3d91bf82211e4bf0858265d4d6d52e31": {
     "views": [
      {
       "cell_index": 13
      }
     ]
    },
    "4b05ab6796cf45e3a61b34d5e230ffb0": {
     "views": [
      {
       "cell_index": 19
      }
     ]
    },
    "4e72156a04ce4c6fb43512c5c4f9577e": {
     "views": [
      {
       "cell_index": 9
      }
     ]
    },
    "51e287e2535f451b822c72c4f6274f78": {
     "views": [
      {
       "cell_index": 14
      }
     ]
    },
    "5dfcabd897284747915e7b705ebacf16": {
     "views": [
      {
       "cell_index": 18
      }
     ]
    },
    "689e182b7ced4485ba335154391d396c": {
     "views": [
      {
       "cell_index": 6
      }
     ]
    },
    "88892838566c4d8bb24fcec6fb37147b": {
     "views": [
      {
       "cell_index": 4
      }
     ]
    },
    "89a26228a89f4dbbb0e706ec282e9265": {
     "views": [
      {
       "cell_index": 13
      }
     ]
    },
    "a4d4d0b7c3f440278d2ab411c5ce644e": {
     "views": [
      {
       "cell_index": 14
      }
     ]
    },
    "a8a9b35a51c54105aaada296fd49005c": {
     "views": [
      {
       "cell_index": 13
      }
     ]
    },
    "b3c3a7baaea04de6a7109ed64a7451fe": {
     "views": [
      {
       "cell_index": 18
      }
     ]
    },
    "cc327a1567844ed0b56a171621870496": {
     "views": [
      {
       "cell_index": 19
      }
     ]
    },
    "f99bd946b8ac499a9729eb1d8d34aa73": {
     "views": [
      {
       "cell_index": 18
      }
     ]
    },
    "f9c6518789954ad59ffbd042ce1a7adc": {
     "views": [
      {
       "cell_index": 14
      }
     ]
    }
   },
   "version": "1.2.0"
  }
 },
 "nbformat": 4,
 "nbformat_minor": 2
}
