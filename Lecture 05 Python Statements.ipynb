{
 "cells": [
  {
   "cell_type": "markdown",
   "metadata": {},
   "source": [
    "In this lecture, we study Python statements. Python has its beauty in its simplicity. For example, in Python, we don't need to put a semicolon at the end. On the other hand, in Python, white space and indentation matters a lot. So it's important to keep everything the most organized matter for code readability and syntax correctness."
   ]
  },
  {
   "cell_type": "markdown",
   "metadata": {
    "collapsed": true
   },
   "source": [
    "The first thing we learn is conditional execution using the 'if' statements. The general syntax is given by:\n",
    "\n",
    "if case_1:\n",
    "\n",
    "    statement_1\n",
    "    \n",
    "elif case_2:\n",
    "\n",
    "    statement_2\n",
    "\n",
    "...\n",
    "\n",
    "elif case_n:\n",
    "\n",
    "    statement_n\n",
    "\n",
    "else final_statement\n",
    "\n",
    "Note that indentation is required (4 white spaces). The colons are also indispensable in the syntax. "
   ]
  },
  {
   "cell_type": "code",
   "execution_count": 1,
   "metadata": {},
   "outputs": [
    {
     "name": "stdout",
     "output_type": "stream",
     "text": [
      "x=4\n"
     ]
    }
   ],
   "source": [
    "x=4\n",
    "if x>4:\n",
    "    print(\"x is greater than 4\")\n",
    "elif x<4:\n",
    "    print(\"x is less than 4\")\n",
    "else:\n",
    "    print('x=4')"
   ]
  },
  {
   "cell_type": "markdown",
   "metadata": {},
   "source": [
    "Nesting is also possible for conditional execution."
   ]
  },
  {
   "cell_type": "code",
   "execution_count": 2,
   "metadata": {},
   "outputs": [
    {
     "name": "stdout",
     "output_type": "stream",
     "text": [
      "Hello Texas!\n",
      "Welcome Home!\n"
     ]
    }
   ],
   "source": [
    "location1='TX'\n",
    "location2='CA'\n",
    "if location1=='TX':\n",
    "    print('Hello Texas!')\n",
    "    if location2=='CA':\n",
    "        print('Welcome Home!')\n",
    "    elif location2=='IL':\n",
    "        print('Chicago is fun')\n",
    "    else:\n",
    "        print(\"I don't know where I am!\")\n",
    "elif location1=='WI':\n",
    "    print(\"Wisconsin is the most horrible statements in the US!\")\n",
    "\n"
   ]
  },
  {
   "cell_type": "markdown",
   "metadata": {},
   "source": [
    "We now discuss loops. The idea of loops is iteration. So there are many things we can actually iterate over. These includes strings, lists, tuples, and even built-in iterables for dictionaries, such as keys or values. Here is the generic syntax:\n",
    "\n",
    "for item in objects:\n",
    "\n",
    "    statement(s)\n",
    "    \n"
   ]
  },
  {
   "cell_type": "code",
   "execution_count": 3,
   "metadata": {},
   "outputs": [
    {
     "name": "stdout",
     "output_type": "stream",
     "text": [
      "2\n",
      "3\n",
      "4\n",
      "5\n",
      "6\n"
     ]
    }
   ],
   "source": [
    "list_a=[1,2,3,4,5]\n",
    "for element in list_a: # the item 'element' can be anything as long as it's consistently used in the loop\n",
    "    print(element+1)\n",
    "    "
   ]
  },
  {
   "cell_type": "code",
   "execution_count": 4,
   "metadata": {},
   "outputs": [
    {
     "name": "stdout",
     "output_type": "stream",
     "text": [
      "0\n",
      "0\n",
      "1\n",
      "2\n",
      "0\n"
     ]
    }
   ],
   "source": [
    "for num in list_a:\n",
    "    print(10%num) # modulo"
   ]
  },
  {
   "cell_type": "code",
   "execution_count": 5,
   "metadata": {},
   "outputs": [
    {
     "name": "stdout",
     "output_type": "stream",
     "text": [
      "1 is an odd number\n",
      "2 is an even number\n",
      "3 is an odd number\n",
      "4 is an even number\n",
      "5 is an odd number\n",
      "6 is an even number\n",
      "7 is an odd number\n",
      "8 is an even number\n"
     ]
    }
   ],
   "source": [
    "list_a=[1,2,3,4,5,6,7,8]\n",
    "for num in list_a:\n",
    "    if num%2==0:\n",
    "        print(str(num) +\" is an even number\")\n",
    "    else:\n",
    "        print(str(num) +\" is an odd number\")"
   ]
  },
  {
   "cell_type": "code",
   "execution_count": 6,
   "metadata": {},
   "outputs": [
    {
     "name": "stdout",
     "output_type": "stream",
     "text": [
      "list_sum=1\n",
      "list_sum=3\n",
      "list_sum=6\n",
      "list_sum=10\n",
      "list_sum=15\n",
      "final result:15\n"
     ]
    }
   ],
   "source": [
    "list_sum=0\n",
    "list_b=[1,2,3,4,5]\n",
    "for i in list_b:\n",
    "    list_sum=list_sum+i\n",
    "    print(\"list_sum=\" + str(list_sum))\n",
    "print('final result:' + str(list_sum))"
   ]
  },
  {
   "cell_type": "code",
   "execution_count": 7,
   "metadata": {},
   "outputs": [
    {
     "name": "stdout",
     "output_type": "stream",
     "text": [
      "T\n",
      "h\n",
      "i\n",
      "s\n",
      " \n",
      "i\n",
      "s\n",
      " \n",
      "a\n",
      " \n",
      "s\n",
      "t\n",
      "r\n",
      "i\n",
      "n\n",
      "g\n"
     ]
    }
   ],
   "source": [
    "s='This is a string'\n",
    "for item in s: # we can also loop through strings\n",
    "    print(item)"
   ]
  },
  {
   "cell_type": "code",
   "execution_count": 8,
   "metadata": {},
   "outputs": [
    {
     "name": "stdout",
     "output_type": "stream",
     "text": [
      "1\n",
      "2\n",
      "3\n",
      "4\n",
      "Dadaism\n"
     ]
    }
   ],
   "source": [
    "tup=(1,2,3,4,\"Dadaism\") # this is a tuple\n",
    "for j in tup: # looping through tuples\n",
    "    print(j)"
   ]
  },
  {
   "cell_type": "markdown",
   "metadata": {},
   "source": [
    "For tuples, we can also achieve **tuple unpacking** (so if you have a list of tuples, you can loop through the list and unpack each tuple element-wise). This is an important topic because many looping is done on tuples."
   ]
  },
  {
   "cell_type": "code",
   "execution_count": 9,
   "metadata": {},
   "outputs": [
    {
     "name": "stdout",
     "output_type": "stream",
     "text": [
      "(1, 9, 4)\n",
      "9 \n",
      "\n",
      "Tuple unpacking example: \n",
      "\n",
      "(1, 9, 4)\n",
      "(4, 5, 2)\n",
      "(7, 6, 4)\n"
     ]
    }
   ],
   "source": [
    "list_c=[(1,9,4), (4,5,2), (7,6,4)]\n",
    "print(list_c[0]) # (1,9,4)\n",
    "print(list_c[0][1], '\\n') # 9\n",
    "print('Tuple unpacking example: \\n')\n",
    "for (t1,t2,t3) in list_c: # tuple unpacking, the dimensionality must match as items inside must be uniform\n",
    "    print((t1,t2,t3))"
   ]
  },
  {
   "cell_type": "markdown",
   "metadata": {},
   "source": [
    "To iterate through dictionaries is a little bit tricky. If you simply use the syntax like before for tuples and lists, the iteration will only return the key values of the dictionaries. To iterate the actual items in the dictionaries, one must invoke something called a generator. This is a special type of objects that we will cover in the future. For now, just keep in mind that in Python 3 (current version), the method is called items()."
   ]
  },
  {
   "cell_type": "code",
   "execution_count": 10,
   "metadata": {},
   "outputs": [
    {
     "name": "stdout",
     "output_type": "stream",
     "text": [
      "This is a dictionary: {'k1': 1, 'k2': 2, 'k3': 3}\n",
      "k1\n",
      "k2\n",
      "k3\n",
      "\n",
      "\n",
      "k1: 1\n",
      "k2: 2\n",
      "k3: 3\n"
     ]
    }
   ],
   "source": [
    "dic={'k1':1, 'k2':2, 'k3':3}\n",
    "print('This is a dictionary: ' + str(dic))\n",
    "for items in dic:\n",
    "    print(items) # this will only print the keys\n",
    "print('\\n')\n",
    "for keys, element in dic.items():\n",
    "    print(str(keys) + ': ' + str(element))"
   ]
  },
  {
   "cell_type": "markdown",
   "metadata": {},
   "source": [
    "The third big topic we will cover is the while-loop. The basic syntax for the while-loop is given by the following:\n",
    "\n",
    "while test_condition:\n",
    "\n",
    "    statements\n",
    "    \n",
    "else:\n",
    "\n",
    "    statements\n",
    "    \n",
    "    "
   ]
  },
  {
   "cell_type": "code",
   "execution_count": 11,
   "metadata": {},
   "outputs": [
    {
     "name": "stdout",
     "output_type": "stream",
     "text": [
      "x is currently: 0\n",
      "x is currently: 1\n",
      "x is currently: 2\n",
      "x is currently: 3\n",
      "x is currently: 4\n",
      "x is currently: 5\n",
      "x is currently: 6\n"
     ]
    }
   ],
   "source": [
    "x=0\n",
    "while x<7:\n",
    "    print('x is currently: '+str(x))\n",
    "    x=x+1"
   ]
  },
  {
   "cell_type": "code",
   "execution_count": 12,
   "metadata": {},
   "outputs": [
    {
     "name": "stdout",
     "output_type": "stream",
     "text": [
      "x is currently: 0\n",
      "x is currently: 1\n",
      "x is currently: 2\n",
      "x is currently: 3\n",
      "All done!\n"
     ]
    }
   ],
   "source": [
    "x=0\n",
    "while x<4:\n",
    "    print('x is currently: '+str(x))\n",
    "    x=x+1\n",
    "else: \n",
    "    print('All done!')"
   ]
  },
  {
   "cell_type": "markdown",
   "metadata": {},
   "source": [
    "We now learn how to use the other control statements (break and continue). These statements are usually used in conjunction with the while-loop. "
   ]
  },
  {
   "cell_type": "markdown",
   "metadata": {
    "collapsed": true
   },
   "source": [
    "The general syntax of them are given by the following:\n",
    "\n",
    "while test_condition:\n",
    "\n",
    "    codes\n",
    "    \n",
    "    if test_condition_2:\n",
    "    \n",
    "        break\n",
    "        \n",
    "    if test_condition_3:\n",
    "    \n",
    "        continue\n",
    "        \n",
    "else:\n",
    "\n",
    "    additional_codes"
   ]
  },
  {
   "cell_type": "code",
   "execution_count": 13,
   "metadata": {},
   "outputs": [
    {
     "name": "stdout",
     "output_type": "stream",
     "text": [
      "The current value of x equals 0\n",
      "x is still less or equal to 3, adding 1 to x each step!\n",
      "x equals 1 now! Pay atttention!\n",
      "The current value of x equals 1\n",
      "x is still less or equal to 3, adding 1 to x each step!\n",
      "The current value of x equals 2\n",
      "x is still less or equal to 3, adding 1 to x each step!\n",
      "The current value of x equals 3\n",
      "x is still less or equal to 3, adding 1 to x each step!\n",
      "All done!\n"
     ]
    }
   ],
   "source": [
    "x=0\n",
    "while x<=3:\n",
    "    print('The current value of x equals '+str(x))\n",
    "    print('x is still less or equal to 3, adding 1 to x each step!')\n",
    "    x=x+1\n",
    "    if x==1:\n",
    "        print('x equals 1 now! Pay atttention!')\n",
    "    else:\n",
    "        continue \n",
    "else:\n",
    "    print('All done!')"
   ]
  },
  {
   "cell_type": "code",
   "execution_count": 14,
   "metadata": {},
   "outputs": [
    {
     "name": "stdout",
     "output_type": "stream",
     "text": [
      "The current value of x equals 0\n",
      "x is still less or equal to 3, adding 1 to x each step!\n",
      "The current value of x equals 1\n",
      "x is still less or equal to 3, adding 1 to x each step!\n",
      "when x=1, break here!\n"
     ]
    }
   ],
   "source": [
    "x=0\n",
    "while x<=3:\n",
    "    print('The current value of x equals '+str(x))\n",
    "    print('x is still less or equal to 3, adding 1 to x each step!')\n",
    "    x=x+1\n",
    "    if x==2:\n",
    "        print('when x=1, break here!')\n",
    "        break\n",
    "    else:\n",
    "        continue \n",
    "else:\n",
    "    print('All done!')"
   ]
  },
  {
   "cell_type": "markdown",
   "metadata": {},
   "source": [
    "When writing the while loops, make sure your logic 'breaks' somewhere, because you want to avoid infinite loops."
   ]
  },
  {
   "cell_type": "markdown",
   "metadata": {},
   "source": [
    "When it comes to looping, the range() function will always come in handy. This is actually a generator in Python 3. Simply put, a **generator** is a function which allows the generation of the generated objects that are provided at that instance but does not store any instance generated into memory. So if you have a lot of things to iterate, then a generator may come in handy. We will cover more topics related to generators in subsequent lectures. The important thing to remember here is that when it comes to range(), Python 2 and Python 3 works differently. In Python 3, the range() is already a generator. In Python 2, range() gives you a list, and if you want a generator, you need to instead use the xrange() function. In Python 3, we recommend using generators to save memory. \n",
    "\n",
    "Also, notice that the range(a,b) tells us the generator creates the data using this range; [a,b) (the end number is not included)."
   ]
  },
  {
   "cell_type": "code",
   "execution_count": 15,
   "metadata": {},
   "outputs": [
    {
     "name": "stdout",
     "output_type": "stream",
     "text": [
      "1\n",
      "3\n",
      "5\n",
      "7\n",
      "9\n"
     ]
    },
    {
     "data": {
      "text/plain": [
       "[1, 2]"
      ]
     },
     "execution_count": 15,
     "metadata": {},
     "output_type": "execute_result"
    }
   ],
   "source": [
    "for num in range(1,10,2): # this will print up to 9\n",
    "    print(num)\n",
    "list(range(1,3))"
   ]
  },
  {
   "cell_type": "code",
   "execution_count": 16,
   "metadata": {},
   "outputs": [
    {
     "name": "stdout",
     "output_type": "stream",
     "text": [
      "range(1, 5)\n",
      "<class 'range'>\n",
      "True\n",
      "False\n"
     ]
    }
   ],
   "source": [
    "x=range(1,5)\n",
    "print(x)\n",
    "print(type(x)) # this gives the object type\n",
    "print(1 in x) # True\n",
    "print(6 in x) # False"
   ]
  },
  {
   "cell_type": "markdown",
   "metadata": {},
   "source": [
    "Lastly we discuss a topic called **list comprehension**. List comprehension allows us to build out our lists using a succinct sytax. You can think of it as essentially a one-line for-loop built inside of brackets. The list comprehension almost looks like what we write in set theory s.t. A={x|x in {0,1,2,....}}. Lists comprehension can often save our work of creating an empty list at the beginning. "
   ]
  },
  {
   "cell_type": "code",
   "execution_count": 17,
   "metadata": {},
   "outputs": [
    {
     "name": "stdout",
     "output_type": "stream",
     "text": [
      "['w', 'o', 'r', 'd']\n",
      "['w', 'o', 'r', 'd']\n"
     ]
    }
   ],
   "source": [
    "l1=[]\n",
    "for seq in 'word': # classical way of looping\n",
    "    l1.append(seq)\n",
    "print(l1)\n",
    "\n",
    "l2=[seq for seq in 'word'] # list comprehension\n",
    "print(l2)"
   ]
  },
  {
   "cell_type": "code",
   "execution_count": 18,
   "metadata": {},
   "outputs": [
    {
     "name": "stdout",
     "output_type": "stream",
     "text": [
      "[1, 8, 27, 64]\n"
     ]
    }
   ],
   "source": [
    "l3=[x**3 for x in range(1,5)] # another example\n",
    "print(l3)"
   ]
  },
  {
   "cell_type": "code",
   "execution_count": 19,
   "metadata": {},
   "outputs": [
    {
     "name": "stdout",
     "output_type": "stream",
     "text": [
      "[0, 2, 4, 6, 8, 10]\n"
     ]
    }
   ],
   "source": [
    "l4 = [number for number in range(0,11) if number % 2 == 0] # pick all even numbers (one can even add the if statement)\n",
    "print(l4)"
   ]
  },
  {
   "cell_type": "markdown",
   "metadata": {},
   "source": [
    "List comprenhesion is very useful for manipulating lists in certain forms. For example, we can change Celsius numbers to Fahrenheit numbers in a list. You can even nest list comprehensions."
   ]
  },
  {
   "cell_type": "code",
   "execution_count": 20,
   "metadata": {},
   "outputs": [
    {
     "name": "stdout",
     "output_type": "stream",
     "text": [
      "[32.0, 64.4, 73.4, 84.2, 86.0, 96.8]\n"
     ]
    }
   ],
   "source": [
    "celsius = [0,18,23,29,30,36]\n",
    "fahrenheit=[temp*9/5+32 for temp in celsius]\n",
    "print(fahrenheit)"
   ]
  },
  {
   "cell_type": "code",
   "execution_count": 21,
   "metadata": {},
   "outputs": [
    {
     "name": "stdout",
     "output_type": "stream",
     "text": [
      "[1, 4, 9, 16, 25]\n"
     ]
    }
   ],
   "source": [
    "l5 = [x**2 for x in [x+1 for x in range(0,5)]] # nesting list comprehensions\n",
    "print(l5)"
   ]
  },
  {
   "cell_type": "code",
   "execution_count": null,
   "metadata": {
    "collapsed": true
   },
   "outputs": [],
   "source": []
  }
 ],
 "metadata": {
  "kernelspec": {
   "display_name": "Python 3",
   "language": "python",
   "name": "python3"
  },
  "language_info": {
   "codemirror_mode": {
    "name": "ipython",
    "version": 3
   },
   "file_extension": ".py",
   "mimetype": "text/x-python",
   "name": "python",
   "nbconvert_exporter": "python",
   "pygments_lexer": "ipython3",
   "version": "3.6.3"
  }
 },
 "nbformat": 4,
 "nbformat_minor": 2
}
