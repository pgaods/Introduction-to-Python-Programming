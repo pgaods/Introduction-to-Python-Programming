{
 "cells": [
  {
   "cell_type": "markdown",
   "metadata": {},
   "source": [
    "Python provides various options for developing graphical user interfaces (GUIs). For future references, the most common GUI frameworks are listed here: https://wiki.python.org/moin/GUI%20Programming%20in%20Python. The full list of GUI is given here: https://wiki.python.org/moin/GuiProgramming. \n",
    "\n",
    "It's important to remember that no framework is objectively better than all the others, and different use cases will require different frameworks. For instance, if you want to begin GUIs by designing a graphical game, your best bet would be 'PyGame'. If you want to build web apps, you'll probably want to avoid Python as the GUI and use it for back-end work using 'Flask' or 'Django' instead. With web apps you'll want to explore HTML,CSS, and Javascript to provide the GUI for your user.\n",
    "\n",
    "For the rest of this section we will explore the awesome world of 'widgets' in the Jupyter Notebook setting. This type of GUI is best suited for creating dashboards for data/business analysis situations."
   ]
  },
  {
   "cell_type": "markdown",
   "metadata": {},
   "source": [
    "Before we move forward, we need to explain what a widget is. This term can mean different things, depending on who is talking and the context. In one sense, a widget is any sort of small, as-yet unnamed mechanical item, and the term is often used interchangeably with “gadget.” Within the web development community, it is a piece of self-enclosed code that can be embedded into a website or program to perform a specific function. Many websites take advantage of this type of code to increase their functionality and customizability.\n",
    "\n",
    "We first begin to learn about creating dashboard-type GUI with iPython widgets. As you will see, in the Jupyter notebook's world, we can create widgets such as slidebars and drop-down boxes that you often see in other mobile apps to faciliate your programming. These types of widgets make the Python program very user friendly, which resembles many characteristics of UI principles. \n",
    "\n",
    "To start with, we first go over the ipywidgets.interact() function, which is designed to automatically create user interface controls for exploring code and data interactively. It is the easiest way to get started using IPython's widgets."
   ]
  },
  {
   "cell_type": "code",
   "execution_count": 27,
   "metadata": {
    "collapsed": true
   },
   "outputs": [],
   "source": [
    "# from __future__ import print_function\n",
    "from ipywidgets import interact, interactive, fixed\n",
    "import ipywidgets as widgets"
   ]
  },
  {
   "cell_type": "markdown",
   "metadata": {},
   "source": [
    "At the most basic level, the interact() function auto-generates UI controls for function arguments, and then calls the function with those arguments when you manipulate the controls interactively. To use ipwidgets.interact(), you need to define a function that you want to explore. Here is a function that prints its only argument x:"
   ]
  },
  {
   "cell_type": "code",
   "execution_count": 6,
   "metadata": {
    "collapsed": false
   },
   "outputs": [
    {
     "data": {
      "text/plain": [
       "10"
      ]
     },
     "metadata": {},
     "output_type": "display_data"
    },
    {
     "data": {
      "text/plain": [
       "<function __main__.f>"
      ]
     },
     "execution_count": 6,
     "metadata": {},
     "output_type": "execute_result"
    }
   ],
   "source": [
    "def f(x):\n",
    "    return x\n",
    "interact(f, x=10)"
   ]
  },
  {
   "cell_type": "markdown",
   "metadata": {},
   "source": [
    "As you see in the above example, we first define a generic function that f(x)=x. The interact() function invokes a slide-bar so that users can play with the functional argument x itself to see what the value of the function f(x) is."
   ]
  },
  {
   "cell_type": "code",
   "execution_count": 7,
   "metadata": {
    "collapsed": false
   },
   "outputs": [
    {
     "data": {
      "text/plain": [
       "16"
      ]
     },
     "metadata": {},
     "output_type": "display_data"
    }
   ],
   "source": [
    "def g(x):\n",
    "    return 2*x\n",
    "interact(g, x=8); # putting a semilon in this setting will get rid of the output in the notebook (compare with previous exampmle!)"
   ]
  },
  {
   "cell_type": "markdown",
   "metadata": {},
   "source": [
    "If you pass True or False, interact() will generate a check-box; if you pass a string, interact() will generate a text area, for example:"
   ]
  },
  {
   "cell_type": "code",
   "execution_count": 8,
   "metadata": {
    "collapsed": false
   },
   "outputs": [
    {
     "data": {
      "text/plain": [
       "True"
      ]
     },
     "metadata": {},
     "output_type": "display_data"
    }
   ],
   "source": [
    "interact(f, x=True); # booleans generate check-boxes"
   ]
  },
  {
   "cell_type": "code",
   "execution_count": 9,
   "metadata": {
    "collapsed": false
   },
   "outputs": [
    {
     "data": {
      "text/plain": [
       "'Hi there!'"
      ]
     },
     "metadata": {},
     "output_type": "display_data"
    }
   ],
   "source": [
    "interact(f, x='Hi there!'); # strings generate text areas"
   ]
  },
  {
   "cell_type": "markdown",
   "metadata": {},
   "source": [
    "The interact() function can also be used as a decorator. This allows you to define a function and interact with it in a single shot. As the example shows below, interact() also works with functions that have multiple arguments:"
   ]
  },
  {
   "cell_type": "code",
   "execution_count": 10,
   "metadata": {
    "collapsed": false
   },
   "outputs": [
    {
     "data": {
      "text/plain": [
       "(True, 1.0)"
      ]
     },
     "metadata": {},
     "output_type": "display_data"
    }
   ],
   "source": [
    "@interact(x=True, y=1.0) # using a decorator\n",
    "def g(x, y):\n",
    "    return (x, y)"
   ]
  },
  {
   "cell_type": "markdown",
   "metadata": {},
   "source": [
    "There are times when you may want to explore a function using interact(), but fix one or more of its arguments to specific values. This can be accomplished by wrapping values with the fixed() function. In the example below, notice that a slider is only produced for p as the value of q is fixed."
   ]
  },
  {
   "cell_type": "code",
   "execution_count": 11,
   "metadata": {
    "collapsed": false
   },
   "outputs": [
    {
     "data": {
      "text/plain": [
       "(5, 26)"
      ]
     },
     "metadata": {},
     "output_type": "display_data"
    }
   ],
   "source": [
    "def h(p, q):\n",
    "    return (p, q)\n",
    "interact(h, p=5, q=fixed(26));"
   ]
  },
  {
   "cell_type": "markdown",
   "metadata": {},
   "source": [
    "Now let's talk about widget abbreviation. When you pass an integer-valued keyword argument of 10 (x=10) to interact(), it generates an integer-valued slider control with a range of [−10,+3×10]. In this case, 10 is an abbreviation for an actual slider widget:\n",
    "\n",
    "IntSlider(min=-10,max=30,step=1,value=10)\n",
    "\n",
    "In fact, we can get the same result if we pass this IntSlider() as the keyword argument for x:"
   ]
  },
  {
   "cell_type": "code",
   "execution_count": 12,
   "metadata": {
    "collapsed": false
   },
   "outputs": [
    {
     "data": {
      "text/plain": [
       "32"
      ]
     },
     "metadata": {},
     "output_type": "display_data"
    }
   ],
   "source": [
    "interact(f, x=widgets.IntSlider(min=0,max=54,step=1,value=8)); # can call the IntSlider to get more specific"
   ]
  },
  {
   "cell_type": "markdown",
   "metadata": {},
   "source": [
    "This examples clarifies how interact() process its keyword arguments:\n",
    "\n",
    "   1. If the keyword argument is a 'Widget' instance with a value attribute, that widget is used. Any widget with a value attribute can be used, even custom ones.\n",
    "   2. Otherwise, the value is treated as a widget abbreviation that is converted to a widget before it is used."
   ]
  },
  {
   "cell_type": "markdown",
   "metadata": {},
   "source": [
    "If a 2-tuple of integers is passed (min,max), an integer-valued slider is produced with those minimum and maximum values (inclusively). In this case, the default step size of 1 is used:"
   ]
  },
  {
   "cell_type": "code",
   "execution_count": 13,
   "metadata": {
    "collapsed": false
   },
   "outputs": [
    {
     "data": {
      "text/plain": [
       "2"
      ]
     },
     "metadata": {},
     "output_type": "display_data"
    }
   ],
   "source": [
    "interact(f, x=(0,4));"
   ]
  },
  {
   "cell_type": "markdown",
   "metadata": {},
   "source": [
    "If a 3-tuple of integers is passed (min,max,step), the step size can also be set:"
   ]
  },
  {
   "cell_type": "code",
   "execution_count": 14,
   "metadata": {
    "collapsed": false
   },
   "outputs": [
    {
     "data": {
      "text/plain": [
       "4"
      ]
     },
     "metadata": {},
     "output_type": "display_data"
    }
   ],
   "source": [
    "interact(f, x=(0,8,2));"
   ]
  },
  {
   "cell_type": "markdown",
   "metadata": {},
   "source": [
    "A float-valued slider is produced if the elements of the tuples are floats. Here the minimum is 0.0, the maximum is 10.0 and step size is 0.1 (the default):"
   ]
  },
  {
   "cell_type": "code",
   "execution_count": 15,
   "metadata": {
    "collapsed": false
   },
   "outputs": [
    {
     "data": {
      "text/plain": [
       "5.0"
      ]
     },
     "metadata": {},
     "output_type": "display_data"
    }
   ],
   "source": [
    "interact(f, x=(0.0,10.0));"
   ]
  },
  {
   "cell_type": "markdown",
   "metadata": {},
   "source": [
    "The step size can be changed by passing a third element in the tuple:"
   ]
  },
  {
   "cell_type": "code",
   "execution_count": 16,
   "metadata": {
    "collapsed": false
   },
   "outputs": [
    {
     "data": {
      "text/plain": [
       "4.99"
      ]
     },
     "metadata": {},
     "output_type": "display_data"
    }
   ],
   "source": [
    "interact(f, x=(0.0,10.0,0.01));"
   ]
  },
  {
   "cell_type": "markdown",
   "metadata": {},
   "source": [
    "Drop-down menus are constructed by passing a tuple of strings. In this case, the strings are both used as the names in the drop-down menu UI and passed to the underlying Python function:"
   ]
  },
  {
   "cell_type": "code",
   "execution_count": 17,
   "metadata": {
    "collapsed": false
   },
   "outputs": [
    {
     "data": {
      "text/plain": [
       "'apples'"
      ]
     },
     "metadata": {},
     "output_type": "display_data"
    }
   ],
   "source": [
    "interact(f, x=('apples','oranges', 'bananas'));"
   ]
  },
  {
   "cell_type": "markdown",
   "metadata": {},
   "source": [
    "If you want a drop-down menu that passes non-string values to the Python function, you can pass a dictionary. The keys in the dictionary are used for the names in the drop-down menu UI and the values are the arguments that are passed to the underlying Python function."
   ]
  },
  {
   "cell_type": "code",
   "execution_count": 18,
   "metadata": {
    "collapsed": false
   },
   "outputs": [
    {
     "data": {
      "text/plain": [
       "'K-THREE'"
      ]
     },
     "metadata": {},
     "output_type": "display_data"
    }
   ],
   "source": [
    "interact(f, x={'k1': 10, 'k2': 20, 'k3': 'K-THREE'});"
   ]
  },
  {
   "cell_type": "markdown",
   "metadata": {},
   "source": [
    "In addition to interact(), IPython provides another function, interactive(), that is useful when you want to reuse the widgets that are produced or access the data that is bound to the UI controls.\n",
    "\n",
    "Below is a function that returns the sum of its two arguments. Unlike interact(), interactive() returns a 'Widget' instance rather than immediately displaying the widget."
   ]
  },
  {
   "cell_type": "code",
   "execution_count": 22,
   "metadata": {
    "collapsed": false
   },
   "outputs": [
    {
     "name": "stdout",
     "output_type": "stream",
     "text": [
      "<class 'ipywidgets.widgets.widget_box.Box'> \n",
      "\n",
      "(<ipywidgets.widgets.widget_int.IntSlider object at 0x0000023C534CE400>, <ipywidgets.widgets.widget_int.IntSlider object at 0x0000023C534CE048>)\n"
     ]
    }
   ],
   "source": [
    "def f(a, b):\n",
    "    return a+b\n",
    "w = interactive(f, a=10, b=20)\n",
    "print(type(w), '\\n')\n",
    "print(w.children)"
   ]
  },
  {
   "cell_type": "markdown",
   "metadata": {},
   "source": [
    "The widget is a 'Box', which is a container for other widgets. The 'children' of the 'Box' are two integer-valued sliders produced by the widget abbreviations above.\n",
    "\n",
    "To actually display the widgets, you can use IPython's display() function:"
   ]
  },
  {
   "cell_type": "code",
   "execution_count": 23,
   "metadata": {
    "collapsed": false
   },
   "outputs": [
    {
     "data": {
      "text/plain": [
       "30"
      ]
     },
     "metadata": {},
     "output_type": "display_data"
    }
   ],
   "source": [
    "from IPython.display import display\n",
    "display(w)"
   ]
  },
  {
   "cell_type": "markdown",
   "metadata": {},
   "source": [
    "At this point, the UI controls work just like they would if interact() had been used. You can manipulate them interactively and the function will be called. However, the widget instance returned by interactive() also gives you access to the current keyword arguments and return value of the underlying Python function."
   ]
  },
  {
   "cell_type": "code",
   "execution_count": 25,
   "metadata": {
    "collapsed": false
   },
   "outputs": [
    {
     "name": "stdout",
     "output_type": "stream",
     "text": [
      "{'a': 10, 'b': 20}\n",
      "30\n"
     ]
    }
   ],
   "source": [
    "print(w.kwargs)\n",
    "print(w.result)"
   ]
  },
  {
   "cell_type": "markdown",
   "metadata": {
    "collapsed": true
   },
   "source": [
    "Now that we have went over the interact() and interactive() functions, we can study more about widget basics. As we have mentioned before, widgets are eventful python objects that have a representation in the browser, often as a control like a slider, text-box, etc. You can use widgets to build interactive GUIs for your notebooks. You can also use widgets to synchronize stateful and stateless information between Python and JavaScript etc. "
   ]
  },
  {
   "cell_type": "markdown",
   "metadata": {},
   "source": [
    "Widgets have their own display representation ('repr') which allows them to be displayed using IPython's display framework. Constructing and returning an 'IntSlider' automatically displays the widget (as seen below). Widgets are displayed inside the widget area, which sits between the code cell and output. You can hide all of the widgets in the widget area by clicking the grey 'x' in the margin."
   ]
  },
  {
   "cell_type": "code",
   "execution_count": 29,
   "metadata": {
    "collapsed": false
   },
   "outputs": [],
   "source": [
    "widgets.IntSlider()"
   ]
  },
  {
   "cell_type": "code",
   "execution_count": 50,
   "metadata": {
    "collapsed": false
   },
   "outputs": [],
   "source": [
    "from IPython.display import display\n",
    "w = widgets.IntSlider()\n",
    "display(w)"
   ]
  },
  {
   "cell_type": "markdown",
   "metadata": {},
   "source": [
    "If you display the same widget twice, the displayed instances in the front-end will remain in sync with each other. Try dragging the slider below and watch the slider above."
   ]
  },
  {
   "cell_type": "code",
   "execution_count": 51,
   "metadata": {
    "collapsed": true
   },
   "outputs": [],
   "source": [
    "display(w)"
   ]
  },
  {
   "cell_type": "markdown",
   "metadata": {},
   "source": [
    "You can close a widget by calling its close() method."
   ]
  },
  {
   "cell_type": "code",
   "execution_count": 33,
   "metadata": {
    "collapsed": true
   },
   "outputs": [],
   "source": [
    "w.close()"
   ]
  },
  {
   "cell_type": "markdown",
   "metadata": {},
   "source": [
    "Now let's discuss widget's properties. All of the IPython widgets share a similar naming scheme. To read the value of a widget, you can query its 'value' property. Similarly, to set a widget's value, you can set its 'value' property."
   ]
  },
  {
   "cell_type": "code",
   "execution_count": 40,
   "metadata": {
    "collapsed": false
   },
   "outputs": [
    {
     "name": "stdout",
     "output_type": "stream",
     "text": [
      "initial value:  0\n",
      "reset value:  34\n"
     ]
    }
   ],
   "source": [
    "w1 = widgets.IntSlider() # creating a slider widget\n",
    "display(w1)\n",
    "print('initial value: ', w1.value)\n",
    "w1.value=34\n",
    "print('reset value: ', w1.value)"
   ]
  },
  {
   "cell_type": "markdown",
   "metadata": {},
   "source": [
    "In addition to 'value', most widgets share 'keys', 'description', 'disabled', and 'visible'. To see the entire list of synchronized, stateful properties of any specific widget, you can query the 'keys' property:"
   ]
  },
  {
   "cell_type": "code",
   "execution_count": 41,
   "metadata": {
    "collapsed": false
   },
   "outputs": [
    {
     "data": {
      "text/plain": [
       "['_dom_classes',\n",
       " '_model_module',\n",
       " '_model_name',\n",
       " '_range',\n",
       " '_view_module',\n",
       " '_view_name',\n",
       " 'background_color',\n",
       " 'color',\n",
       " 'continuous_update',\n",
       " 'description',\n",
       " 'disabled',\n",
       " 'font_family',\n",
       " 'font_size',\n",
       " 'font_style',\n",
       " 'font_weight',\n",
       " 'layout',\n",
       " 'max',\n",
       " 'min',\n",
       " 'msg_throttle',\n",
       " 'orientation',\n",
       " 'readout',\n",
       " 'readout_format',\n",
       " 'slider_color',\n",
       " 'step',\n",
       " 'value',\n",
       " 'visible']"
      ]
     },
     "execution_count": 41,
     "metadata": {},
     "output_type": "execute_result"
    }
   ],
   "source": [
    "w1.keys"
   ]
  },
  {
   "cell_type": "code",
   "execution_count": 42,
   "metadata": {
    "collapsed": false
   },
   "outputs": [
    {
     "data": {
      "text/plain": [
       "['_dom_classes',\n",
       " '_model_module',\n",
       " '_model_name',\n",
       " '_view_module',\n",
       " '_view_name',\n",
       " 'background_color',\n",
       " 'color',\n",
       " 'description',\n",
       " 'disabled',\n",
       " 'font_family',\n",
       " 'font_size',\n",
       " 'font_style',\n",
       " 'font_weight',\n",
       " 'layout',\n",
       " 'msg_throttle',\n",
       " 'placeholder',\n",
       " 'value',\n",
       " 'visible']"
      ]
     },
     "execution_count": 42,
     "metadata": {},
     "output_type": "execute_result"
    }
   ],
   "source": [
    "t1=widgets.Text() # creating a text widget\n",
    "t1.keys"
   ]
  },
  {
   "cell_type": "markdown",
   "metadata": {},
   "source": [
    "There is a shorthand for setting the initial values of widget properties. While creating a widget, you can set some or all of the initial values of that widget by defining them as keyword arguments in the widget's constructor. For example, below the 'Text' widget value is set to be 'blahblah', and when disabled=True, we cannot go into the widget and change it easily on the UI"
   ]
  },
  {
   "cell_type": "code",
   "execution_count": 46,
   "metadata": {
    "collapsed": false
   },
   "outputs": [],
   "source": [
    "widgets.Text(value='blahblah', disabled=True) # notice that the text box below cannot be altered by users"
   ]
  },
  {
   "cell_type": "markdown",
   "metadata": {},
   "source": [
    "Lastly, we study how to link/unlink two similar widgets. The motivation is that if you need to display the same value two different ways, you'll have to use two different widgets. Instead of attempting to manually synchronize the values of the two widgets, you can use the link two properties together. Below, the values of two widgets are linked together. Below in the example, two widgets are linked together (so if you drag one value the other value changes too correspondingly):"
   ]
  },
  {
   "cell_type": "code",
   "execution_count": 48,
   "metadata": {
    "collapsed": false
   },
   "outputs": [],
   "source": [
    "from traitlets import link\n",
    "a = widgets.FloatText() # FloatText widget\n",
    "b = widgets.FloatSlider() # FloatSlider widget\n",
    "display(a,b)\n",
    "mylink = link((a, 'value'), (b, 'value'))"
   ]
  },
  {
   "cell_type": "code",
   "execution_count": 49,
   "metadata": {
    "collapsed": true
   },
   "outputs": [],
   "source": [
    "mylink.unlink() # unlinking the two widgets above"
   ]
  },
  {
   "cell_type": "code",
   "execution_count": null,
   "metadata": {
    "collapsed": true
   },
   "outputs": [],
   "source": []
  }
 ],
 "metadata": {
  "kernelspec": {
   "display_name": "Python 3",
   "language": "python",
   "name": "python3"
  },
  "language_info": {
   "codemirror_mode": {
    "name": "ipython",
    "version": 3
   },
   "file_extension": ".py",
   "mimetype": "text/x-python",
   "name": "python",
   "nbconvert_exporter": "python",
   "pygments_lexer": "ipython3",
   "version": "3.6.0"
  },
  "widgets": {
   "state": {
    "110943835e2c464a85addf1d92622f3c": {
     "views": [
      {
       "cell_index": 20
      }
     ]
    },
    "303feeb39ce3469bb48538452a36e154": {
     "views": [
      {
       "cell_index": 24
      }
     ]
    },
    "3bf9092fdeee42c285bc97b063cf1fbd": {
     "views": [
      {
       "cell_index": 37
      }
     ]
    },
    "3de5c23ece954533914655a8d07534aa": {
     "views": [
      {
       "cell_index": 6
      }
     ]
    },
    "5c1d19371c4e48559f028bf93b9013a6": {
     "views": [
      {
       "cell_index": 18
      }
     ]
    },
    "6ae161606edb4f3990c6d27531e0a660": {
     "views": [
      {
       "cell_index": 15
      }
     ]
    },
    "6aefca1c1a954a689ec1cd063a3141e0": {
     "views": [
      {
       "cell_index": 51
      }
     ]
    },
    "6c18d7ffe92444d5ac61ede99a7f555e": {
     "views": [
      {
       "cell_index": 32
      }
     ]
    },
    "745e496f1c35481eb3d77f07fbfec6a2": {
     "views": [
      {
       "cell_index": 11
      }
     ]
    },
    "78af462d98b145b185879a1f670a1b7e": {
     "views": [
      {
       "cell_index": 22
      }
     ]
    },
    "7afb2d745010443dad92be41683903b1": {
     "views": [
      {
       "cell_index": 8
      }
     ]
    },
    "7e55bea5e7cb4c608d2dfd15322e13ef": {
     "views": [
      {
       "cell_index": 44
      }
     ]
    },
    "9cd511317cb14a81bafb74a6bac39a9b": {
     "views": [
      {
       "cell_index": 51
      }
     ]
    },
    "aa92fbee16804deb95b2ceb4962115e6": {
     "views": [
      {
       "cell_index": 4
      }
     ]
    },
    "e1aa6ddb7d014e1ebabce6a4a812638b": {
     "views": [
      {
       "cell_index": 28
      }
     ]
    },
    "ef08a9aad1384f1daac071136977d87f": {
     "views": [
      {
       "cell_index": 49
      }
     ]
    },
    "f09cc163ca444b77866362ef844917ba": {
     "views": [
      {
       "cell_index": 38
      },
      {
       "cell_index": 40
      }
     ]
    },
    "f18ae1554e9f4089a242349800af2a01": {
     "views": [
      {
       "cell_index": 9
      }
     ]
    },
    "fb5673fa64c943909efc028e3660675f": {
     "views": [
      {
       "cell_index": 26
      }
     ]
    },
    "fc6422d701904513adb759f3a0695f53": {
     "views": [
      {
       "cell_index": 13
      }
     ]
    }
   },
   "version": "1.2.0"
  }
 },
 "nbformat": 4,
 "nbformat_minor": 2
}
