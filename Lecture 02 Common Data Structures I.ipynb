{
 "cells": [
  {
   "cell_type": "markdown",
   "metadata": {},
   "source": [
    "In the previous lecture we studied strings and integers and floats. Here we will move onto learn more varieties of common data structures. \n",
    "\n",
    "**Lists** are objects that can hold different object types. They are created using the square brackets []. Indexing pretty much works the same way as in strings. The starting position is always 0. Lists are **mutable**, meaning that you can change the value of the lists once it's created. Elements of lists can also be lists or other types of Python objects.  "
   ]
  },
  {
   "cell_type": "code",
   "execution_count": 1,
   "metadata": {},
   "outputs": [
    {
     "name": "stdout",
     "output_type": "stream",
     "text": [
      "[1, 2, 3]\n",
      "[1, 'KO', 'Tyson', 1.8, 99.9, ['a', 234.8]]\n",
      "6\n"
     ]
    }
   ],
   "source": [
    "my_list=[1,2,3]\n",
    "print(my_list)\n",
    "new_list=[1,'KO', 'Tyson', 1.8, 99.9, ['a', 234.8]]\n",
    "print(new_list)\n",
    "print(len(new_list))"
   ]
  },
  {
   "cell_type": "code",
   "execution_count": 15,
   "metadata": {
    "scrolled": true
   },
   "outputs": [
    {
     "name": "stdout",
     "output_type": "stream",
     "text": [
      "1\n",
      "['KO', 'Tyson']\n",
      "[1, 'KO', 'Tyson', 1.8]\n",
      "234.8\n"
     ]
    }
   ],
   "source": [
    "print(my_list[0])\n",
    "print(new_list[1:3]) # ['KO', 'TYSON']\n",
    "print(new_list[:-2]) # printing everything up till the second to last element, excluding the second to last element\n",
    "print(new_list[-1][1])"
   ]
  },
  {
   "cell_type": "markdown",
   "metadata": {},
   "source": [
    "When indexing, the colon usage is a very interesting topic. Colons are handy in many scenarios. Here are some examples:"
   ]
  },
  {
   "cell_type": "code",
   "execution_count": 1,
   "metadata": {},
   "outputs": [
    {
     "name": "stdout",
     "output_type": "stream",
     "text": [
      "[1, 2, 3, 4, 5, 6, 7, 8, 9, 10]\n",
      "[1, 2, 3]\n",
      "[1, 4, 7, 10]\n",
      "[10, 7, 4, 1]\n"
     ]
    }
   ],
   "source": [
    "nums=[1,2,3,4,5,6,7,8,9,10]\n",
    "new_nums1=nums[:]\n",
    "new_nums2=nums[:3]\n",
    "new_nums3=nums[::3] # every 3rd element\n",
    "new_nums4=nums[::-3] # every 3rd element backward\n",
    "print(new_nums1)\n",
    "print(new_nums2)\n",
    "print(new_nums3)\n",
    "print(new_nums4)"
   ]
  },
  {
   "cell_type": "markdown",
   "metadata": {},
   "source": [
    "Lists have a lot of associated methods. For example, the append() method adds one additional element in the list but it can only take one single argument. The extend() method is similar to append(), except that extend() can handle more than one argument. "
   ]
  },
  {
   "cell_type": "code",
   "execution_count": 3,
   "metadata": {},
   "outputs": [
    {
     "name": "stdout",
     "output_type": "stream",
     "text": [
      "[1, 20, 41, 35, ['append me', 'this is a complete list!']]\n",
      "[1, 20, 41, 35, ['append me', 'this is a complete list!'], 'extend me', 'do it']\n"
     ]
    }
   ],
   "source": [
    "my_list=[1,20,41,35]\n",
    "my_list.append(['append me', 'this is a complete list!']) # the append() method only takes one single argument\n",
    "print(my_list)\n",
    "\n",
    "blah=['extend me', 'do it']\n",
    "my_list.extend(blah)\n",
    "print(my_list) # notice the difference between extend() and append()\n",
    "\n"
   ]
  },
  {
   "cell_type": "markdown",
   "metadata": {},
   "source": [
    "Additionally, below are some other useful methods associated with lists:"
   ]
  },
  {
   "cell_type": "code",
   "execution_count": 4,
   "metadata": {},
   "outputs": [
    {
     "name": "stdout",
     "output_type": "stream",
     "text": [
      "[20, 35, 41]\n",
      "[1, 'KsF', 'ssfdsek', '1', 1, 12, 'KsF']\n",
      "1\n",
      "2\n"
     ]
    }
   ],
   "source": [
    "my_list2=my_list[1:4]\n",
    "my_list2.sort() # the function will fail if you have different types of components of the list\n",
    "print(my_list2)\n",
    "\n",
    "my_list3=[1,20,'KsF', 'ssfdsek', '1', 1, 12, 'KsF']\n",
    "my_list3.remove(20)\n",
    "print(my_list3)\n",
    "print(my_list3.index('KsF')) # returning the lowest index in list that the entire obj (argument of index()) appears\n",
    "print(my_list3.count('KsF')) # counting the freuency "
   ]
  },
  {
   "cell_type": "markdown",
   "metadata": {},
   "source": [
    "The insert() method and pop() methods are very useful in many applications:"
   ]
  },
  {
   "cell_type": "code",
   "execution_count": 4,
   "metadata": {},
   "outputs": [
    {
     "name": "stdout",
     "output_type": "stream",
     "text": [
      "['maggie', 'homer', 'marge', 'bart']\n",
      "['maggie', 'homer', 'marge']\n"
     ]
    }
   ],
   "source": [
    "simpsons=['homer', 'marge', 'bart']\n",
    "simpsons.insert(0, 'maggie') # inserting element at index 0\n",
    "print(simpsons)\n",
    "simpsons.pop(3) # removing element at the index position 3\n",
    "print(simpsons)"
   ]
  },
  {
   "cell_type": "markdown",
   "metadata": {},
   "source": [
    "You can also nest lists. But now you will need to use two indexes to grab components. "
   ]
  },
  {
   "cell_type": "code",
   "execution_count": 4,
   "metadata": {},
   "outputs": [
    {
     "name": "stdout",
     "output_type": "stream",
     "text": [
      "[[1, 2, 3, 4, 5, 6], [7, 8, 9, 10], [11, 12, 13]]\n",
      "[1, 2, 3, 4, 5, 6]\n",
      "5\n"
     ]
    }
   ],
   "source": [
    "l1=[1,2,3,4,5,6]\n",
    "l2=[7,8,9,10]\n",
    "l3=[11,12,13]\n",
    "list_comp=[l1,l2,l3]\n",
    "print(list_comp)\n",
    "print(list_comp[0]) # [1, 2, 3, 4, 5, 6]\n",
    "print(list_comp[0][4]) # 5"
   ]
  },
  {
   "cell_type": "markdown",
   "metadata": {},
   "source": [
    "Here is another example:"
   ]
  },
  {
   "cell_type": "code",
   "execution_count": 5,
   "metadata": {},
   "outputs": [
    {
     "data": {
      "text/plain": [
       "'Catch me if you can'"
      ]
     },
     "execution_count": 5,
     "metadata": {},
     "output_type": "execute_result"
    }
   ],
   "source": [
    "nested=[1,33,4, [2,3,'a',8, [1,0,'Catch me if you can']], 2]\n",
    "nested[3][4][2]"
   ]
  },
  {
   "cell_type": "markdown",
   "metadata": {},
   "source": [
    "We now study **dictionaries**, which you can think of them as hash-tables. While lists focus on sequences in Python, dictionaries focus on mappings in Python. Recall sequences store objects with position. Mappings store objects with keys. Dictionaries are indicated with the brackets curly {} and you can also index them just like what we did for lists. But you need to index it using key values not by positions. Just like lists, dictionaries can also hold different types of data. Both lists and dictionaries are mutable objects."
   ]
  },
  {
   "cell_type": "code",
   "execution_count": 6,
   "metadata": {},
   "outputs": [
    {
     "name": "stdout",
     "output_type": "stream",
     "text": [
      "{'key1': 1, 'key2': 2, 'key3': 9}\n",
      "9\n",
      "BWV916\n",
      "6\n"
     ]
    }
   ],
   "source": [
    "dictionary1={'key1':1, 'key2':2, 'key3':9}\n",
    "print(dictionary1)\n",
    "print(dictionary1['key3'])\n",
    "dictionary2={'k1':'Bach', 'k2':'Chopin', 'k3':106, 'k4':'BWV916'}\n",
    "print(dictionary2['k4'])\n",
    "dictionary2['k3']=dictionary2['k3']-100\n",
    "print(dictionary2['k3'])"
   ]
  },
  {
   "cell_type": "markdown",
   "metadata": {},
   "source": [
    "There is a trick that you can do for self-assigning variables using the '+-' notation:"
   ]
  },
  {
   "cell_type": "code",
   "execution_count": 7,
   "metadata": {},
   "outputs": [
    {
     "name": "stdout",
     "output_type": "stream",
     "text": [
      "82\n"
     ]
    }
   ],
   "source": [
    "dictionary2['k3'] += 76 # this is the same as dictionary['k3'] = dictionary['k3'] +100\n",
    "print(dictionary2['k3']) # 76+6=82"
   ]
  },
  {
   "cell_type": "markdown",
   "metadata": {},
   "source": [
    "We now learn how to assign values to a dictionary. "
   ]
  },
  {
   "cell_type": "code",
   "execution_count": 8,
   "metadata": {},
   "outputs": [
    {
     "name": "stdout",
     "output_type": "stream",
     "text": [
      "{'animal': 'dogs', 'plant': 'water lilies'}\n"
     ]
    }
   ],
   "source": [
    "_dict_={} # creating an empty dictionary\n",
    "_dict_['animal']='dogs'\n",
    "_dict_['plant']='water lilies'\n",
    "print(_dict_)"
   ]
  },
  {
   "cell_type": "markdown",
   "metadata": {},
   "source": [
    "We now learn how to nest dictionaries. In other words, just like lists, we can put a dictionary within a dictionary and then index approprirately to get the component as we like. "
   ]
  },
  {
   "cell_type": "code",
   "execution_count": 9,
   "metadata": {},
   "outputs": [
    {
     "name": "stdout",
     "output_type": "stream",
     "text": [
      "{'k1': {'nestkey': {'nest_subkey': 'actual_value'}}}\n",
      "actual_value\n"
     ]
    }
   ],
   "source": [
    "nestd={'k1':{'nestkey':{'nest_subkey':'actual_value'}}}\n",
    "print(nestd)\n",
    "print(nestd['k1']['nestkey']['nest_subkey'])"
   ]
  },
  {
   "cell_type": "markdown",
   "metadata": {},
   "source": [
    "Lastly we study a few methods associated with dictionaries:"
   ]
  },
  {
   "cell_type": "code",
   "execution_count": 20,
   "metadata": {},
   "outputs": [
    {
     "name": "stdout",
     "output_type": "stream",
     "text": [
      "dict_keys(['one', 'two', 'three'])\n",
      "dict_values([109, 110, 111])\n",
      "dict_items([('one', 109), ('two', 110), ('three', 111)])\n",
      "<class 'dict_keys'>\n",
      "<class 'dict_values'>\n",
      "<class 'dict_items'>\n",
      "109\n"
     ]
    }
   ],
   "source": [
    "d= {'one':109, 'two':110, 'three':111}\n",
    "print(d.keys()) # returning all the keys, and note that the orders are changed\n",
    "print(d.values()) # returning all the values of the keys\n",
    "print(d.items()) # returning everything, and the result is a something called a tuple, which is immutable\n",
    "\n",
    "print(type(d.keys()))\n",
    "print(type(d.values()))\n",
    "print(type(d.items()))\n",
    "print(d.get('one')) # returning a value for the given key, and if key is not available then returns default value None"
   ]
  },
  {
   "cell_type": "markdown",
   "metadata": {},
   "source": [
    "Here are additional examples of dictionary methods using the fromkeys() method, which is often used to create a new dictionary:"
   ]
  },
  {
   "cell_type": "code",
   "execution_count": 21,
   "metadata": {},
   "outputs": [
    {
     "name": "stdout",
     "output_type": "stream",
     "text": [
      "d2: {'name': 10, 'age': 10, 'sex': 10}\n",
      "d3: {'name': ['Peter', '32', 'Male'], 'age': ['Peter', '32', 'Male'], 'sex': ['Peter', '32', 'Male']}\n"
     ]
    },
    {
     "data": {
      "text/plain": [
       "{}"
      ]
     },
     "execution_count": 21,
     "metadata": {},
     "output_type": "execute_result"
    }
   ],
   "source": [
    "seq = ('name', 'age', 'sex')\n",
    "values= ['Peter', '32', 'Male']\n",
    "d2 = dict.fromkeys(seq, 10) # creating a new dictionary with keys from seq and values set to value (often used to assign the same values to different keys)\n",
    "d3 = dict.fromkeys(seq, values)\n",
    "print('d2:', d2)\n",
    "print('d3:', d3)\n",
    "d4={1: 'Bach', 2: 'Mozart'}\n",
    "d4.clear()\n",
    "d4"
   ]
  },
  {
   "cell_type": "markdown",
   "metadata": {},
   "source": [
    "The get() method is another method frequently used:"
   ]
  },
  {
   "cell_type": "code",
   "execution_count": 12,
   "metadata": {},
   "outputs": [
    {
     "name": "stdout",
     "output_type": "stream",
     "text": [
      "{'dad': 'homer', 'mom': 'margi', 'size': 6, 'time': 'Wednesday'}\n"
     ]
    },
    {
     "data": {
      "text/plain": [
       "'margi'"
      ]
     },
     "execution_count": 12,
     "metadata": {},
     "output_type": "execute_result"
    }
   ],
   "source": [
    "family=dict([('dad','homer'),('mom','margi'),('size',6), ('time','Wednesday')])\n",
    "print(family)\n",
    "family.get('mom')"
   ]
  },
  {
   "cell_type": "markdown",
   "metadata": {},
   "source": [
    "The update() method updates the dictionary with the elements from the another dictionary object or from an iterable of key/value pairs:"
   ]
  },
  {
   "cell_type": "code",
   "execution_count": 18,
   "metadata": {},
   "outputs": [
    {
     "name": "stdout",
     "output_type": "stream",
     "text": [
      "{'mom': 'margi', 'size': 6, 'time': 'Wednesday', 'baby': 'maggie', 'granpa': 'abel'}\n"
     ]
    }
   ],
   "source": [
    "family.update({'baby':'maggie', 'granpa':'abel'})\n",
    "print(family)"
   ]
  },
  {
   "cell_type": "markdown",
   "metadata": {},
   "source": [
    "Finally, we will discuss tuples. Tuples are exactly like lists but they are **immutable**. They are indicated by the plain parentheses (). Just like lists and dictionaries, the components of a tuple could be of different data types. "
   ]
  },
  {
   "cell_type": "code",
   "execution_count": 12,
   "metadata": {},
   "outputs": [
    {
     "name": "stdout",
     "output_type": "stream",
     "text": [
      "(1, 3, 5, 'odd numbers')\n",
      "3\n",
      "odd numbers\n"
     ]
    }
   ],
   "source": [
    "tup1=(1,3,5, \"odd numbers\")\n",
    "print(tup1)\n",
    "print(tup1[1])\n",
    "print(tup1[-1])"
   ]
  },
  {
   "cell_type": "markdown",
   "metadata": {},
   "source": [
    "One of the most important methods associated with tuples is the index() method. It basically works the same as in a SAS function to return the indexing position of a component. Another important method is count() which counts how many occurences a component has shown up in a tuple."
   ]
  },
  {
   "cell_type": "code",
   "execution_count": 2,
   "metadata": {},
   "outputs": [
    {
     "name": "stdout",
     "output_type": "stream",
     "text": [
      "7\n",
      "3\n"
     ]
    }
   ],
   "source": [
    "tup2=(1,1,3,2,4,4,4,'Lizzy', 'Emma')\n",
    "print(tup2.index(\"Lizzy\")) # 7\n",
    "print(tup2.count(4)) # 3"
   ]
  },
  {
   "cell_type": "markdown",
   "metadata": {
    "collapsed": true
   },
   "source": [
    "Notice that in thte above example, we used the complete string \"Lizzy\". If we just used a substring of \"Lizzy\", such as \"zzy\", then Python will have an error saying that tuple.index(x): x not in tuple. "
   ]
  },
  {
   "cell_type": "code",
   "execution_count": null,
   "metadata": {
    "collapsed": true
   },
   "outputs": [],
   "source": []
  }
 ],
 "metadata": {
  "kernelspec": {
   "display_name": "Python 3",
   "language": "python",
   "name": "python3"
  },
  "language_info": {
   "codemirror_mode": {
    "name": "ipython",
    "version": 3
   },
   "file_extension": ".py",
   "mimetype": "text/x-python",
   "name": "python",
   "nbconvert_exporter": "python",
   "pygments_lexer": "ipython3",
   "version": "3.6.3"
  }
 },
 "nbformat": 4,
 "nbformat_minor": 2
}
