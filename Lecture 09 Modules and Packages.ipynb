{
 "cells": [
  {
   "cell_type": "markdown",
   "metadata": {},
   "source": [
    "In this module, we study Python packages and modules. If you have programmed in other statistical programs, say R, you will realize that the idea here is extremely similar to the R libraries. To start with, a module is a file containing Python definitions and statements. The file name is the module name with the suffix '.py'.\n",
    "\n",
    "There are different kinds of modules. There are built-in modules and third-party modules. To import an module, we can use the 'import' statement. There are two ways of importing a module. The first way is to directly import all functions in the module. The second way is to only import a function from a module. If you do the second way, you don't have to specify which module you are importing later on. Below is an example to illustrate the two ways of importing a module. In general, we recommend the first way because it's simple for beginners. If you do the second way, all other functions from the module except the ones you specify will not be loaded. "
   ]
  },
  {
   "cell_type": "code",
   "execution_count": 1,
   "metadata": {},
   "outputs": [
    {
     "data": {
      "text/plain": [
       "2.0"
      ]
     },
     "execution_count": 1,
     "metadata": {},
     "output_type": "execute_result"
    }
   ],
   "source": [
    "import math # importing all functions from the module 'math'\n",
    "math.sqrt(4)"
   ]
  },
  {
   "cell_type": "code",
   "execution_count": 2,
   "metadata": {},
   "outputs": [
    {
     "data": {
      "text/plain": [
       "0.0"
      ]
     },
     "execution_count": 2,
     "metadata": {},
     "output_type": "execute_result"
    }
   ],
   "source": [
    "from numpy import sin # importing the sin() function specifically from the module 'numpy'\n",
    "sin(0)"
   ]
  },
  {
   "cell_type": "markdown",
   "metadata": {
    "collapsed": true
   },
   "source": [
    "To install a 3rd party module through Jupyter notebook, you need to use the command: !pip install _modulename_. For example, below is a module that helps you do copy and paste. "
   ]
  },
  {
   "cell_type": "code",
   "execution_count": 3,
   "metadata": {},
   "outputs": [
    {
     "name": "stdout",
     "output_type": "stream",
     "text": [
      "Requirement already satisfied: pyperclip in c:\\users\\pgao\\anaconda3\\lib\\site-packages\n"
     ]
    }
   ],
   "source": [
    "!pip install pyperclip"
   ]
  },
  {
   "cell_type": "code",
   "execution_count": 4,
   "metadata": {},
   "outputs": [
    {
     "name": "stdout",
     "output_type": "stream",
     "text": [
      "The text to be copied to the clipboard.\n"
     ]
    }
   ],
   "source": [
    "import pyperclip\n",
    "pyperclip.copy('The text to be copied to the clipboard.')\n",
    "spam = pyperclip.paste()\n",
    "print(spam)"
   ]
  },
  {
   "cell_type": "markdown",
   "metadata": {
    "collapsed": true
   },
   "source": [
    "To find out more about each module is to go to google and find github.  "
   ]
  },
  {
   "cell_type": "markdown",
   "metadata": {},
   "source": [
    "Finally, we briefly mention how to create your own modules. This may not be that useful when it comes to data scientists, but for developers, this type of skills is essential. To study more information about building your own packages, you can go to the following official Python sites for detailed description: https://docs.python.org/2/tutorial/modules.html#packages."
   ]
  },
  {
   "cell_type": "code",
   "execution_count": null,
   "metadata": {
    "collapsed": true
   },
   "outputs": [],
   "source": [
    " "
   ]
  }
 ],
 "metadata": {
  "kernelspec": {
   "display_name": "Python 3",
   "language": "python",
   "name": "python3"
  },
  "language_info": {
   "codemirror_mode": {
    "name": "ipython",
    "version": 3
   },
   "file_extension": ".py",
   "mimetype": "text/x-python",
   "name": "python",
   "nbconvert_exporter": "python",
   "pygments_lexer": "ipython3",
   "version": "3.7.6"
  }
 },
 "nbformat": 4,
 "nbformat_minor": 2
}
