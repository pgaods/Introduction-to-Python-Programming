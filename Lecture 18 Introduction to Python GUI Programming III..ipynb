{
 "cells": [
  {
   "cell_type": "markdown",
   "metadata": {},
   "source": [
    "This lecture will serve as a reference for widgets, providing a list of the GUI widgets available. A good reference for this section can be found here: http://nbviewer.jupyter.org/github/jmportilla/Complete-Python-Bootcamp/blob/master/GUI/4%20-%20Widget%20List.ipynb. We will also discuss widget styling in the later part of the section. "
   ]
  },
  {
   "cell_type": "code",
   "execution_count": 6,
   "metadata": {
    "collapsed": false
   },
   "outputs": [
    {
     "name": "stdout",
     "output_type": "stream",
     "text": [
      "dict_values([<class 'ipywidgets.widgets.widget_bool.Checkbox'>, <class 'ipywidgets.widgets.widget_bool.ToggleButton'>, <class 'ipywidgets.widgets.widget_bool.Valid'>, <class 'ipywidgets.widgets.widget_button.Button'>, <class 'ipywidgets.widgets.widget_box.Box'>, <class 'ipywidgets.widgets.widget_box.Proxy'>, <class 'ipywidgets.widgets.widget_box.PlaceProxy'>, <class 'ipywidgets.widgets.widget_box.FlexBox'>, <class 'ipywidgets.widgets.widget_float.FloatText'>, <class 'ipywidgets.widgets.widget_float.BoundedFloatText'>, <class 'ipywidgets.widgets.widget_float.FloatSlider'>, <class 'ipywidgets.widgets.widget_float.FloatProgress'>, <class 'ipywidgets.widgets.widget_float.FloatRangeSlider'>, <class 'ipywidgets.widgets.widget_image.Image'>, <class 'ipywidgets.widgets.widget_int.IntText'>, <class 'ipywidgets.widgets.widget_int.BoundedIntText'>, <class 'ipywidgets.widgets.widget_int.IntSlider'>, <class 'ipywidgets.widgets.widget_int.IntProgress'>, <class 'ipywidgets.widgets.widget_int.IntRangeSlider'>, <class 'ipywidgets.widgets.widget_int.Play'>, <class 'ipywidgets.widgets.widget_color.ColorPicker'>, <class 'ipywidgets.widgets.widget_selection.ToggleButtons'>, <class 'ipywidgets.widgets.widget_selection.Dropdown'>, <class 'ipywidgets.widgets.widget_selection.RadioButtons'>, <class 'ipywidgets.widgets.widget_selection.Select'>, <class 'ipywidgets.widgets.widget_selection.SelectionSlider'>, <class 'ipywidgets.widgets.widget_selection.SelectMultiple'>, <class 'ipywidgets.widgets.widget_selectioncontainer.Accordion'>, <class 'ipywidgets.widgets.widget_selectioncontainer.Tab'>, <class 'ipywidgets.widgets.widget_string.HTML'>, <class 'ipywidgets.widgets.widget_string.Label'>, <class 'ipywidgets.widgets.widget_string.Textarea'>, <class 'ipywidgets.widgets.widget_string.Text'>, <class 'ipywidgets.widgets.widget_controller.Button'>, <class 'ipywidgets.widgets.widget_controller.Axis'>, <class 'ipywidgets.widgets.widget_controller.Controller'>, <class 'ipywidgets.widgets.widget_link.Link'>, <class 'ipywidgets.widgets.widget_link.DirectionalLink'>])\n"
     ]
    }
   ],
   "source": [
    "import ipywidgets as widgets\n",
    "print(widgets.Widget.widget_types.values())"
   ]
  },
  {
   "cell_type": "markdown",
   "metadata": {},
   "source": [
    "There are 8 common widgets distributed with IPython that are designed to display numeric values. Widgets exist for displaying integers and floats, both bounded and unbounded. The integer widgets share a similar naming scheme to their floating point counterparts. By replacing 'Float' with 'Int' in the widget name, you can find the 'Integer' equivalent. \n",
    "\n",
    "There are mainly 3 widgets that are designed to display a boolean value."
   ]
  },
  {
   "cell_type": "code",
   "execution_count": 7,
   "metadata": {
    "collapsed": true
   },
   "outputs": [],
   "source": [
    "widgets.FloatSlider(\n",
    "    value=7.5,\n",
    "    min=5.0,\n",
    "    max=10.0,\n",
    "    step=0.1,\n",
    "    description='Test:',\n",
    ") # FloatSlider (horitonzal)"
   ]
  },
  {
   "cell_type": "code",
   "execution_count": 8,
   "metadata": {
    "collapsed": true
   },
   "outputs": [],
   "source": [
    "widgets.FloatSlider(\n",
    "    value=6,\n",
    "    min=5.0,\n",
    "    max=10.0,\n",
    "    step=1,\n",
    "    description='Test',\n",
    "    orientation='vertical',\n",
    ") # FloatSlider (vertical)"
   ]
  },
  {
   "cell_type": "code",
   "execution_count": 9,
   "metadata": {
    "collapsed": true
   },
   "outputs": [],
   "source": [
    "widgets.FloatProgress(\n",
    "    value=7,\n",
    "    min=5.0,\n",
    "    max=10.0,\n",
    "    step=0.1,\n",
    "    description='Loading:',\n",
    ") # FloatProgess"
   ]
  },
  {
   "cell_type": "code",
   "execution_count": 10,
   "metadata": {
    "collapsed": true
   },
   "outputs": [],
   "source": [
    "widgets.BoundedFloatText(\n",
    "    value=7.0,\n",
    "    min=5.0,\n",
    "    max=10.0,\n",
    "    description='Text:',\n",
    ") # BoundedFloatText"
   ]
  },
  {
   "cell_type": "code",
   "execution_count": 11,
   "metadata": {
    "collapsed": true
   },
   "outputs": [],
   "source": [
    "widgets.FloatText(\n",
    "    value=7.5,\n",
    "    description='Any:',\n",
    ") # FloatText"
   ]
  },
  {
   "cell_type": "code",
   "execution_count": 12,
   "metadata": {
    "collapsed": true
   },
   "outputs": [],
   "source": [
    "widgets.ToggleButton(\n",
    "    description='Click me here!',\n",
    "    value=False,\n",
    ") # ToggleButton"
   ]
  },
  {
   "cell_type": "code",
   "execution_count": 13,
   "metadata": {
    "collapsed": true
   },
   "outputs": [],
   "source": [
    "widgets.Checkbox(\n",
    "    description='Check me',\n",
    "    value=True,\n",
    ") # CheckBox"
   ]
  },
  {
   "cell_type": "code",
   "execution_count": 14,
   "metadata": {
    "collapsed": true
   },
   "outputs": [],
   "source": [
    "widgets.Valid(value=True,) # Valid"
   ]
  },
  {
   "cell_type": "markdown",
   "metadata": {},
   "source": [
    "There are 4 common widgets that can be used to display single selection lists, and one that can be used to display multiple selection lists. All inherit from the same base class. You can specify the enumeration of selectable options by passing a list. You can also specify the enumeration as a dictionary, in which case the keys will be used as the item displayed in the list and the corresponding value will be returned when an item is selected."
   ]
  },
  {
   "cell_type": "code",
   "execution_count": 15,
   "metadata": {
    "collapsed": false
   },
   "outputs": [
    {
     "name": "stdout",
     "output_type": "stream",
     "text": [
      "2\n"
     ]
    }
   ],
   "source": [
    "from IPython.display import display\n",
    "\n",
    "w = widgets.Dropdown(\n",
    "    options=['1', '2', '3'],\n",
    "    value='2',\n",
    "    description='Number:',\n",
    ")\n",
    "display(w)\n",
    "print(w.value)"
   ]
  },
  {
   "cell_type": "code",
   "execution_count": 16,
   "metadata": {
    "collapsed": false
   },
   "outputs": [
    {
     "name": "stdout",
     "output_type": "stream",
     "text": [
      "2\n"
     ]
    }
   ],
   "source": [
    "w = widgets.Dropdown(\n",
    "    options={'One': 1, 'Two': 2, 'Three': 3},\n",
    "    value=2,\n",
    "    description='Number:')\n",
    "display(w)\n",
    "print(w.value)"
   ]
  },
  {
   "cell_type": "code",
   "execution_count": 17,
   "metadata": {
    "collapsed": true
   },
   "outputs": [],
   "source": [
    "widgets.RadioButtons(\n",
    "    description='Pizza topping:',\n",
    "    options=['pepperoni', 'pineapple', 'anchovies'],\n",
    ") # RadioButtons"
   ]
  },
  {
   "cell_type": "code",
   "execution_count": 18,
   "metadata": {
    "collapsed": true
   },
   "outputs": [],
   "source": [
    "widgets.ToggleButtons(\n",
    "    description='Speed:',\n",
    "    options=['Slow', 'Regular', 'Fast'],\n",
    ") # ToggleButtons"
   ]
  },
  {
   "cell_type": "code",
   "execution_count": 19,
   "metadata": {
    "collapsed": true
   },
   "outputs": [],
   "source": [
    "w = widgets.SelectMultiple(\n",
    "    description=\"Fruits: \",\n",
    "    options=['Apples', 'Oranges', 'Pears'])\n",
    "display(w) # SelectMultiple"
   ]
  },
  {
   "cell_type": "markdown",
   "metadata": {},
   "source": [
    "Lastly, there are 4 string common widgets. Of those, the 'Text' and 'Textarea' widgets accept input. The 'Latex' and 'HTML' widgets display the string as either Latex or HTML respectively, but do not accept input. The Latex widgets are later updated by the 'Label' widget. "
   ]
  },
  {
   "cell_type": "code",
   "execution_count": 20,
   "metadata": {
    "collapsed": true
   },
   "outputs": [],
   "source": [
    "widgets.Text(\n",
    "    description='String:',\n",
    "    value='Hello World',\n",
    ") # Text"
   ]
  },
  {
   "cell_type": "code",
   "execution_count": 21,
   "metadata": {
    "collapsed": true
   },
   "outputs": [],
   "source": [
    "widgets.Textarea(\n",
    "    description='String:',\n",
    "    value='Hello World',\n",
    ") # Textarea"
   ]
  },
  {
   "cell_type": "code",
   "execution_count": 22,
   "metadata": {
    "collapsed": false
   },
   "outputs": [],
   "source": [
    "widgets.Label(\n",
    "    value=\"$$\\\\frac{n!}{k!(n-k)!}$$\",\n",
    ") # Latex/Label "
   ]
  },
  {
   "cell_type": "code",
   "execution_count": 23,
   "metadata": {
    "collapsed": true
   },
   "outputs": [],
   "source": [
    "widgets.HTML(\n",
    "    value=\"Hello <b>World</b>\"\n",
    ") # HTML"
   ]
  },
  {
   "cell_type": "code",
   "execution_count": 24,
   "metadata": {
    "collapsed": true
   },
   "outputs": [],
   "source": [
    "widgets.Button(description='Click me')"
   ]
  },
  {
   "cell_type": "markdown",
   "metadata": {},
   "source": [
    "We now study how to style the widgets. The widgets distributed with IPython can be styled by setting the following traits:\n",
    "\n",
    "1. width\n",
    "2. height\n",
    "3. background_color\n",
    "4. border_color\n",
    "5. border_width\n",
    "6. border_style\n",
    "7. font_style\n",
    "8. font_weight\n",
    "9. font_size\n",
    "10. font_family"
   ]
  },
  {
   "cell_type": "markdown",
   "metadata": {},
   "source": [
    "We now look at the parent/child widget relationship. To display widget A inside widget B, widget A must be a child of widget B. Widgets that can contain other widgets have a 'children' attribute. This attribute can be set via a keyword argument in the widget's constructor or after construction. Calling display on an object with children automatically displays the children."
   ]
  },
  {
   "cell_type": "code",
   "execution_count": 56,
   "metadata": {
    "collapsed": true
   },
   "outputs": [],
   "source": [
    "from IPython.display import display\n",
    "\n",
    "float_range = widgets.FloatSlider()\n",
    "string = widgets.Text(value='hello!')\n",
    "container = widgets.Box(children=[float_range, string])\n",
    "\n",
    "container.border_color = 'red'\n",
    "container.border_style = 'dotted'\n",
    "container.border_width = 5\n",
    "display(container) # Displays the `container` and all of it's children"
   ]
  },
  {
   "cell_type": "markdown",
   "metadata": {},
   "source": [
    "Children can be added to parents after the parent has been displayed. The parent is responsible for rendering its children:"
   ]
  },
  {
   "cell_type": "code",
   "execution_count": 32,
   "metadata": {
    "collapsed": true
   },
   "outputs": [],
   "source": [
    "container = widgets.Box()\n",
    "container.border_color = 'purple'\n",
    "container.border_style = 'dotted'\n",
    "container.border_width = 3\n",
    "display(container)\n",
    "\n",
    "int_range = widgets.IntSlider()\n",
    "container.children=[int_range]"
   ]
  },
  {
   "cell_type": "markdown",
   "metadata": {},
   "source": [
    "If you need to display a more complicated set of widgets, there are specialized containers that you can use. To display multiple sets of widgets, you can use an 'Accordion' or a 'Tab' in combination with one Box per set of widgets (as seen below). The 'pages' of these widgets are their children. To set the titles of the pages, use set_title():"
   ]
  },
  {
   "cell_type": "code",
   "execution_count": 33,
   "metadata": {
    "collapsed": true
   },
   "outputs": [],
   "source": [
    "name1 = widgets.Text(description='Location:')\n",
    "zip1 = widgets.BoundedIntText(description='Zip:', min=0, max=99999)\n",
    "page1 = widgets.Box(children=[name1, zip1])\n",
    "\n",
    "name2 = widgets.Text(description='Location:')\n",
    "zip2 = widgets.BoundedIntText(description='Zip:', min=0, max=99999)\n",
    "page2 = widgets.Box(children=[name2, zip2])\n",
    "\n",
    "accord = widgets.Accordion(children=[page1, page2], width=400)\n",
    "display(accord)\n",
    "\n",
    "accord.set_title(0, 'From')\n",
    "accord.set_title(1, 'To')"
   ]
  },
  {
   "cell_type": "code",
   "execution_count": 34,
   "metadata": {
    "collapsed": true
   },
   "outputs": [],
   "source": [
    "name = widgets.Text(description='Name:', padding=4)\n",
    "color = widgets.Dropdown(description='Color:', padding=4, options=['red', 'orange', 'yellow', 'green', 'blue', 'indigo', 'violet'])\n",
    "page1 = widgets.Box(children=[name, color], padding=4)\n",
    "\n",
    "age = widgets.IntSlider(description='Age:', padding=4, min=0, max=120, value=50)\n",
    "gender = widgets.RadioButtons(description='Gender:', padding=4, options=['male', 'female'])\n",
    "page2 = widgets.Box(children=[age, gender], padding=4)\n",
    "\n",
    "tabs = widgets.Tab(children=[page1, page2])\n",
    "display(tabs)\n",
    "\n",
    "tabs.set_title(0, 'Name')\n",
    "tabs.set_title(1, 'Details')"
   ]
  },
  {
   "cell_type": "markdown",
   "metadata": {},
   "source": [
    "Most widgets have a 'description' attribute, which allows a label for the widget to be defined. The label of the widget has a fixed minimum width. The text of the label is always right aligned and the widget is left aligned:"
   ]
  },
  {
   "cell_type": "code",
   "execution_count": 35,
   "metadata": {
    "collapsed": true
   },
   "outputs": [],
   "source": [
    "display(widgets.Text(description=\"a:\"))\n",
    "display(widgets.Text(description=\"aa:\"))\n",
    "display(widgets.Text(description=\"aaa:\"))"
   ]
  },
  {
   "cell_type": "markdown",
   "metadata": {},
   "source": [
    "If a label is longer than the minimum width, the widget is shifted to the right:"
   ]
  },
  {
   "cell_type": "code",
   "execution_count": 36,
   "metadata": {
    "collapsed": true
   },
   "outputs": [],
   "source": [
    "display(widgets.Text(description=\"a:\"))\n",
    "display(widgets.Text(description=\"aa:\"))\n",
    "display(widgets.Text(description=\"aaa:\"))\n",
    "display(widgets.Text(description=\"aaaaaaaaaaaaaaaaaa:\"))"
   ]
  },
  {
   "cell_type": "markdown",
   "metadata": {},
   "source": [
    "If a 'description' is not set for the widget, the label is not displayed:"
   ]
  },
  {
   "cell_type": "code",
   "execution_count": 37,
   "metadata": {
    "collapsed": true
   },
   "outputs": [],
   "source": [
    "display(widgets.Text(description=\"a:\"))\n",
    "display(widgets.Text(description=\"aa:\"))\n",
    "display(widgets.Text(description=\"aaa:\"))\n",
    "display(widgets.Text())"
   ]
  },
  {
   "cell_type": "markdown",
   "metadata": {},
   "source": [
    "Widgets can be aligned using the 'FlexBox', 'HBox', and 'VBox' widgets. Widgets display vertically by default. To make widgets display horizontally, they can be children of an 'HBox' widget."
   ]
  },
  {
   "cell_type": "code",
   "execution_count": 39,
   "metadata": {
    "collapsed": true
   },
   "outputs": [],
   "source": [
    "buttons = [widgets.Button(description=str(i)) for i in range(3)]\n",
    "display(*buttons)"
   ]
  },
  {
   "cell_type": "code",
   "execution_count": 40,
   "metadata": {
    "collapsed": true
   },
   "outputs": [],
   "source": [
    "container = widgets.HBox(children=buttons)\n",
    "display(container)"
   ]
  },
  {
   "cell_type": "markdown",
   "metadata": {},
   "source": [
    "The visible property of widgets can be used to hide or show widgets that have already been displayed (as seen below). The visible property can be:\n",
    "\n",
    "  1. True - the widget is displayed\n",
    "  2. False - the widget is hidden, and the empty space where the widget would be is collapsed\n",
    "  3. None - the widget is hidden, and the empty space where the widget would be is shown"
   ]
  },
  {
   "cell_type": "code",
   "execution_count": 52,
   "metadata": {
    "collapsed": false
   },
   "outputs": [],
   "source": [
    "w1 = widgets.Label(value=\"First line\")\n",
    "w2 = widgets.Label(value=\"Second line\")\n",
    "w3 = widgets.Label(value=\"Third line\")\n",
    "display(w1, w2, w3)"
   ]
  },
  {
   "cell_type": "markdown",
   "metadata": {},
   "source": [
    "Run the following codes line by line and see what happens to each line in the widget:"
   ]
  },
  {
   "cell_type": "code",
   "execution_count": 53,
   "metadata": {
    "collapsed": true
   },
   "outputs": [],
   "source": [
    "w2.visible=False"
   ]
  },
  {
   "cell_type": "code",
   "execution_count": 54,
   "metadata": {
    "collapsed": true
   },
   "outputs": [],
   "source": [
    "w2.visible=True"
   ]
  },
  {
   "cell_type": "code",
   "execution_count": 55,
   "metadata": {
    "collapsed": true
   },
   "outputs": [],
   "source": [
    "w2.visible=None"
   ]
  },
  {
   "cell_type": "code",
   "execution_count": null,
   "metadata": {
    "collapsed": true
   },
   "outputs": [],
   "source": []
  }
 ],
 "metadata": {
  "kernelspec": {
   "display_name": "Python 3",
   "language": "python",
   "name": "python3"
  },
  "language_info": {
   "codemirror_mode": {
    "name": "ipython",
    "version": 3
   },
   "file_extension": ".py",
   "mimetype": "text/x-python",
   "name": "python",
   "nbconvert_exporter": "python",
   "pygments_lexer": "ipython3",
   "version": "3.6.0"
  },
  "widgets": {
   "state": {
    "0241eeec1cb1464a9bd23143eabafb57": {
     "views": [
      {
       "cell_index": 38
      }
     ]
    },
    "02ef67b4480a4c7d8074ef0f2d987d8c": {
     "views": [
      {
       "cell_index": 8
      }
     ]
    },
    "046e88d6c1a946e2b706fb45be73d8c7": {
     "views": [
      {
       "cell_index": 41
      }
     ]
    },
    "09a7c8ff14ac405aa4287c2d981db4d6": {
     "views": [
      {
       "cell_index": 12
      }
     ]
    },
    "0c959ec123df47a5adfadb6f6ae7ba21": {
     "views": [
      {
       "cell_index": 29
      }
     ]
    },
    "10d24bec79244a3296fd5dc1dff493aa": {
     "views": [
      {
       "cell_index": 38
      }
     ]
    },
    "10d79576bd7d4df68fe734798d538b96": {
     "views": [
      {
       "cell_index": 34
      }
     ]
    },
    "1222d500b3704223ab0246d0e307b30a": {
     "views": [
      {
       "cell_index": 10
      }
     ]
    },
    "146e4260b5954699a7e6241473241af7": {
     "views": [
      {
       "cell_index": 32
      }
     ]
    },
    "1ce5cf8c5daa46f291f75457dc0cd05d": {
     "views": [
      {
       "cell_index": 20
      }
     ]
    },
    "1dbbe8075c1e4130aa558c7fffacc0ab": {
     "views": [
      {
       "cell_index": 41
      }
     ]
    },
    "2baface5ecda47748eeab660f0155932": {
     "views": [
      {
       "cell_index": 36
      }
     ]
    },
    "2c241042f02648a2a8b15f33fc4df28a": {
     "views": [
      {
       "cell_index": 36
      }
     ]
    },
    "34604fb939de4c8f824f97dffb3ebc45": {
     "views": [
      {
       "cell_index": 25
      }
     ]
    },
    "38ab0d8c00f74481be4b3d99e98095a1": {
     "views": [
      {
       "cell_index": 41
      }
     ]
    },
    "398582e212b1452096e45b1891b9ee13": {
     "views": [
      {
       "cell_index": 34
      }
     ]
    },
    "43188accf96e423aa9205cf7a858ebf8": {
     "views": [
      {
       "cell_index": 3
      }
     ]
    },
    "4f75704f71ab49fa9882a7d7274c1ea1": {
     "views": [
      {
       "cell_index": 21
      }
     ]
    },
    "5c999a32adee43668dc9c96c71b9184b": {
     "views": [
      {
       "cell_index": 41
      }
     ]
    },
    "6656ce9a727644c6832606f193efe79e": {
     "views": [
      {
       "cell_index": 34
      }
     ]
    },
    "670a624b563743499be74cc2363ce96d": {
     "views": [
      {
       "cell_index": 22
      }
     ]
    },
    "6a24dc1b7d034b789f7d60defb9e2dca": {
     "views": [
      {
       "cell_index": 13
      }
     ]
    },
    "7104117071a244ab86bb55d7a1b28abd": {
     "views": [
      {
       "cell_index": 36
      }
     ]
    },
    "76d7b44924cd4177b7b61f2f652ca659": {
     "views": [
      {
       "cell_index": 14
      }
     ]
    },
    "7a1ec8a6c27a4215bf665b93f19500b8": {
     "views": [
      {
       "cell_index": 38
      }
     ]
    },
    "7c1ac7cab4e3450aaf8de49d17b4370c": {
     "views": [
      {
       "cell_index": 30
      }
     ]
    },
    "7de8565cbe394bcfa70454234d63a56a": {
     "views": [
      {
       "cell_index": 18
      }
     ]
    },
    "86a2b652f4a94fbdb50757c2caa0cda3": {
     "views": [
      {
       "cell_index": 32
      }
     ]
    },
    "961495b8a16740708944f53cf9734af1": {
     "views": [
      {
       "cell_index": 5
      }
     ]
    },
    "9af0eae39f194bc4aed21bf7dd58dc8f": {
     "views": [
      {
       "cell_index": 9
      }
     ]
    },
    "9b70202f2ef840a68b59cd312a724891": {
     "views": [
      {
       "cell_index": 41
      }
     ]
    },
    "a3f768dc7e364202af04bd78e5a1169f": {
     "views": [
      {
       "cell_index": 4
      }
     ]
    },
    "a4e46d6305354eb4b8e689fc62f26efe": {
     "views": [
      {
       "cell_index": 41
      }
     ]
    },
    "a846a3acf7674177a8d421c73a6b7f19": {
     "views": [
      {
       "cell_index": 7
      }
     ]
    },
    "b48f1b63d57149f295f54e89a8591b3e": {
     "views": [
      {
       "cell_index": 34
      }
     ]
    },
    "d4d6cf8135014696972239dbe75167eb": {
     "views": [
      {
       "cell_index": 36
      }
     ]
    },
    "d95db755a38540a7bec76035acf1a29f": {
     "views": [
      {
       "cell_index": 38
      }
     ]
    },
    "dd320c95109c4d8b928a0a9c26a42a0c": {
     "views": [
      {
       "cell_index": 32
      }
     ]
    },
    "e44eaa6d789046ac96a7a72585dba753": {
     "views": [
      {
       "cell_index": 27
      }
     ]
    },
    "ec82777330d04e358c50e18cf2cde8a6": {
     "views": [
      {
       "cell_index": 6
      }
     ]
    },
    "ed83e09386e74e6c834cf993a0b321ea": {
     "views": [
      {
       "cell_index": 39
      }
     ]
    },
    "f838046b855a430580c176f0e01ccf00": {
     "views": [
      {
       "cell_index": 19
      }
     ]
    },
    "f9c3baf9ec394eacbd066d1c7daf0e61": {
     "views": [
      {
       "cell_index": 15
      }
     ]
    },
    "fe15d053a13c4fbc878ab059d76dda81": {
     "views": [
      {
       "cell_index": 38
      }
     ]
    },
    "ff9f430a64fb45d391d02eb3de820fa8": {
     "views": [
      {
       "cell_index": 16
      }
     ]
    }
   },
   "version": "1.2.0"
  }
 },
 "nbformat": 4,
 "nbformat_minor": 2
}
