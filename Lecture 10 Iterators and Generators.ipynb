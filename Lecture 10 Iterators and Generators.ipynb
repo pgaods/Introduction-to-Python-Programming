{
 "cells": [
  {
   "cell_type": "markdown",
   "metadata": {},
   "source": [
    "For this lecture, we will study iterators and generators. These are special objects Python is famous for so we must know them well. We first give an overview of what these things are from an OOP perspective, and then provide a few examples to illustrate how to use them. "
   ]
  },
  {
   "cell_type": "markdown",
   "metadata": {},
   "source": [
    "Python generators and iterators are two closely related concepts. Python generators are a simple way of creating iterators. An iterator is a special type of object in Python, and a generator is a function that returns an iterator object which we can iterate over (one value at a time)."
   ]
  },
  {
   "cell_type": "markdown",
   "metadata": {},
   "source": [
    "We study generators first. Generators are essentially a special type of function. They are very similar to normal functions, whereas generators allow us to write a function that can send back a value and then later resume to pick up where it left off. A generator will allow us to generate a sequence of values over time. The main difference in syntax will be the use of a 'yield' statement instead of a 'return' statement.\n",
    "\n",
    "Therefore, in most aspects, a generator will appear very similar to a conventional function. The main difference is when a generator is compiled, they become an object that support something called an **iteration protocol**. That means when they are called in your code they don't actually return a value and then exit, the generators will automatically suspend and resume their execution and state around the last point of value generation. Put another way, while a 'return' statement terminates a function entirely, a 'yield' statement pauses the function saving all its states and later continues from there on successive calls. If a function contains at least one 'yield' statement (it may contain other 'yield' or 'return' statements), it becomes a generator function. From a processsing efficiency perspective, generators allow us to generate as we go along, instead of holding everything in memory.\n",
    "\n",
    "Let's create a generator and see how it works. "
   ]
  },
  {
   "cell_type": "code",
   "execution_count": 25,
   "metadata": {},
   "outputs": [
    {
     "name": "stdout",
     "output_type": "stream",
     "text": [
      "<class 'function'>\n",
      "<class 'generator'>\n",
      "<function gencube at 0x00000117B4900B70>\n",
      "<generator object gencube at 0x00000117B48EE678>\n",
      "0\n",
      "1\n",
      "8\n",
      "27\n",
      "64\n",
      "125\n",
      "216\n",
      "343\n",
      "512\n",
      "729\n"
     ]
    }
   ],
   "source": [
    "def gencube(n):\n",
    "    for num in range(n):\n",
    "        yield num**3 ## raising to the power of 3\n",
    "print(type(gencube)) # function \n",
    "print(type(gencube(10))) # generator\n",
    "print(gencube)\n",
    "print(gencube(10))\n",
    "for x in gencube(10):\n",
    "    print(x)"
   ]
  },
  {
   "cell_type": "markdown",
   "metadata": {},
   "source": [
    "On a cursory look at the example above, the generator gencube() seems like a normal function. However, generators are best for calculating large sets of results (particularly in calculations that involve loops themselves) in cases where we don’t want to allocate the memory for all of the results at the same time. If we use a normal function, the code will look like below:"
   ]
  },
  {
   "cell_type": "code",
   "execution_count": 7,
   "metadata": {},
   "outputs": [
    {
     "name": "stdout",
     "output_type": "stream",
     "text": [
      "[0, 1, 8, 27, 64, 125, 216, 343, 512, 729]\n"
     ]
    }
   ],
   "source": [
    "def normalcube(n):\n",
    "    normal_list=[]\n",
    "    for num in range(n):\n",
    "        normal_list.append(num**3)\n",
    "    return normal_list\n",
    "print(normalcube(10))"
   ]
  },
  {
   "cell_type": "markdown",
   "metadata": {},
   "source": [
    "Notice that now by using a normal function, we have to store everything in a list called 'normal_list' within the normalcube() function. There is nothing wrong with this type of approach, but when n is large, the memory storage becomes a problem. This is where the generators come in handy. \n",
    "\n",
    "As another example, let's write a generator that creates a Fibonacci sequence. "
   ]
  },
  {
   "cell_type": "code",
   "execution_count": 26,
   "metadata": {},
   "outputs": [
    {
     "name": "stdout",
     "output_type": "stream",
     "text": [
      "1\n",
      "1\n",
      "2\n",
      "3\n",
      "5\n",
      "8\n",
      "13\n",
      "21\n",
      "34\n",
      "55\n"
     ]
    }
   ],
   "source": [
    "def fibon(n):\n",
    "    a=1\n",
    "    b=1\n",
    "    for j in range(n):\n",
    "        yield a\n",
    "        temp=a # temporary variable\n",
    "        a=b\n",
    "        b=temp+b\n",
    "for x in fibon(10):\n",
    "    print(x)"
   ]
  },
  {
   "cell_type": "markdown",
   "metadata": {},
   "source": [
    "Now let's discuss **iterators**, which are objects that can be iterated upon. Iterators are actually very commonplace in Python. They are often elegantly implemented within for loops, comprehensions, generators etc. but hidden in plain sight. Technically speaking, Python iterator object must implement two special methods, '\\__iter\\__()' and '\\__next\\__()', collectively called the iterator protocol. An object is called **iterable** if we can get an iterator from it. Most of built-in containers in Python like: list, tuple, string etc. are iterables. The iter() function (which in turn calls the '\\__iter\\__()' method) returns an iterator from them. However, note that iterables are not necessarily iterator objects. "
   ]
  },
  {
   "cell_type": "markdown",
   "metadata": {},
   "source": [
    "The key to fully understand generators and iterators is to understand the how to use the next() and iter() functions. The next() function retrieves the next item from the iterator, and if the iterator is exhausted, it returns default value (if provided). If the default parameter is omitted and iterator is exhausted, it raises 'StopIteration' error. Below is an example:"
   ]
  },
  {
   "cell_type": "code",
   "execution_count": 27,
   "metadata": {},
   "outputs": [
    {
     "name": "stdout",
     "output_type": "stream",
     "text": [
      "<class 'generator'>\n",
      "0\n",
      "1\n",
      "2\n",
      "The iterator is exhausted, no more printing!\n"
     ]
    }
   ],
   "source": [
    "def simple_gen():\n",
    "    for x in range(3):\n",
    "        yield x\n",
    "g=simple_gen()\n",
    "print(type(g))\n",
    "def recur_print(iterator):\n",
    "    try:\n",
    "        print(next(iterator))\n",
    "    except StopIteration:\n",
    "        print('The iterator is exhausted, no more printing!')\n",
    "recur_print(g)\n",
    "recur_print(g)\n",
    "recur_print(g)\n",
    "recur_print(g)"
   ]
  },
  {
   "cell_type": "markdown",
   "metadata": {},
   "source": [
    "The iter() function, on the other hand, returns an iterator. Below is example. You may have remember that strings are iterable, but this does not mean that the string itself is an iterator:"
   ]
  },
  {
   "cell_type": "code",
   "execution_count": 28,
   "metadata": {},
   "outputs": [
    {
     "name": "stdout",
     "output_type": "stream",
     "text": [
      "M\n",
      "J\n",
      "Z\n"
     ]
    }
   ],
   "source": [
    "s='MJZ'\n",
    "for letters in s:\n",
    "    print(letters)"
   ]
  },
  {
   "cell_type": "markdown",
   "metadata": {},
   "source": [
    "In other words, if you type next(s) from the above example, Python will raise an error. \n",
    "\n",
    "To solve this problem, we can use the iter() function. Here it basically can change the string to an iterator. "
   ]
  },
  {
   "cell_type": "code",
   "execution_count": 29,
   "metadata": {},
   "outputs": [
    {
     "name": "stdout",
     "output_type": "stream",
     "text": [
      "M\n",
      "J\n",
      "Z\n",
      "<class 'str_iterator'>\n"
     ]
    }
   ],
   "source": [
    "s_iter=iter(s)\n",
    "print(next(s_iter))\n",
    "print(next(s_iter))\n",
    "print(next(s_iter))\n",
    "print(type(s_iter))"
   ]
  },
  {
   "cell_type": "code",
   "execution_count": null,
   "metadata": {
    "collapsed": true
   },
   "outputs": [],
   "source": []
  }
 ],
 "metadata": {
  "kernelspec": {
   "display_name": "Python 3",
   "language": "python",
   "name": "python3"
  },
  "language_info": {
   "codemirror_mode": {
    "name": "ipython",
    "version": 3
   },
   "file_extension": ".py",
   "mimetype": "text/x-python",
   "name": "python",
   "nbconvert_exporter": "python",
   "pygments_lexer": "ipython3",
   "version": "3.6.3"
  }
 },
 "nbformat": 4,
 "nbformat_minor": 2
}
