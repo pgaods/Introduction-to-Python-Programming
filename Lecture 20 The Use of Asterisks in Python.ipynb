{
 "cells": [
  {
   "cell_type": "markdown",
   "metadata": {},
   "source": [
    "In this mini-lecture, we study the clever use of asterisk sign * in Python.\n",
    "\n",
    "#### I. Unpacking using single asterisk\n",
    "\n",
    "Unpacking the elements from a list, tuple or set using the asterisk is the main primary focus. Unpacking is the basic idea behind using the asterisks as prefix operators. Below are 3 examples of unpacking each aforementioned data types. Notice that by default, the returned unpacked object is a list:"
   ]
  },
  {
   "cell_type": "code",
   "execution_count": 1,
   "metadata": {},
   "outputs": [
    {
     "name": "stdout",
     "output_type": "stream",
     "text": [
      "[1, 2, 3, 4, 5]\n",
      "1 [2, 3, 4] 5\n"
     ]
    }
   ],
   "source": [
    "nums=[i for i in range(1,6)]\n",
    "print(nums)\n",
    "a, *b, c = nums\n",
    "print(a,b,c)"
   ]
  },
  {
   "cell_type": "code",
   "execution_count": 2,
   "metadata": {},
   "outputs": [
    {
     "name": "stdout",
     "output_type": "stream",
     "text": [
      "{1, 2, 3, 4, 5}\n",
      "1 [2, 3, 4] 5\n"
     ]
    }
   ],
   "source": [
    "nums={i for i in range(1,6)}\n",
    "print(nums)\n",
    "a, *b, c = nums\n",
    "print(a,b,c)"
   ]
  },
  {
   "cell_type": "code",
   "execution_count": 3,
   "metadata": {},
   "outputs": [
    {
     "name": "stdout",
     "output_type": "stream",
     "text": [
      "(1, 2, 3, 4, 5)\n",
      "1 [2, 3, 4] 5\n"
     ]
    }
   ],
   "source": [
    "nums=tuple(i for i in range(1,6))\n",
    "print(nums)\n",
    "a, *b, c = nums\n",
    "print(a,b,c)"
   ]
  },
  {
   "cell_type": "markdown",
   "metadata": {},
   "source": [
    "We can also add two different iterables into lists, sets and tuples using unpacking. In general, we would have to convert the iterables and combine them into one. Here is an example:"
   ]
  },
  {
   "cell_type": "code",
   "execution_count": 4,
   "metadata": {},
   "outputs": [
    {
     "name": "stdout",
     "output_type": "stream",
     "text": [
      "[1, 2, 3, 4, 5, 6, 8, 9, 7]\n",
      "(1, 2, 3, 4, 5, 6, 8, 9, 7)\n",
      "{1, 2, 3, 4, 5, 6, 7, 8, 9}\n"
     ]
    }
   ],
   "source": [
    "nums1=[1,2,3]\n",
    "nums2=(4,5,6)\n",
    "nums3={7,8,9}\n",
    "\n",
    "l=[*nums1,*nums2,*nums3]\n",
    "t=(*nums1,*nums2,*nums3)\n",
    "s={*nums1,*nums2,*nums3}\n",
    "\n",
    "print(l)\n",
    "print(t)\n",
    "print(s)"
   ]
  },
  {
   "cell_type": "markdown",
   "metadata": {},
   "source": [
    "The asterisk can also be used in nested unpacking, which takes out the elements from the first level of extracted items:"
   ]
  },
  {
   "cell_type": "code",
   "execution_count": 5,
   "metadata": {},
   "outputs": [
    {
     "name": "stdout",
     "output_type": "stream",
     "text": [
      "P\n",
      "['y', 't', 'h', 'o', 'n']\n",
      "['SAS', 'R', 'C++']\n"
     ]
    }
   ],
   "source": [
    "languages=['Python', 'SAS', 'R', 'C++']\n",
    "[[first_letter, *remaining], *other]=languages\n",
    "print(first_letter)\n",
    "print(remaining)\n",
    "print(other)"
   ]
  },
  {
   "cell_type": "markdown",
   "metadata": {},
   "source": [
    "#### II. Unpacking using double asterisks\n",
    "\n",
    "Double asterisks are used to unpack the elements from a dictionary object. We must know the keys of the dictionary to extract the values during unpacking. Here is an example:"
   ]
  },
  {
   "cell_type": "code",
   "execution_count": 6,
   "metadata": {},
   "outputs": [
    {
     "name": "stdout",
     "output_type": "stream",
     "text": [
      "Name:John------Year Of Graduation:2021------Age:19\n"
     ]
    }
   ],
   "source": [
    "person = {\"name\":\"John\", \"age\":19, \"year_of_passing\":2021}\n",
    "string = \"Name:{name}------Year Of Graduation:{year_of_passing}------Age:{age}\".format(**person)\n",
    "print(string)"
   ]
  },
  {
   "cell_type": "markdown",
   "metadata": {},
   "source": [
    "#### III. Unpacking in functions\n",
    "\n",
    "The asterisk operator is used to call a function by unpacking an iterable. Let's say we have a list and have to pass all the elements of it to the print() function separately as show below. Here is an easy way of doing it:"
   ]
  },
  {
   "cell_type": "code",
   "execution_count": 7,
   "metadata": {},
   "outputs": [
    {
     "name": "stdout",
     "output_type": "stream",
     "text": [
      "1 2 3 4\n"
     ]
    }
   ],
   "source": [
    "nums=[i for i in range(1,5)]\n",
    "print(*nums)"
   ]
  },
  {
   "cell_type": "code",
   "execution_count": 8,
   "metadata": {},
   "outputs": [
    {
     "data": {
      "text/plain": [
       "3.0"
      ]
     },
     "execution_count": 8,
     "metadata": {},
     "output_type": "execute_result"
    }
   ],
   "source": [
    "def average(*x):\n",
    "    return sum(x)/len(x)\n",
    "average(1,2,3,4,5)"
   ]
  },
  {
   "cell_type": "code",
   "execution_count": 9,
   "metadata": {},
   "outputs": [
    {
     "name": "stdout",
     "output_type": "stream",
     "text": [
      "Car ---- {'color': 'Red', 'cost': 10345.43, 'brand': 'Honda'}\n"
     ]
    }
   ],
   "source": [
    "def showme(name, **properties):\n",
    "    print(name, \"----\", properties)\n",
    "showme(\"Car\", color=\"Red\", cost=10345.43, brand=\"Honda\")"
   ]
  },
  {
   "cell_type": "markdown",
   "metadata": {},
   "source": [
    "Arguments with the names are called **keyword arguments**. And the other arguments are called **positional arguments**. Put another way, a positional argument is a name that is not followed by an equal sign (=) and default value, whereas a keyword argument is followed by an equal sign (=) and an expression that gives its default value.\n",
    "\n",
    "To see the difference, as in the example below, \"car\" is the positional argument whereas \"color\" and \"cost\" are keyword arguments:"
   ]
  },
  {
   "cell_type": "code",
   "execution_count": 10,
   "metadata": {},
   "outputs": [],
   "source": [
    "def sample(car, color = 'Black', cost = None):\n",
    "    print(\"Car:{} Color:{}, Cost:{}\".format(car, color, cost))"
   ]
  },
  {
   "cell_type": "markdown",
   "metadata": {},
   "source": [
    "We can use the name of the parameter to pass the arguments while calling a function for keyword arguments. If we don't give anything for the keyword arguments, they will take the default value provided in the function definition.\n",
    "\n",
    "We can specify the keyword arguments using the keywords or position of the arguments like below. The order of keyword arguments is not essential if we call them using the names defined in the function:"
   ]
  },
  {
   "cell_type": "code",
   "execution_count": 11,
   "metadata": {},
   "outputs": [
    {
     "name": "stdout",
     "output_type": "stream",
     "text": [
      "Car:Ferrari Color:Red, Cost:999999\n"
     ]
    }
   ],
   "source": [
    "sample(\"Ferrari\", \"Red\", 999999)"
   ]
  },
  {
   "cell_type": "code",
   "execution_count": 12,
   "metadata": {},
   "outputs": [
    {
     "name": "stdout",
     "output_type": "stream",
     "text": [
      "Car:Ferrari Color:Red, Cost:999999\n"
     ]
    }
   ],
   "source": [
    "sample(\"Ferrari\", cost = 999999, color = \"Red\")"
   ]
  },
  {
   "cell_type": "markdown",
   "metadata": {},
   "source": [
    "Now that we have an idea about positional and keyword arguments. Let's enter into our main topic. \n",
    "\n",
    "Keyword-only arguments only are specified by the keywords. We can't set them positionally as we have seen earlier. We have to declare the keyword arguments after the asterisk arguments to capture keyword-only. \n",
    "\n",
    "In the example below, we have to use the list0 and default keywords while calling the function as they come after the \\*items. If we don't use the keywords to call them, we will get an error. "
   ]
  },
  {
   "cell_type": "code",
   "execution_count": 13,
   "metadata": {},
   "outputs": [],
   "source": [
    "def keyword_only(*items, list0, default_state = False):\n",
    "    print(items)\n",
    "    print(list0)\n",
    "    print(default_state)"
   ]
  },
  {
   "cell_type": "code",
   "execution_count": 14,
   "metadata": {},
   "outputs": [
    {
     "name": "stdout",
     "output_type": "stream",
     "text": [
      "(1, 2, 3, 4, 5)\n",
      "[1, 4, 9, 16, 25]\n",
      "True\n"
     ]
    }
   ],
   "source": [
    "nums = [i ** 2 for i in range(1, 6)]\n",
    "## calling the function\n",
    "keyword_only(1, 2, 3, 4, 5, list0 = nums, default_state = True)"
   ]
  },
  {
   "cell_type": "code",
   "execution_count": 15,
   "metadata": {},
   "outputs": [
    {
     "name": "stdout",
     "output_type": "stream",
     "text": [
      "keyword_only() missing 1 required keyword-only argument: 'list0'\n"
     ]
    }
   ],
   "source": [
    "nums = [i ** 2 for i in range(1, 6)]\n",
    "## calling the function will raise an error\n",
    "try:\n",
    "    keyword_only(1, 2, 3, 4, 5, nums, False)\n",
    "except:\n",
    "    print(\"keyword_only() missing 1 required keyword-only argument: 'list0'\")"
   ]
  },
  {
   "cell_type": "markdown",
   "metadata": {},
   "source": [
    "If we want to accept only Keyword-only arguments without any positional arguments, Python allows us to use * in function parameters to achieve this. Let's see an example:"
   ]
  },
  {
   "cell_type": "code",
   "execution_count": 16,
   "metadata": {},
   "outputs": [],
   "source": [
    "def _sample(*, name):\n",
    "    print(name)"
   ]
  },
  {
   "cell_type": "markdown",
   "metadata": {},
   "source": [
    "The above function takes only the keyword-only arguments. We have to pass the argument with the keyword. Otherwise, we will get an error. The asterisk in the function definition is to make sure that the function only takes arguments using the keywords. Any parameters we define after the asterisk parameter in the function must specify with the keywords during the function call:"
   ]
  },
  {
   "cell_type": "code",
   "execution_count": 17,
   "metadata": {},
   "outputs": [
    {
     "name": "stdout",
     "output_type": "stream",
     "text": [
      "Datacamp\n"
     ]
    }
   ],
   "source": [
    "_sample(name = \"Datacamp\")"
   ]
  },
  {
   "cell_type": "markdown",
   "metadata": {},
   "source": [
    "Now if we call the function without using the keyword 'name', we will get an error:"
   ]
  },
  {
   "cell_type": "code",
   "execution_count": 18,
   "metadata": {},
   "outputs": [
    {
     "name": "stdout",
     "output_type": "stream",
     "text": [
      "TypeError: _sample() takes 0 positional arguments but 1 was given\n"
     ]
    }
   ],
   "source": [
    "try:\n",
    "    _sample(\"Datacamp\")\n",
    "except:\n",
    "    print(\"TypeError: _sample() takes 0 positional arguments but 1 was given\")"
   ]
  },
  {
   "cell_type": "markdown",
   "metadata": {},
   "source": [
    "References:\n",
    "   - https://www.datacamp.com/community/tutorials/usage-asterisks-python \n",
    "   "
   ]
  },
  {
   "cell_type": "code",
   "execution_count": null,
   "metadata": {},
   "outputs": [],
   "source": []
  }
 ],
 "metadata": {
  "kernelspec": {
   "display_name": "Python 3",
   "language": "python",
   "name": "python3"
  },
  "language_info": {
   "codemirror_mode": {
    "name": "ipython",
    "version": 3
   },
   "file_extension": ".py",
   "mimetype": "text/x-python",
   "name": "python",
   "nbconvert_exporter": "python",
   "pygments_lexer": "ipython3",
   "version": "3.7.3"
  }
 },
 "nbformat": 4,
 "nbformat_minor": 2
}
