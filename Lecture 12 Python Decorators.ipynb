{
 "cells": [
  {
   "cell_type": "markdown",
   "metadata": {},
   "source": [
    "In this lecture, we will be learning Python decorators. Decorators can be thought of as functions which modify the functionality of another function. They help to make your code shorter and more \"Pythonic\". This is also called meta-programming as a part of the program tries to modify another part of the program at compile time.\n",
    "\n",
    "To properly explain decorators we will slowly build up from simple and easy functions. We will then examine functions within functions. And finally we explain what a decorator is. Below, let's start our journey by creating a function called hello():"
   ]
  },
  {
   "cell_type": "code",
   "execution_count": 1,
   "metadata": {},
   "outputs": [
    {
     "name": "stdout",
     "output_type": "stream",
     "text": [
      "the hello() function has been executed\n"
     ]
    }
   ],
   "source": [
    "def hello(name='Peter'):\n",
    "    print('the hello() function has been executed')\n",
    "    def greet():\n",
    "        return '\\t This is within the greet() function'\n",
    "    def welcome():\n",
    "        return '\\t This is within the welcome function'\n",
    "hello()"
   ]
  },
  {
   "cell_type": "markdown",
   "metadata": {},
   "source": [
    "We first start with nesting functions. Above is an example of two functions nested within the hello() function. Now let's do a modification:"
   ]
  },
  {
   "cell_type": "code",
   "execution_count": 2,
   "metadata": {},
   "outputs": [
    {
     "name": "stdout",
     "output_type": "stream",
     "text": [
      "<class 'function'>\n",
      "<function hello.<locals>.greet at 0x000002A9DC185048>\n",
      "\t This is inside the greet() function\n"
     ]
    }
   ],
   "source": [
    "def hello(name='Jose'):\n",
    "    def greet():\n",
    "        return '\\t This is inside the greet() function' \n",
    "    def welcome():\n",
    "        return \"\\t This is inside the welcome() function\"  \n",
    "    if name == 'Jose':\n",
    "        return greet # notice here that we return the object 'greet' (a function) instead of the result of the gree() function\n",
    "    else:\n",
    "        return welcome\n",
    "x=hello()\n",
    "print(type(x)) # here x is a function (object)\n",
    "print(x)\n",
    "print(x())"
   ]
  },
  {
   "cell_type": "markdown",
   "metadata": {},
   "source": [
    "Now let's take a closer look at the example above. In the if/else clause we are returning 'greet' and 'welcome', not greet() and welcome(). Simply put, this is because when you put a pair of parentheses after 'greet' and 'wecome', the function gets executed; whereas if you don’t put parenthesis after it, then it can be passed around and can be assigned to other variables without executing it.\n",
    "\n",
    "When we write x = hello(), the function hello() gets executed and because the name is Jose by default, the function greet() is returned. If we change the statement to x = hello(name = \"Sam\") then the welcome() function will be returned. Now compare the code above with the one below. Notice that we did not ask Python to run the command print(x()). Because if we do, we will encounter an error saying that 'str' object is not callable."
   ]
  },
  {
   "cell_type": "code",
   "execution_count": 2,
   "metadata": {},
   "outputs": [
    {
     "name": "stdout",
     "output_type": "stream",
     "text": [
      "<class 'str'>\n",
      "\t This is inside the greet() function\n"
     ]
    }
   ],
   "source": [
    "def hello2(name='Jose'):\n",
    "    def greet():\n",
    "        return '\\t This is inside the greet() function' \n",
    "    def welcome():\n",
    "        return \"\\t This is inside the welcome() function\"  \n",
    "    if name == 'Jose':\n",
    "        return greet() # notice here that we return the object 'greet' (a function) instead of the result of the gree() function\n",
    "    else:\n",
    "        return welcome()\n",
    "x=hello2()\n",
    "print(type(x)) # here x is a string\n",
    "print(x)\n",
    "#print(x())"
   ]
  },
  {
   "cell_type": "markdown",
   "metadata": {},
   "source": [
    "Now let's build more before introducing decorators. Let's learn how to pass functions as arguments. Below is an example to illustrate how we can pass functions as objects to other functions. "
   ]
  },
  {
   "cell_type": "code",
   "execution_count": 4,
   "metadata": {},
   "outputs": [
    {
     "name": "stdout",
     "output_type": "stream",
     "text": [
      "Other code would go here...\n",
      "Hi Peter!\n"
     ]
    }
   ],
   "source": [
    "def hello3():\n",
    "    return 'Hi Peter!'\n",
    "def other(func):\n",
    "    print('Other code would go here...')\n",
    "    print(func()) # the result is expecting other functions\n",
    "other(hello3) # do not use hello3()"
   ]
  },
  {
   "cell_type": "markdown",
   "metadata": {},
   "source": [
    "Now we can finally talk about decorators. Decorators provide a simple syntax for calling higher-order functions. By definition, a **decorator** is a function that takes another function and extends the behavior of the latter function without explicitly modifying it. In mathematics and computer science, a **high-order** function is a function that does at least one of the following: 1) it takes one or more functions as arguments, and 2) it returns a function as its result. Decorators are often used in web development. \n",
    "\n",
    "In Python, functions and methods are **callables** as they can be called. In fact, any object which implements the special method \\__call\\__() is termed callable. So, in the most basic sense, a decorator is a callable that returns a callable. Basically, a decorator takes in a function, adds some functionality and returns it.\n",
    "\n",
    "To illustrate how to create decorators, we will first write a set of normal codes for passing functions. Then we will invoke the decorators to make the existing code more simple. Below, we create a function called new_decorator() which takes any function as its argument. Inside this new_decorator() function, we define a wrapper() function in which it executes the argument of the new_decorator() function. We also create another function g() that later needs a decorator. "
   ]
  },
  {
   "cell_type": "code",
   "execution_count": 5,
   "metadata": {},
   "outputs": [
    {
     "name": "stdout",
     "output_type": "stream",
     "text": [
      "This function g() is in need of a Decorator\n"
     ]
    }
   ],
   "source": [
    "def new_decorator(func):\n",
    "    def wrapper():\n",
    "        print(\"---Other Code would be here, before executing the function func()\")\n",
    "        func()\n",
    "        print(\"---Other Code here will execute after the func()\")\n",
    "    return wrapper\n",
    "def g():\n",
    "    print(\"This function g() is in need of a Decorator\")\n",
    "g()"
   ]
  },
  {
   "cell_type": "markdown",
   "metadata": {},
   "source": [
    "Now let's reassign the function g() which needs a decorator by putting g() as a an argument for the new_decorator() function. In this case, the new_decorator() function will treat the function g() that needs a decorator as its argument and pass it along to execute it. Basically, a decorator simply wraps a function and modified its behavior. "
   ]
  },
  {
   "cell_type": "code",
   "execution_count": 6,
   "metadata": {},
   "outputs": [
    {
     "name": "stdout",
     "output_type": "stream",
     "text": [
      "---Other Code would be here, before executing the function func()\n",
      "This function g() is in need of a Decorator\n",
      "---Other Code here will execute after the func()\n"
     ]
    }
   ],
   "source": [
    "g=new_decorator(g)\n",
    "g()"
   ]
  },
  {
   "cell_type": "markdown",
   "metadata": {},
   "source": [
    "All of these can be simplified by directly calling a decorator, as shown below:"
   ]
  },
  {
   "cell_type": "code",
   "execution_count": 7,
   "metadata": {},
   "outputs": [
    {
     "name": "stdout",
     "output_type": "stream",
     "text": [
      "---Other Code would be here, before executing the function func()\n",
      "This function g() is in need of a Decorator\n",
      "---Other Code here will execute after the func()\n"
     ]
    }
   ],
   "source": [
    "@new_decorator\n",
    "def g():\n",
    "    print(\"This function g() is in need of a Decorator\")\n",
    "g()"
   ]
  },
  {
   "cell_type": "code",
   "execution_count": null,
   "metadata": {
    "collapsed": true
   },
   "outputs": [],
   "source": []
  }
 ],
 "metadata": {
  "kernelspec": {
   "display_name": "Python 3",
   "language": "python",
   "name": "python3"
  },
  "language_info": {
   "codemirror_mode": {
    "name": "ipython",
    "version": 3
   },
   "file_extension": ".py",
   "mimetype": "text/x-python",
   "name": "python",
   "nbconvert_exporter": "python",
   "pygments_lexer": "ipython3",
   "version": "3.6.3"
  }
 },
 "nbformat": 4,
 "nbformat_minor": 2
}
