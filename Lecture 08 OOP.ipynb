{
 "cells": [
  {
   "cell_type": "markdown",
   "metadata": {},
   "source": [
    "In this lecture, we study object-oriented-programming (OOP). The idea here is we need to understand how to create user-defined objects like sets, lists, or dictionaries. So first things first, we need to understand the nature of objects. And then we will discuss the concept of classes. From there, we extend to our other topics of OOP. "
   ]
  },
  {
   "cell_type": "markdown",
   "metadata": {},
   "source": [
    "Before we introduce important concepts in OOP, let's start from something simple. We would like to know how to check the type of an object. This can be done using the type() function. Integers, floats, lists, tuples, sets, dictionaries and functions are all examples of objects. "
   ]
  },
  {
   "cell_type": "code",
   "execution_count": 1,
   "metadata": {},
   "outputs": [
    {
     "name": "stdout",
     "output_type": "stream",
     "text": [
      "<class 'int'>\n",
      "<class 'float'>\n",
      "<class 'tuple'>\n",
      "<class 'list'>\n",
      "<class 'dict'>\n"
     ]
    }
   ],
   "source": [
    "print(type(1))\n",
    "print(type(982.34))\n",
    "print(type(('a',3)))\n",
    "print(type([1,2,3]))\n",
    "print(type({'k1':0, 'k2':1}))"
   ]
  },
  {
   "cell_type": "markdown",
   "metadata": {
    "collapsed": true
   },
   "source": [
    "Now let's first officially study classes and OOP. We have emphasized many times that Python is called an \"object-oriented programming language\". This means there is a construct in Python called a **class** that lets you structure your software/data/objects in a particular way. Using classes, you can add consistency to your programs so that they can be used in a cleaner way, so you can think of a class as a blueprint for certain objects. A class is a way to take a grouping of functions and data and place them inside a container so you can access them with the dot operator. You can think of a class as a mini-module (mini library). You can also treat classes as a collection of objects, their associated methods, and many more. You can think of a class as an environment for the aforementioned things. Classes are very similar to types. Some discussions related to these concepts can be found here: https://stackoverflow.com/questions/35958961/class-vs-type-in-python.\n",
    "\n",
    "Now let's introduce some important concepts for OOP in Python. They could be confusing upon first examination but later examples will make these concepts crystal clear:\n",
    "\n",
    "   - An **object** is a unique instance of a data structure that's defined by its class. An object is also called an **instance** of a class and the process of creating this object is called **instantiation**.  An **instance** is an individual object of a certain class. As an example, an object 'obj' that belongs to a class 'Circle' is an instance of the class 'Circle'. Objects are essentially Python’s abstraction for data. All data in a Python program is represented by objects or by relations between objects. Every object has an **identity**, a **type** and a **value**.\n",
    "   - An object has two characteristics: 1) **attributes**, and 2) **behavior**. An **attribute** is a characteristic of an object. For example, a parrot is an object, and its attributes include name, gender, size, color whereas 'twittering' and 'talking like humans' are its behavior. A **method** refers to a function defined inside the body of a class. They are used to define the behaviors of an object. A method is essentially an operation (function) we can perform on the object. Methods are used in the encapsulation concept of the OOP paradigm (**encapsulation** implies hiding the private details of a class from other objects). When you put a function inside a class, you refer to them as a method.\n",
    "   - A **class** is a user-defined prototype for an object that defines a set of attributes that characterize any object of the class. A class is a mechanism Python gives us to create new user-defined types from Python code. You can think of a class as an extensible program-code-template for creating objects, providing initial values for state (member variables) and implementations of behavior (member functions or methods). \n",
    "   - The attributes of a class include **data members** (class variables and instance variables) and associated methods, which can be accessed via dot notation. A **instance variable** is a variable that is defined inside a method and belongs only to the current instance of a class. A **class variable** is a variable that is shared by all instances of a class. Class variables are defined within a class but outside any of the class' methods. \n",
    "   - A **namespace** is a way to implement scope. In Python, each package, module, class, function and method function owns a \"namespace\" in which variable names are resolved. When a function,  module or package is evaluated (that is, starts execution), a namespace is created. Think of it as an \"evaluation context\". When a function, etc., finishes execution, the namespace is dropped. The variables are dropped. Plus there's a global namespace that's used if the name isn't in the local namespace.\n",
    "\n",
    "Details of these concepts can be found here: https://www.tutorialspoint.com/python/python_classes_objects.htm"
   ]
  },
  {
   "cell_type": "markdown",
   "metadata": {},
   "source": [
    "Now let's start by creating objects and classes. To do so, we need to use the 'class' keyword (just like how we define a function with the 'def' keyword). When a class definition is entered, a new namespace is created, and used as the local scope — thus, all assignments to local variables go into this new namespace. In particular, function definitions bind the name of the new function here. Below, we create a simple class called 'Class_name' that does nothing:"
   ]
  },
  {
   "cell_type": "code",
   "execution_count": 2,
   "metadata": {},
   "outputs": [
    {
     "data": {
      "text/plain": [
       "__main__.Class_name"
      ]
     },
     "execution_count": 2,
     "metadata": {},
     "output_type": "execute_result"
    }
   ],
   "source": [
    "class Class_name(object): # usually the class names are in proper case by convention\n",
    "    'This is a docstring-I have created a new class'\n",
    "    pass\n",
    "x=Class_name()\n",
    "type(x)"
   ]
  },
  {
   "cell_type": "markdown",
   "metadata": {},
   "source": [
    "There are two closely related concepts for a class: attributes and methods. For example, we can create a class called 'Dog'. An attribute of 'Dog' can be its name and its breed, while a method of a dog may be defined by a .bark() function. \n",
    "\n",
    "The syntax for an attribute is given by self._attribute_=_attribute_details_. The 'self' is always an argument. There is also a special method called \\__init\\__(), which is used to initialize the attributes of an object by passing 'self'. Every single method within a class has the word 'self' in it. When a class defines an \\__init\\__() method, class instantiation automatically invokes \\__init\\__() for the newly-created class instance.\n",
    "\n",
    "When a class definition is left normally (via the end), a class object is created. This is basically a wrapper around the contents of the namespace created by the class definition. Class objects support two kinds of operations: attribute references and instantiation:\n",
    "\n",
    "1. Attribute references use the standard syntax used for all attribute references in Python: _obj.name_. Valid attribute names are all the names that were in the class’s namespace when the class object was created. \n",
    "2. Instantiation uses function notation. Just pretend that the class object is a parameterless function that returns a new instance of the class. \n",
    "\n",
    "These are very abstract concepts now. So let's see an example. Below we create a class called 'Employee' (in the future, a class will be denoted either by '_class-name_' with quotation or _class-name_() with a parenthesis):"
   ]
  },
  {
   "cell_type": "code",
   "execution_count": 3,
   "metadata": {},
   "outputs": [
    {
     "name": "stdout",
     "output_type": "stream",
     "text": [
      "Common base class for all employees\n",
      "100\n",
      "<function Employee.displayEmployee at 0x0000020125B603A8>\n",
      "Name :  Peter , Salary:  130000\n"
     ]
    }
   ],
   "source": [
    "class Employee:\n",
    "    'Common base class for all employees'\n",
    "    empCount = 99\n",
    "    def __init__(self, name, salary):\n",
    "        self.name = name\n",
    "        self.salary = salary\n",
    "        Employee.empCount += 1 \n",
    "    def displayCount(self):\n",
    "        print(\"Total Employee %d\" % Employee.empCount)\n",
    "    def displayEmployee(self):\n",
    "        print(\"Name : \", self.name,  \", Salary: \", self.salary)\n",
    "        \n",
    "Google=Employee('Peter', 130000)\n",
    "\n",
    "print(Employee.__doc__) # this gives the docstring 'Common base class for all employees'\n",
    "print(Employee.empCount) # 99\n",
    "print(Employee.displayEmployee) # function\n",
    "Google.displayEmployee()"
   ]
  },
  {
   "cell_type": "markdown",
   "metadata": {},
   "source": [
    "Let's examine this example in detail. The variable 'empCount' is a class variable whose value is shared among all instances of this class. This can be accessed as Employee.empCount from inside the class or outside the class.\n",
    "\n",
    "The first method \\__init\\__() is a special method, which is called class constructor or initialization method that Python calls when you create a new instance of this class. You may declare other class methods like normal functions with the exception that the first argument to each method is self. Python adds the self argument to the list for you; you do not need to include it when you call the methods.\n",
    "\n",
    "Now let's see another example. As you see below, whenever you have the syntax 'def \\__init\\__()', Python is constructing an attribute for that class:"
   ]
  },
  {
   "cell_type": "code",
   "execution_count": 4,
   "metadata": {},
   "outputs": [
    {
     "name": "stdout",
     "output_type": "stream",
     "text": [
      "<__main__.Dog object at 0x0000020125A37888>\n",
      "<__main__.Dog object at 0x0000020125A37808>\n",
      "<__main__.Dog object at 0x0000020125A37BC8>\n",
      "Bulldog\n",
      "Huskie\n",
      "Bordeaux\n",
      "<class 'str'>\n",
      "<class '__main__.Dog'>\n"
     ]
    }
   ],
   "source": [
    "class Dog(object):\n",
    "    def __init__(self,breed): # creating an attribute for the class\n",
    "        self.breed=breed\n",
    "        \n",
    "sam=Dog(breed='Bulldog')\n",
    "frank=Dog(breed='Huskie')\n",
    "peter=Dog(breed='Bordeaux')\n",
    "print(sam)\n",
    "print(frank) \n",
    "print(peter) \n",
    "print(sam.breed) \n",
    "print(frank.breed)\n",
    "print(peter.breed)\n",
    "\n",
    "print(type(sam.breed))\n",
    "print(type(sam))"
   ]
  },
  {
   "cell_type": "markdown",
   "metadata": {},
   "source": [
    "One can see now that essentially the idea of OOP is another way of creating complicated functions or mappings that can have its own unique functionality. As another example, suppose we want to create a class that takes two points and calculate their distance and slopes. We can achieve it through OOP just like before. The codes are written below:"
   ]
  },
  {
   "cell_type": "code",
   "execution_count": 5,
   "metadata": {},
   "outputs": [
    {
     "name": "stdout",
     "output_type": "stream",
     "text": [
      "1.4142135623730951\n",
      "-1.0\n"
     ]
    }
   ],
   "source": [
    "class Line(object):\n",
    "    def __init__(self, coor1, coor2):\n",
    "        self.coor1=coor1\n",
    "        self.coor2=coor2\n",
    "    def distance(self):\n",
    "        x1,y1=self.coor1\n",
    "        x2,y2=self.coor2\n",
    "        return(((x2-x1)**2+(y2-y1)**2)**0.5)\n",
    "    def slope(self):\n",
    "        x1,y1=self.coor1\n",
    "        x2,y2=self.coor2\n",
    "        return(float((y2-y1)/(x2-x1)))\n",
    "coordinate1=(1,2) # tuple\n",
    "coordinate2=(2,1) \n",
    "line=Line(coordinate1, coordinate2)\n",
    "print(line.distance())\n",
    "print(line.slope())"
   ]
  },
  {
   "cell_type": "markdown",
   "metadata": {
    "collapsed": true
   },
   "source": [
    "We now intend to extend our knowledge, so let's add a class object attribute based on the previous example and some additional arguments."
   ]
  },
  {
   "cell_type": "code",
   "execution_count": 6,
   "metadata": {},
   "outputs": [
    {
     "name": "stdout",
     "output_type": "stream",
     "text": [
      "mammals\n",
      "<__main__.Dog2 object at 0x0000020125A37888>\n",
      "Bordeaux\n",
      "F\n"
     ]
    }
   ],
   "source": [
    "class Dog2(object):\n",
    "    species='mammals' # this is a class variable\n",
    "    def __init__(self,breed, gender): # creating two instance variable/attributes for the class\n",
    "        self.breed=breed # first attribute of the classs Dog2 is breed\n",
    "        self.gender=gender # instance variable\n",
    "\n",
    "sam=Dog2(breed='Bulldog', gender='F')\n",
    "frank=Dog2(breed='Huskie', gender='F')\n",
    "peter=Dog2(breed='Bordeaux', gender='M')\n",
    "\n",
    "print(Dog2.species) # this is an attribute which will resolve to 'mammals'\n",
    "print(peter) \n",
    "print(peter.breed)\n",
    "print(sam.gender)"
   ]
  },
  {
   "cell_type": "markdown",
   "metadata": {
    "collapsed": true
   },
   "source": [
    "Now let's look at methods for classes. As an example, suppose we want to create a class called Circle(). We will use this example to demonstrate the knowledge related to dynamics between a class and its associated methods. Remember all methods within a class must have the 'self' argument:"
   ]
  },
  {
   "cell_type": "code",
   "execution_count": 7,
   "metadata": {},
   "outputs": [],
   "source": [
    "class Circle(object):\n",
    "    \n",
    "    pi=3.14 # class variable/class attribute\n",
    "    def __init__(self, radius=10): # defining an instance attribute\n",
    "        self.radius=radius\n",
    "        \n",
    "    def area(self): # this is a method\n",
    "        return (self.radius**2)*Circle.pi # 'self' must be here \n",
    "    \n",
    "    def reset_radius(self, new_radius): # this method takes in a radius and resets the current radius of the Circle\n",
    "        self.radius=new_radius\n",
    "        \n",
    "c=Circle()"
   ]
  },
  {
   "cell_type": "code",
   "execution_count": 8,
   "metadata": {},
   "outputs": [
    {
     "name": "stdout",
     "output_type": "stream",
     "text": [
      "3.14\n",
      "10\n",
      "314.0\n",
      "9\n"
     ]
    }
   ],
   "source": [
    "print(c.pi) # 3.14\n",
    "print(c.radius) # 10\n",
    "print(c.area()) # 314.0\n",
    "c.reset_radius(9) # resetting radius\n",
    "print(c.radius) # 9"
   ]
  },
  {
   "cell_type": "markdown",
   "metadata": {},
   "source": [
    "We now study the concept of inheritance. An **inheritance** is a way to form new classes that have already been defined. The newly formed classes are called **derived classes**, and the classes that we derive from are called the base classes. Important benefits of inheritance are code reuses and reduction of the complexity of a program. The derived classes (also known as the **descendants**) override or extend the functionality of base classes (also known as **ancestors**).\n",
    "\n",
    "Let's create a few classes to see how inheritance works. We first create a class called Animal(). Then we create a new class called Feline() by inheriting from Animal()."
   ]
  },
  {
   "cell_type": "code",
   "execution_count": 9,
   "metadata": {},
   "outputs": [
    {
     "name": "stdout",
     "output_type": "stream",
     "text": [
      "Animal created as an initialization!\n",
      "primates and mammals only\n",
      "eat: meat!\n",
      "plane animal\n"
     ]
    }
   ],
   "source": [
    "class Animal(object):\n",
    "    species='primates and mammals only'\n",
    "    def __init__(self):\n",
    "        print('Animal created as an initialization!')\n",
    "    def whoamI(self):\n",
    "        print('plane animal')\n",
    "    def eat(self):\n",
    "        print('eat: meat!')\n",
    "a=Animal() # this will give me the text string 'Animal create as an initialization'\n",
    "print(a.species)\n",
    "a.eat()\n",
    "a.whoamI()"
   ]
  },
  {
   "cell_type": "code",
   "execution_count": 10,
   "metadata": {},
   "outputs": [
    {
     "name": "stdout",
     "output_type": "stream",
     "text": [
      "Animal created as an initialization!\n",
      "cat created this time\n"
     ]
    }
   ],
   "source": [
    "class Feline(object):\n",
    "    species='Feline'\n",
    "    def __init__(self):\n",
    "        Animal.__init__(self) # inheritance happens here\n",
    "        print('cat created this time')\n",
    "    def whoamI(self):\n",
    "        print('This time I am a big cat-leopard')\n",
    "    def purr(self):\n",
    "        print('meow, I am hungry again')\n",
    "b=Feline()"
   ]
  },
  {
   "cell_type": "code",
   "execution_count": 11,
   "metadata": {},
   "outputs": [
    {
     "name": "stdout",
     "output_type": "stream",
     "text": [
      "This time I am a big cat-leopard\n",
      "Feline\n"
     ]
    }
   ],
   "source": [
    "b.whoamI() # this time the 'whoamI' will override any previously inherited instances\n",
    "print(b.species) # Feline this time as it overwrites any previous inherited instances"
   ]
  },
  {
   "cell_type": "markdown",
   "metadata": {},
   "source": [
    "Notice from the previous example that when inheritanc happens, we carry stuff over from the old class to the new class. However, if there is no inheritance, we respect the rules within the new class if we query about the new class. \n",
    "\n",
    "Let's see another example of inheriance. We first create a class called Person(). The functionality of this class is to obtain the person's name and then check whether he/she is an employee. To inherit from this class, we create a derived class called Employee(). This class checks whether the underlying person is employee or not by borrowing methods from its base class. What we will be doing in the next example is called **overriding**. A method of a parent class gets overridden by simply defining a method with the same name in the child class:"
   ]
  },
  {
   "cell_type": "code",
   "execution_count": 12,
   "metadata": {},
   "outputs": [
    {
     "name": "stdout",
     "output_type": "stream",
     "text": [
      "Geek1 False\n",
      "Geek2 True\n"
     ]
    }
   ],
   "source": [
    "class Person(object):\n",
    "    def __init__(self, name): # creatingi an instance variable\n",
    "        self.name = name\n",
    "    def getName(self): # getting a name\n",
    "        return self.name\n",
    "    def isEmployee(self): # checking if this person is an employee\n",
    "        return False\n",
    "\n",
    "class Employee(Person): # inheriting from the 'Person' class\n",
    "    def isEmployee(self):\n",
    "        return True\n",
    "    \n",
    "emp1 = Person(\"Geek1\") # an object of 'Person'\n",
    "print(emp1.getName(), emp1.isEmployee())\n",
    "emp2 = Employee(\"Geek2\") # an object of 'Employee'\n",
    "print(emp2.getName(), emp2.isEmployee())"
   ]
  },
  {
   "cell_type": "markdown",
   "metadata": {},
   "source": [
    "Let's see another example of overriding. Imagine we create two classes one called 'Robot' and the 'PhysicianRobot', both of which have a say_h() method. The 'Robot' says hi succinctly whereas the 'PhysicianRobot' tends to say more things. In this case, we have to redefine the method say_hi() inside of the subclass 'PhysicianRobot':"
   ]
  },
  {
   "cell_type": "code",
   "execution_count": 13,
   "metadata": {},
   "outputs": [
    {
     "name": "stdout",
     "output_type": "stream",
     "text": [
      "Hi, I am James...\n",
      "Hello! Everything will be okay! \n",
      "Robert will take care of you!\n"
     ]
    }
   ],
   "source": [
    "class Robot:\n",
    "    \"\"\"This is a class called 'Robot' \"\"\"\n",
    "    def __init__(self, name):\n",
    "        self.name = name\n",
    "        \n",
    "    def say_hi(self):\n",
    "        print(\"Hi, I am \" + self.name + '...')\n",
    "\n",
    "class PhysicianRobot(Robot):\n",
    "    \"\"\"This is a class called 'PhysicianRobot' \"\"\"\n",
    "    def say_hi(self):\n",
    "        print(\"Hello! Everything will be okay! \") \n",
    "        print(self.name + \" will take care of you!\")\n",
    "x=Robot('James')\n",
    "x.say_hi()\n",
    "y = PhysicianRobot(\"Robert\")\n",
    "y.say_hi()"
   ]
  },
  {
   "cell_type": "markdown",
   "metadata": {},
   "source": [
    "If a method is overridden in a class, the original method can still be accessed, but we have to do it by calling the method directly with the class name, i.e. Robot.say_hi(y). We demonstrate this in the following code:"
   ]
  },
  {
   "cell_type": "code",
   "execution_count": 14,
   "metadata": {},
   "outputs": [
    {
     "name": "stdout",
     "output_type": "stream",
     "text": [
      "Hello! Everything will be okay! \n",
      "Doctor James will take care of you!\n",
      "\n",
      " ... and now the 'traditional' robot way of saying hi :-)\n",
      "Hi, I am Doctor James...\n"
     ]
    }
   ],
   "source": [
    "y = PhysicianRobot(\"Doctor James\")\n",
    "y.say_hi()\n",
    "\n",
    "print(\"\\n ... and now the 'traditional' robot way of saying hi :-)\")\n",
    "Robot.say_hi(y)"
   ]
  },
  {
   "cell_type": "markdown",
   "metadata": {},
   "source": [
    "We have seen that an inherited class can inherit and override methods from the super-class. Besides this a subclass often needs additional methods with additional functionalities, which do not exist in the super-class. An instance of the 'PhysicianRobot' class will need for example the method heal() so that the physician can do a proper job. We will also add an attribute called 'health_level' to the 'Robot' class, which can take a value between 0 and 1. In English, what we are trying to do is that robots will 'come to live' with a random value between 0 and 1: if the health_level of a robot is below 0.8, it will need a doctor. We write a method needs_a_doctor() which returns 'True' if the value is below 0.8 and 'False' otherwise. The 'healing' in the heal method is done by setting the 'health_level' to a random value between the old 'health_level' and 1. This value is calculated by the uniform function of the 'random' module:"
   ]
  },
  {
   "cell_type": "code",
   "execution_count": 15,
   "metadata": {},
   "outputs": [],
   "source": [
    "import random\n",
    "\n",
    "class Robot:\n",
    "    \n",
    "    def __init__(self, name):\n",
    "        self.name = name\n",
    "        self.health_level = random.random() \n",
    "        \n",
    "    def say_hi(self):\n",
    "        print(\"Hi, I am \" + self.name)\n",
    "        \n",
    "    def needs_a_doctor(self):\n",
    "        if self.health_level < 0.8:\n",
    "            return True\n",
    "        else:\n",
    "            return False\n",
    "        \n",
    "class PhysicianRobot(Robot):\n",
    "\n",
    "    def say_hi(self):\n",
    "        print(\"Everything will be okay! \") \n",
    "        print(self.name + \" takes care of you!\")\n",
    "\n",
    "\n",
    "    def heal(self, robo):\n",
    "        random.seed(19)\n",
    "        robo.health_level = random.uniform(robo.health_level, 1)\n",
    "        print(robo.name + \" has been healed by \" + self.name + \"!\")"
   ]
  },
  {
   "cell_type": "code",
   "execution_count": 16,
   "metadata": {},
   "outputs": [
    {
     "name": "stdout",
     "output_type": "stream",
     "text": [
      "health_level of Marvin at state 0 before healing:  0.6754041694311437\n",
      "Marvin at state 0 has been healed by Dr. Frankenstein!\n",
      "health_level of Marvin at state 0 after healing:  0.895196389581001\n",
      "health_level of Marvin at state 1 before healing:  0.7849113560871108\n",
      "Marvin at state 1 has been healed by Dr. Frankenstein!\n",
      "health_level of Marvin at state 1 after healing:  0.9305534319319748\n",
      "health_level of Marvin at state 2 before healing:  0.7849113560871108\n",
      "Marvin at state 2 has been healed by Dr. Frankenstein!\n",
      "health_level of Marvin at state 2 after healing:  0.9305534319319748\n",
      "[('Marvin at state 0', 0.895196389581001), ('Marvin at state 1', 0.9305534319319748), ('Marvin at state 2', 0.9305534319319748)]\n"
     ]
    }
   ],
   "source": [
    "doc = PhysicianRobot(\"Dr. Frankenstein\")        \n",
    "\n",
    "rob_list = []\n",
    "for i in range(3):\n",
    "    x = Robot(\"Marvin \" +  'at state ' + str(i))\n",
    "    if x.needs_a_doctor():\n",
    "        print(\"health_level of \" + x.name + \" before healing: \", x.health_level)\n",
    "        doc.heal(x)\n",
    "        print(\"health_level of \" + x.name + \" after healing: \", x.health_level)\n",
    "    rob_list.append((x.name, x.health_level))\n",
    "    \n",
    "print(rob_list)"
   ]
  },
  {
   "cell_type": "markdown",
   "metadata": {},
   "source": [
    "When we override a method, we sometimes want to reuse the method of the parent class and at some new stuff. To demonstrate this, we will write a new version called 'PhysicianRobot2'. The method say_hi() should return the text from the 'Robot' class version plus the text \" and I am a physician!\""
   ]
  },
  {
   "cell_type": "code",
   "execution_count": 17,
   "metadata": {},
   "outputs": [
    {
     "name": "stdout",
     "output_type": "stream",
     "text": [
      "Hi, I am Dr. Frankenstein\n",
      "and I am a physician!\n"
     ]
    }
   ],
   "source": [
    "class PhysicianRobot2(Robot):\n",
    "    def say_hi(self):\n",
    "        Robot.say_hi(self)\n",
    "        print(\"and I am a physician!\")\n",
    "\n",
    "        \n",
    "doc = PhysicianRobot2(\"Dr. Frankenstein\")      \n",
    "doc.say_hi()"
   ]
  },
  {
   "cell_type": "markdown",
   "metadata": {},
   "source": [
    "However, the code seems a bit redundant, so we will have trick here.  We don't want to write redundant code and therefore we called Robot.say_hi(self). We could also use the super() function. The function super() is not really necessary in this case to be fair. One could argue that it makes the code more maintainable, because we could change the name of the parent class, but this is seldom done anyway in existing classes. The real benefit of super() shows when we use it with multiple inheritances."
   ]
  },
  {
   "cell_type": "code",
   "execution_count": 18,
   "metadata": {},
   "outputs": [
    {
     "name": "stdout",
     "output_type": "stream",
     "text": [
      "Hi, I am Dr. Frankenstein\n",
      "and I am a physician!\n",
      " This is so exciting!\n"
     ]
    }
   ],
   "source": [
    "class PhysicianRobot3(Robot):\n",
    "\n",
    "    def say_hi(self):\n",
    "        super().say_hi()\n",
    "        print(\"and I am a physician!\\n This is so exciting!\")\n",
    "\n",
    "doc = PhysicianRobot3(\"Dr. Frankenstein\")      \n",
    "doc.say_hi()"
   ]
  },
  {
   "cell_type": "markdown",
   "metadata": {},
   "source": [
    "Now let's talk about multiple inheritance. Multiple inheritance is a feature in which a class can inherit attributes and methods from more than one parent class. This is an advanced topic, so we won't elaborate here. But just from a principle standpoint, a class definition, where a child class 'SubClassName' inherits from the parent classes 'BaseClass1', 'BaseClass2',... and so on, looks like this:"
   ]
  },
  {
   "cell_type": "code",
   "execution_count": 19,
   "metadata": {},
   "outputs": [
    {
     "data": {
      "image/png": "[encoded data removed]",
      "text/plain": [
       "<IPython.core.display.Image object>"
      ]
     },
     "execution_count": 19,
     "metadata": {},
     "output_type": "execute_result"
    }
   ],
   "source": [
    "from IPython.display import Image\n",
    "Image('SubClassName.PNG')"
   ]
  },
  {
   "cell_type": "markdown",
   "metadata": {},
   "source": [
    "It's clear that all the super-classes 'BaseClass1', 'BaseClass2', ... can inherit from other super-classes as well. What we get is an inheritance tree below:"
   ]
  },
  {
   "cell_type": "code",
   "execution_count": 1,
   "metadata": {
    "scrolled": true
   },
   "outputs": [
    {
     "data": {
      "image/png": "[encoded data removed]",
      "text/plain": [
       "<IPython.core.display.Image object>"
      ]
     },
     "execution_count": 1,
     "metadata": {
      "image/png": {
       "height": 550,
       "width": 550
      }
     },
     "output_type": "execute_result"
    }
   ],
   "source": [
    "from IPython.display import Image\n",
    "Image('multiple inheritance.PNG', width=550, height=550)"
   ]
  },
  {
   "cell_type": "markdown",
   "metadata": {},
   "source": [
    "Multiple inheritance is a big topic in Python. We won't go deep into this topic. As an introduction, all we need to memorize at this moment is the general rule.\n",
    "\n",
    "Now let's look at how we can examine class relationships. Python can certainly check if a class is a subclass of another. The idea is to use the function issubclass(). Another useful function is the isinstance() function:"
   ]
  },
  {
   "cell_type": "code",
   "execution_count": 2,
   "metadata": {},
   "outputs": [
    {
     "name": "stdout",
     "output_type": "stream",
     "text": [
      "True\n",
      "False\n"
     ]
    }
   ],
   "source": [
    "# Python example to check if a class is a subclass of another\n",
    " \n",
    "class Base(object):\n",
    "    pass   # Empty Class\n",
    " \n",
    "class Derived(Base):\n",
    "    pass   # Empty Class\n",
    " \n",
    "print(issubclass(Derived, Base)) # True\n",
    "print(issubclass(Base, Derived)) # False"
   ]
  },
  {
   "cell_type": "code",
   "execution_count": 3,
   "metadata": {},
   "outputs": [
    {
     "name": "stdout",
     "output_type": "stream",
     "text": [
      "False\n",
      "True\n"
     ]
    }
   ],
   "source": [
    "derived_ = Derived()\n",
    "base_ = Base()\n",
    "print(isinstance(base_, Derived)) # base_ is not an instance of Derived()\n",
    "print(isinstance(derived_, Base)) # but derived_ is an instance of Base()"
   ]
  },
  {
   "cell_type": "markdown",
   "metadata": {
    "collapsed": true
   },
   "source": [
    "We now go over some special methods. This is an important topic because classes in Python can implement certain operations with special methods. These methods are not actually called directly but by Python specific language syntaxes. For example, below we see the \\__str\\__() and \\__len\\__() are such examples."
   ]
  },
  {
   "cell_type": "code",
   "execution_count": 4,
   "metadata": {},
   "outputs": [
    {
     "name": "stdout",
     "output_type": "stream",
     "text": [
      "a book has been created\n"
     ]
    }
   ],
   "source": [
    "class Book(object):\n",
    "    def __init__(self, title, author, pages):\n",
    "        print('a book has been created')\n",
    "        self.title=title\n",
    "        self.author=author\n",
    "        self.pages=pages\n",
    "    def __str__(self):\n",
    "        return \"title=%s, author=%s, number of pages=%s\" %(self.title, self.author, self.pages)\n",
    "    def __len__(self):\n",
    "        return self.pages\n",
    "b2=Book('Python', 'Peter', 2000) # a book has been created"
   ]
  },
  {
   "cell_type": "code",
   "execution_count": 5,
   "metadata": {},
   "outputs": [
    {
     "name": "stdout",
     "output_type": "stream",
     "text": [
      "title=Python, author=Peter, number of pages=2000\n",
      "Peter\n",
      "2000\n"
     ]
    }
   ],
   "source": [
    "print(b2) # title=Python, author=Peter, number of pages=2000)\n",
    "print(b2.author)\n",
    "print(len(b2))"
   ]
  },
  {
   "cell_type": "markdown",
   "metadata": {},
   "source": [
    "The special methods with two underscores (dunders) preceding the method names as well as two underscores after the method names have a special name in Python. They are called **magic methods**. "
   ]
  },
  {
   "cell_type": "code",
   "execution_count": null,
   "metadata": {},
   "outputs": [],
   "source": []
  },
  {
   "cell_type": "code",
   "execution_count": null,
   "metadata": {},
   "outputs": [],
   "source": []
  },
  {
   "cell_type": "code",
   "execution_count": null,
   "metadata": {},
   "outputs": [],
   "source": []
  },
  {
   "cell_type": "markdown",
   "metadata": {},
   "source": [
    "#### References:\n",
    "\n",
    "   - https://stackoverflow.com/questions/625083/what-init-and-self-do-in-python\n",
    "   - https://www.tutorialspoint.com/python/python_classes_objects.htm\n",
    "   - https://www.datacamp.com/community/tutorials/python-oop-tutorial \n",
    "   - https://realpython.com/python-super/\n",
    "   - https://realpython.com/operator-function-overloading/\n",
    "   - https://realpython.com/instance-class-and-static-methods-demystified/\n",
    "   - https://realpython.com/inheritance-composition-python/\n",
    "   - https://www.python-course.eu/python3_inheritance.php\n",
    "   - https://www.python-course.eu/python3_multiple_inheritance.php\n",
    "   - https://www.python-course.eu/python3_magic_methods.php"
   ]
  },
  {
   "cell_type": "code",
   "execution_count": null,
   "metadata": {},
   "outputs": [],
   "source": []
  }
 ],
 "metadata": {
  "kernelspec": {
   "display_name": "Python 3",
   "language": "python",
   "name": "python3"
  },
  "language_info": {
   "codemirror_mode": {
    "name": "ipython",
    "version": 3
   },
   "file_extension": ".py",
   "mimetype": "text/x-python",
   "name": "python",
   "nbconvert_exporter": "python",
   "pygments_lexer": "ipython3",
   "version": "3.7.6"
  }
 },
 "nbformat": 4,
 "nbformat_minor": 2
}
