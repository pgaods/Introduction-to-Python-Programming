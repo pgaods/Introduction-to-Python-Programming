{
 "cells": [
  {
   "cell_type": "markdown",
   "metadata": {},
   "source": [
    "We now study **sets** and **Booleans**. The concepts of sets here are exactly the same as those in pure mathematics. Sets must contain unique objects. You can loosely think of sets as almost dictionaries without having the keys (because they will be displayed with curly brackets {}). You may have different data types within a set."
   ]
  },
  {
   "cell_type": "code",
   "execution_count": 4,
   "metadata": {},
   "outputs": [
    {
     "name": "stdout",
     "output_type": "stream",
     "text": [
      "set()\n"
     ]
    },
    {
     "data": {
      "text/plain": [
       "set"
      ]
     },
     "execution_count": 4,
     "metadata": {},
     "output_type": "execute_result"
    }
   ],
   "source": [
    "set_x=set() # creating an empty set\n",
    "print(set_x)\n",
    "type(set_x)"
   ]
  },
  {
   "cell_type": "markdown",
   "metadata": {},
   "source": [
    "Since sets are objects in Python, naturally, we need to talk about methods associated with sets. In comparison to lists, sets do not allow duplicates but lists can have duplicate values. The add() method adds elements to the existing set, except that it can only take on argument each time. This is very similar to the append() methond for lists. "
   ]
  },
  {
   "cell_type": "code",
   "execution_count": 5,
   "metadata": {},
   "outputs": [
    {
     "name": "stdout",
     "output_type": "stream",
     "text": [
      "{'Python', 1, 2}\n"
     ]
    }
   ],
   "source": [
    "set_x.add(1) # note that the add() method can only take on one argument each time\n",
    "set_x.add(2)\n",
    "set_x.add('Python')\n",
    "print(set_x)"
   ]
  },
  {
   "cell_type": "code",
   "execution_count": 6,
   "metadata": {},
   "outputs": [
    {
     "name": "stdout",
     "output_type": "stream",
     "text": [
      "set()\n"
     ]
    }
   ],
   "source": [
    "set_x.clear() # removing all elements of the set to get an empty set\n",
    "print(set_x)"
   ]
  },
  {
   "cell_type": "code",
   "execution_count": 7,
   "metadata": {},
   "outputs": [
    {
     "name": "stdout",
     "output_type": "stream",
     "text": [
      "{1, 2, 3, 4}\n",
      "{1, 3, 4}\n"
     ]
    }
   ],
   "source": [
    "s = {1,2,3,4}\n",
    "sc = s.copy() # returns a copy of the set (note it is a copy, so changes to the original don't effect the copy)\n",
    "print(sc)\n",
    "sc.discard(2) # discard one element from the original set\n",
    "print(sc)"
   ]
  },
  {
   "cell_type": "code",
   "execution_count": 8,
   "metadata": {},
   "outputs": [
    {
     "data": {
      "text/plain": [
       "{'Emma', 3, 5, 6, 11, 24}"
      ]
     },
     "execution_count": 8,
     "metadata": {},
     "output_type": "execute_result"
    }
   ],
   "source": [
    "list1=[3,6,6,11,11,24,5,'Emma']\n",
    "set(list1) # dedupping from list to a set"
   ]
  },
  {
   "cell_type": "markdown",
   "metadata": {},
   "source": [
    "We can simulate the Venn diagram concepts using the intersection() and union() and difference() methods:"
   ]
  },
  {
   "cell_type": "code",
   "execution_count": 9,
   "metadata": {},
   "outputs": [
    {
     "name": "stdout",
     "output_type": "stream",
     "text": [
      "{1, 2, 3, 4} {1, 2, 4, 5} {1, 2, 4} {1, 2, 4} {1, 2, 3, 4, 5} {3}\n"
     ]
    }
   ],
   "source": [
    "s1 = {1,2,3,4}\n",
    "s2 = {1,2,4,5}\n",
    "s3=s1.intersection(s2)\n",
    "s4=s2.intersection(s1) # same as above\n",
    "s5=s1.union(s2)\n",
    "s6=s1.difference(s2)\n",
    "print(s1, s2, s3, s4, s5, s6) "
   ]
  },
  {
   "cell_type": "markdown",
   "metadata": {},
   "source": [
    "There are also methods that update the original sets."
   ]
  },
  {
   "cell_type": "code",
   "execution_count": 12,
   "metadata": {},
   "outputs": [
    {
     "name": "stdout",
     "output_type": "stream",
     "text": [
      "{2}\n",
      "{1, 3}\n",
      "{9, 2, 1}\n"
     ]
    }
   ],
   "source": [
    "set1={1,2,3,9}\n",
    "set2={1,3,5,7,9}\n",
    "set1.difference_update(set2) # returns set1 after removing elements found in set2\n",
    "print(set1)\n",
    "set3={1,2,3,9}\n",
    "set4={1,3,7}\n",
    "set4.intersection_update(set3, set2)\n",
    "print(set4)\n",
    "set5={9}\n",
    "set6={1,2}\n",
    "set5.update(set6) # same thing as union\n",
    "print(set5)"
   ]
  },
  {
   "cell_type": "markdown",
   "metadata": {},
   "source": [
    "Here are some examples of using comparison operators:"
   ]
  },
  {
   "cell_type": "code",
   "execution_count": 13,
   "metadata": {},
   "outputs": [
    {
     "name": "stdout",
     "output_type": "stream",
     "text": [
      "{'Janice', 'Jane', 'Jack', 'Marvin', 'John'}\n"
     ]
    }
   ],
   "source": [
    "engineers = set(['John', 'Jane', 'Jack', 'Janice', 'Jack'])\n",
    "programmers = set(['Jack', 'Sam', 'Susan', 'Janice'])\n",
    "managers = set(['Jane', 'Jack', 'Susan', 'Zack'])\n",
    "employees = engineers | programmers | managers # union (or)\n",
    "engineering_management = engineers & managers # intersection (and)\n",
    "fulltime_management = managers - engineers - programmers # difference\n",
    "engineers.add('Marvin')             \n",
    "print(engineers) "
   ]
  },
  {
   "cell_type": "markdown",
   "metadata": {},
   "source": [
    "Booleans just represent logic judgment (True, False, or None)."
   ]
  },
  {
   "cell_type": "code",
   "execution_count": 14,
   "metadata": {},
   "outputs": [
    {
     "name": "stdout",
     "output_type": "stream",
     "text": [
      "True\n",
      "False\n",
      "True\n",
      "True\n"
     ]
    }
   ],
   "source": [
    "a=True\n",
    "print(a)\n",
    "print(11==2)\n",
    "print(3>=0)\n",
    "print(8!=9)"
   ]
  },
  {
   "cell_type": "markdown",
   "metadata": {
    "collapsed": true
   },
   "source": [
    "An interesting feature of Python is to be able to chain comparison operators. One can use these chained operations to perform more complex Boolean comparisons."
   ]
  },
  {
   "cell_type": "code",
   "execution_count": 15,
   "metadata": {},
   "outputs": [
    {
     "name": "stdout",
     "output_type": "stream",
     "text": [
      "True\n",
      "True\n",
      "True\n"
     ]
    }
   ],
   "source": [
    "print(1<2<3)\n",
    "print(1<3>2)\n",
    "print(1==2 or 2>1)"
   ]
  },
  {
   "cell_type": "markdown",
   "metadata": {},
   "source": [
    "There is something very interesting about boolean operations. There is actually a concept of 'order' (not true order) when it comes to Boolean operations when 'None' logic is involved. Suppose x and y are two expressions/statements. The expression (x and y) first evaluates x; if x is false, its value is returned; otherwise, y is evaluated and the resulting value is returned. The expression x or y first evaluates x; if x is true, its value is returned; otherwise, y is evaluated and the resulting value is returned."
   ]
  },
  {
   "cell_type": "code",
   "execution_count": 11,
   "metadata": {},
   "outputs": [
    {
     "name": "stdout",
     "output_type": "stream",
     "text": [
      "False\n",
      "None\n",
      "True\n",
      "True\n",
      "True\n",
      "None\n",
      "None\n",
      "None\n",
      "False\n",
      "False\n",
      "False\n"
     ]
    }
   ],
   "source": [
    "print(None or False) # False\n",
    "print(False or None) # None\n",
    "print(True or False) # True\n",
    "print(True or None) # True\n",
    "print(False or True) # True\n",
    "print(True and None) # None\n",
    "print(None and True) # None\n",
    "print(None and False) # None\n",
    "print(False and None) # False\n",
    "print(True and False) # False\n",
    "print(False and True) # False"
   ]
  },
  {
   "cell_type": "markdown",
   "metadata": {
    "collapsed": true
   },
   "source": [
    "Lastly, keep in mind that many built-in methods from different objects produce Booleans:"
   ]
  },
  {
   "cell_type": "code",
   "execution_count": 16,
   "metadata": {},
   "outputs": [
    {
     "name": "stdout",
     "output_type": "stream",
     "text": [
      "False\n",
      "True\n",
      "True\n"
     ]
    }
   ],
   "source": [
    "s1={1,2,3,4}\n",
    "s2={1,3}\n",
    "s3={1,2,3}\n",
    "print(s1.isdisjoint(s2)) # False\n",
    "print(s2.issubset(s3)) # True\n",
    "print(s1.issuperset(s3)) # True"
   ]
  },
  {
   "cell_type": "code",
   "execution_count": null,
   "metadata": {
    "collapsed": true
   },
   "outputs": [],
   "source": []
  }
 ],
 "metadata": {
  "kernelspec": {
   "display_name": "Python 3",
   "language": "python",
   "name": "python3"
  },
  "language_info": {
   "codemirror_mode": {
    "name": "ipython",
    "version": 3
   },
   "file_extension": ".py",
   "mimetype": "text/x-python",
   "name": "python",
   "nbconvert_exporter": "python",
   "pygments_lexer": "ipython3",
   "version": "3.6.3"
  }
 },
 "nbformat": 4,
 "nbformat_minor": 2
}
